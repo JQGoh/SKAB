{
 "cells": [
  {
   "cell_type": "code",
   "execution_count": 5,
   "metadata": {},
   "outputs": [],
   "source": [
    "import pandas as pd\n",
    "import numpy as np\n",
    "import datetime\n",
    "import matplotlib.pyplot as plt"
   ]
  },
  {
   "cell_type": "code",
   "execution_count": 6,
   "metadata": {},
   "outputs": [],
   "source": [
    "all_files=[]\n",
    "import os\n",
    "for root, dirs, files in os.walk(\"data/\"):\n",
    "    for file in files:\n",
    "        if file.endswith(\".csv\"):\n",
    "             all_files.append(os.path.join(root, file))"
   ]
  },
  {
   "cell_type": "code",
   "execution_count": null,
   "metadata": {},
   "outputs": [],
   "source": [
    "experiments = {'data/other\\\\13.csv':'Sharply behavior of rotor imbalance',\n",
    "               'data/other\\\\14.csv':'Linear behavior of rotor imbalance',\n",
    "               'data/other\\\\15.csv':'Step behavior of rotor imbalance',\n",
    "               'data/other\\\\16.csv':'Dirac delta function behavior of rotor imbalance',\n",
    "               'data/other\\\\17.csv':'Exponential behavior of rotor imbalance',\n",
    "               'data/other\\\\18.csv':'The slow increase in the amount of water in the circuit',\n",
    "               'data/other\\\\19.csv':'The sudden increase in the amount of water in the circuit',\n",
    "               'data/other\\\\20.csv':'Draining water from the tank until cavitation',\n",
    "               'data/other\\\\21.csv':'Two-phase flow supply to the pump inlet (cavitation)',\n",
    "               'data/other\\\\22.csv':'Water supply of increased temperature',"
   ]
  },
  {
   "cell_type": "code",
   "execution_count": null,
   "metadata": {},
   "outputs": [],
   "source": []
  },
  {
   "cell_type": "code",
   "execution_count": 8,
   "metadata": {},
   "outputs": [],
   "source": [
    "my_dict = {}"
   ]
  },
  {
   "cell_type": "code",
   "execution_count": 18,
   "metadata": {},
   "outputs": [
    {
     "name": "stderr",
     "output_type": "stream",
     "text": [
      "No handles with labels found to put in legend.\n"
     ]
    },
    {
     "data": {
      "text/plain": [
       "<matplotlib.legend.Legend at 0x283e0754388>"
      ]
     },
     "execution_count": 18,
     "metadata": {},
     "output_type": "execute_result"
    },
    {
     "data": {
      "image/png": "[encoded data removed]",
      "text/plain": [
       "<Figure size 432x288 with 1 Axes>"
      ]
     },
     "metadata": {
      "needs_background": "light"
     },
     "output_type": "display_data"
    }
   ],
   "source": [
    "dfs=[]\n",
    "for path in all_files:\n",
    "    if 'other' in path:\n",
    "        if '\\7.' in path or '\\18.' in path:\n",
    "            df = pd.read_csv(path,index_col='datetime',sep=';',parse_dates=True)\n",
    "            dfs.append(df)\n",
    "            print(len(df),df.index[-1]-df.index[0])\n",
    "            plt.plot(df['Volume Flow RateRMS'].rolling(5).mean().values,label=path)\n",
    "plt.legend()\n",
    "    \n",
    "    "
   ]
  },
  {
   "cell_type": "code",
   "execution_count": null,
   "metadata": {},
   "outputs": [],
   "source": []
  },
  {
   "cell_type": "code",
   "execution_count": null,
   "metadata": {},
   "outputs": [],
   "source": []
  }
 ],
 "metadata": {
  "kernelspec": {
   "display_name": "Python 3",
   "language": "python",
   "name": "python3"
  },
  "language_info": {
   "codemirror_mode": {
    "name": "ipython",
    "version": 3
   },
   "file_extension": ".py",
   "mimetype": "text/x-python",
   "name": "python",
   "nbconvert_exporter": "python",
   "pygments_lexer": "ipython3",
   "version": "3.7.6"
  },
  "toc": {
   "base_numbering": 1,
   "nav_menu": {},
   "number_sections": true,
   "sideBar": true,
   "skip_h1_title": false,
   "title_cell": "Table of Contents",
   "title_sidebar": "Contents",
   "toc_cell": false,
   "toc_position": {},
   "toc_section_display": true,
   "toc_window_display": false
  }
 },
 "nbformat": 4,
 "nbformat_minor": 4
}
