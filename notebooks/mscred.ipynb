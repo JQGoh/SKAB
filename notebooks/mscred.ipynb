{
 "cells": [
  {
   "cell_type": "markdown",
   "metadata": {},
   "source": [
    "# Pipeline for the anomaly detection on the SKAB using MSCRED"
   ]
  },
  {
   "cell_type": "markdown",
   "metadata": {},
   "source": [
    "Details regarding the SKAB one can find in the [SKAB repository](https://github.com/waico/SKAB)."
   ]
  },
  {
   "cell_type": "code",
   "execution_count": null,
   "metadata": {},
   "outputs": [],
   "source": [
    "# libraries importing\n",
    "import sys\n",
    "import warnings\n",
    "\n",
    "import numpy as np\n",
    "import pandas as pd\n",
    "from sklearn.preprocessing import MinMaxScaler\n",
    "\n",
    "sys.path.append(\"..\")\n",
    "from core.MSCRED import MSCRED\n",
    "from core.metrics import chp_score\n",
    "from core.utils import load_skab, plot_results\n",
    "\n",
    "warnings.filterwarnings(\"ignore\", category=UserWarning)"
   ]
  },
  {
   "cell_type": "markdown",
   "metadata": {},
   "source": [
    "## Data"
   ]
  },
  {
   "cell_type": "code",
   "execution_count": null,
   "metadata": {},
   "outputs": [],
   "source": [
    "list_of_df, anomaly_free_df = load_skab()"
   ]
  },
  {
   "cell_type": "markdown",
   "metadata": {},
   "source": [
    "## Method"
   ]
  },
  {
   "cell_type": "markdown",
   "metadata": {
    "tags": []
   },
   "source": [
    "### Method initialization"
   ]
  },
  {
   "cell_type": "code",
   "execution_count": null,
   "metadata": {},
   "outputs": [],
   "source": [
    "# hyperparameters selection\n",
    "step_max = 5  # maximum step in ConvLSTM\n",
    "gap_time = 1  # gap time between each segment\n",
    "win_size = [5, 10, 30]  # window size of each segment\n",
    "scale_n = len(win_size)\n",
    "Q = 0.99  # quantile for upper control limit (UCL) selection"
   ]
  },
  {
   "cell_type": "code",
   "execution_count": null,
   "metadata": {},
   "outputs": [],
   "source": [
    "def create_dataset(df, win_size, gap_time, step_max):\n",
    "    data = np.array(df, dtype=np.float64)\n",
    "    sensor_n = data.shape[1]\n",
    "    data_all = []\n",
    "    scale_n = len(win_size)\n",
    "    # min-max normalization\n",
    "    data = MinMaxScaler().fit_transform(data).T\n",
    "\n",
    "    for win in win_size:\n",
    "        matrix_all = []\n",
    "        print(f\"generating signature with window {win} ...\")\n",
    "        for t in range(win_size[-1], len(df), gap_time):\n",
    "            matrix_t = np.zeros((sensor_n, sensor_n))\n",
    "            for i in range(sensor_n):\n",
    "                for j in range(i, sensor_n):\n",
    "                    matrix_t[i][j] = np.inner(\n",
    "                        data[i, t - win : t], data[j, t - win : t]\n",
    "                    ) / (win)  # rescale by win\n",
    "                    matrix_t[j][i] = matrix_t[i][j]\n",
    "            matrix_all.append(matrix_t)\n",
    "        data_all.append(matrix_all)\n",
    "\n",
    "    data_all = np.transpose(data_all, (1, 2, 3, 0))\n",
    "\n",
    "    print(\"create dataset ...\")\n",
    "\n",
    "    dataset = data_all[:step_max]\n",
    "    for i in range(step_max + 1, len(data_all) + 1):\n",
    "        dataset = np.append(dataset, data_all[i - step_max : i], axis=0)\n",
    "\n",
    "    return dataset.reshape([-1, step_max, sensor_n, sensor_n, scale_n])"
   ]
  },
  {
   "cell_type": "markdown",
   "metadata": {},
   "source": [
    "### Method fitting and applying"
   ]
  },
  {
   "cell_type": "code",
   "execution_count": null,
   "metadata": {
    "scrolled": true
   },
   "outputs": [],
   "source": [
    "# inference\n",
    "predicted_outlier, predicted_cp = [], []\n",
    "mses = []\n",
    "x = 0\n",
    "for df in list_of_df:\n",
    "    x += 1\n",
    "    print(f\"----------------------dataset {x}--------------------------------\")\n",
    "    df = df.drop([\"anomaly\", \"changepoint\"], axis=1)\n",
    "    sensor_n = df.shape[1]\n",
    "    dataset = create_dataset(df, win_size, gap_time, step_max)\n",
    "    train_stop = (500 - win_size[-1]) // gap_time - step_max\n",
    "\n",
    "    X_train = dataset[:train_stop]\n",
    "    Y_train = dataset[:train_stop, -1]\n",
    "    X_test = dataset[train_stop:]\n",
    "    Y_test = dataset[train_stop:, -1]\n",
    "\n",
    "    PARAMS = [sensor_n, scale_n, step_max]\n",
    "\n",
    "    # model defining and fitting\n",
    "    model = MSCRED(PARAMS)\n",
    "    model.fit(X_train, Y_train)\n",
    "\n",
    "    # results predicting\n",
    "    Y_pred = model.predict(dataset)\n",
    "    resid_mat = dataset[:, -1] - Y_pred\n",
    "    mse = np.mean(np.square(resid_mat), axis=(1, 2))\n",
    "    t = df.index[win_size[-1] :: gap_time][step_max - 1 :]\n",
    "    mse_df = pd.DataFrame(mse, index=t, columns=[f\"win_{i}\" for i in win_size])\n",
    "    mses.append(mse_df)\n",
    "\n",
    "    UCL = mse_df[:train_stop].quantile(Q) * 3 / 2\n",
    "    prediction = (\n",
    "        pd.DataFrame((mse_df > UCL), t).fillna(0).any(axis=1).astype(int)\n",
    "    )\n",
    "\n",
    "    # # plot\n",
    "    # fig, axes = plt.subplots(1, len(win_size), figsize=(24, 3))\n",
    "    # fig.suptitle(f\"dataset №{x}\")\n",
    "    # for i, col in enumerate(mse_df.columns):\n",
    "    #     ax = axes.flatten()[int(i)]\n",
    "    #     ax.hlines(UCL[col], t[0], t[-1], \"r\")\n",
    "    #     mse_df[col].plot(ax=ax)\n",
    "    #     ax.legend()\n",
    "\n",
    "    # predicted outliers saving\n",
    "    predicted_outlier.append(prediction)\n",
    "\n",
    "    # predicted CPs saving\n",
    "    prediction_cp = abs(prediction.diff())\n",
    "    prediction_cp[0] = prediction[0]\n",
    "    predicted_cp.append(prediction_cp)"
   ]
  },
  {
   "cell_type": "markdown",
   "metadata": {},
   "source": [
    "### Results visualization"
   ]
  },
  {
   "cell_type": "code",
   "execution_count": null,
   "metadata": {},
   "outputs": [
    {
     "data": {
      "image/png": "[encoded data removed]",
      "text/plain": [
       "<Figure size 1200x600 with 2 Axes>"
      ]
     },
     "metadata": {},
     "output_type": "display_data"
    }
   ],
   "source": [
    "# [donotremove]\n",
    "true_outlier = [df.anomaly for df in list_of_df]\n",
    "true_cp = [df.changepoint for df in list_of_df]\n",
    "plot_results(\n",
    "    (true_outlier[1], predicted_outlier[1]),\n",
    "    (true_cp[1], predicted_cp[1]),\n",
    ")"
   ]
  },
  {
   "cell_type": "markdown",
   "metadata": {},
   "source": [
    "## Evaluation (metrics calculation)"
   ]
  },
  {
   "cell_type": "markdown",
   "metadata": {},
   "source": [
    "### Binary classification (outlier detection) metrics"
   ]
  },
  {
   "cell_type": "code",
   "execution_count": null,
   "metadata": {},
   "outputs": [
    {
     "name": "stdout",
     "output_type": "stream",
     "text": [
      "False Alarm Rate 12.19 %\n",
      "Missing Alarm Rate 28.99 %\n",
      "F1 metric 0.74\n"
     ]
    }
   ],
   "source": [
    "# [donotremove]\n",
    "# binary classification metrics calculation\n",
    "binary = chp_score(true_outlier, predicted_outlier, metric=\"binary\")"
   ]
  },
  {
   "cell_type": "markdown",
   "metadata": {},
   "source": [
    "### Changepoint detection metrics"
   ]
  },
  {
   "cell_type": "code",
   "execution_count": null,
   "metadata": {},
   "outputs": [
    {
     "name": "stdout",
     "output_type": "stream",
     "text": [
      "Since you didn't choose window_width and portion, portion will be default (1)\n",
      "Amount of true anomalies 129\n",
      "A number of missed CPs = 54\n",
      "A number of FPs = 146\n",
      "Average time 0 days 00:00:30.389333333\n"
     ]
    }
   ],
   "source": [
    "# [donotremove]\n",
    "# average detection delay metric calculation\n",
    "add = chp_score(\n",
    "    true_cp,\n",
    "    predicted_cp,\n",
    "    metric=\"average_time\",\n",
    "    anomaly_window_destination=\"righter\",\n",
    "    portion=1,\n",
    ")"
   ]
  },
  {
   "cell_type": "code",
   "execution_count": null,
   "metadata": {},
   "outputs": [
    {
     "name": "stdout",
     "output_type": "stream",
     "text": [
      "Standard  -  1.73\n",
      "LowFP  -  -29.72\n",
      "LowFN  -  15.62\n"
     ]
    }
   ],
   "source": [
    "# [donotremove]\n",
    "# nab metric calculation\n",
    "nab = chp_score(\n",
    "    true_cp,\n",
    "    predicted_cp,\n",
    "    metric=\"nab\",\n",
    "    window_width=\"30S\",\n",
    "    anomaly_window_destination=\"center\",\n",
    ")"
   ]
  }
 ],
 "metadata": {
  "kernelspec": {
   "display_name": "",
   "language": "python",
   "name": ""
  },
  "language_info": {
   "codemirror_mode": {
    "name": "ipython",
    "version": 3
   },
   "file_extension": ".py",
   "mimetype": "text/x-python",
   "name": "python",
   "nbconvert_exporter": "python",
   "pygments_lexer": "ipython3",
   "version": "3.10.14"
  }
 },
 "nbformat": 4,
 "nbformat_minor": 4
}
