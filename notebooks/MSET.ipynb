{
 "cells": [
  {
   "cell_type": "markdown",
   "metadata": {},
   "source": [
    "# Pipeline for the anomaly detection on the SKAB using MSET"
   ]
  },
  {
   "cell_type": "markdown",
   "metadata": {},
   "source": [
    "Details regarding the SKAB one can find in the [SKAB repository](https://github.com/waico/SKAB)."
   ]
  },
  {
   "cell_type": "markdown",
   "metadata": {
    "tags": []
   },
   "source": [
    "## Libraries importing"
   ]
  },
  {
   "cell_type": "code",
   "execution_count": null,
   "metadata": {},
   "outputs": [],
   "source": [
    "# libraries importing\n",
    "import math\n",
    "import sys\n",
    "import warnings\n",
    "\n",
    "import matplotlib.pyplot as plt\n",
    "import numpy as np\n",
    "import pandas as pd\n",
    "\n",
    "sys.path.append(\"..\")\n",
    "from core.MSET import MSET\n",
    "from core.metrics import chp_score\n",
    "from core.utils import load_skab\n",
    "\n",
    "warnings.filterwarnings(\"ignore\", category=UserWarning)"
   ]
  },
  {
   "cell_type": "markdown",
   "metadata": {},
   "source": [
    "## Data"
   ]
  },
  {
   "cell_type": "code",
   "execution_count": null,
   "metadata": {},
   "outputs": [],
   "source": [
    "list_of_df, anomaly_free_df = load_skab()"
   ]
  },
  {
   "cell_type": "markdown",
   "metadata": {},
   "source": [
    "## Method"
   ]
  },
  {
   "cell_type": "markdown",
   "metadata": {
    "tags": []
   },
   "source": [
    "### Method initialization"
   ]
  },
  {
   "cell_type": "code",
   "execution_count": null,
   "metadata": {},
   "outputs": [],
   "source": [
    "def movmean(array, window):\n",
    "    n = np.size(array)\n",
    "    xx = array.copy()\n",
    "    y = []\n",
    "    for i in range(0, window):\n",
    "        y.append(np.roll(xx.tolist() + [np.nan] * window, i))\n",
    "    y = np.nanmean(y, axis=0)\n",
    "    window_ceil = math.ceil(window / 2)\n",
    "\n",
    "    return y[window_ceil - 1 : n + window_ceil - 1]"
   ]
  },
  {
   "cell_type": "markdown",
   "metadata": {},
   "source": [
    "### Method fitting and applying"
   ]
  },
  {
   "cell_type": "code",
   "execution_count": null,
   "metadata": {
    "scrolled": true
   },
   "outputs": [],
   "source": [
    "# inference\n",
    "predicted_outlier, predicted_cp = [], []\n",
    "rel_errors = []\n",
    "x = 0\n",
    "for df in list_of_df:\n",
    "    x += 1\n",
    "    df = df.drop([\"anomaly\", \"changepoint\"], axis=1)\n",
    "    train_stop = 400\n",
    "\n",
    "    ms = MSET()\n",
    "    ms.fit(df[:train_stop])\n",
    "\n",
    "    # results predicting\n",
    "    Y_pred = ms.predict(df)\n",
    "    err = np.linalg.norm(df - Y_pred, axis=1)\n",
    "    rel_err = movmean(err / np.linalg.norm(Y_pred, axis=1), window=60)\n",
    "    rel_errors.append(rel_err)\n",
    "\n",
    "    UCL = 0.01\n",
    "    prediction = (\n",
    "        pd.DataFrame((rel_err > UCL), df.index)\n",
    "        .fillna(0)\n",
    "        .any(axis=1)\n",
    "        .astype(int)\n",
    "    )\n",
    "\n",
    "    # predicted outliers saving\n",
    "    predicted_outlier.append(prediction)\n",
    "\n",
    "    # predicted CPs saving\n",
    "    prediction_cp = abs(prediction.diff())\n",
    "    prediction_cp[0] = prediction[0]\n",
    "    predicted_cp.append(prediction_cp)"
   ]
  },
  {
   "cell_type": "markdown",
   "metadata": {},
   "source": [
    "### Results visualization"
   ]
  },
  {
   "cell_type": "code",
   "execution_count": null,
   "metadata": {},
   "outputs": [],
   "source": [
    "# [donotremove]\n",
    "# true outlier indices selection\n",
    "true_outlier = [df.anomaly for df in list_of_df]\n",
    "\n",
    "predicted_outlier[0].plot(\n",
    "    figsize=(12, 3), label=\"predictions\", marker=\"o\", markersize=5\n",
    ")\n",
    "true_outlier[0].plot(marker=\"o\", markersize=2)\n",
    "plt.legend();"
   ]
  },
  {
   "cell_type": "code",
   "execution_count": null,
   "metadata": {},
   "outputs": [],
   "source": [
    "# [donotremove]\n",
    "# true changepoint indices selection\n",
    "true_cp = [df.changepoint for df in list_of_df]\n",
    "\n",
    "predicted_cp[0].plot(\n",
    "    figsize=(12, 3), label=\"predictions\", marker=\"o\", markersize=5\n",
    ")\n",
    "true_cp[0].plot(marker=\"o\", markersize=2)\n",
    "plt.legend();"
   ]
  },
  {
   "cell_type": "markdown",
   "metadata": {},
   "source": [
    "## Evaluation (metrics calculation)"
   ]
  },
  {
   "cell_type": "markdown",
   "metadata": {},
   "source": [
    "### Binary classification (outlier detection) metrics"
   ]
  },
  {
   "cell_type": "code",
   "execution_count": null,
   "metadata": {},
   "outputs": [],
   "source": [
    "# [donotremove]\n",
    "# binary classification metrics calculation\n",
    "binary = chp_score(true_outlier, predicted_outlier, metric=\"binary\")"
   ]
  },
  {
   "cell_type": "markdown",
   "metadata": {},
   "source": [
    "### Changepoint detection metrics"
   ]
  },
  {
   "cell_type": "code",
   "execution_count": null,
   "metadata": {},
   "outputs": [],
   "source": [
    "# [donotremove]\n",
    "# average detection delay metric calculation\n",
    "add = chp_score(\n",
    "    true_cp,\n",
    "    predicted_cp,\n",
    "    metric=\"average_time\",\n",
    "    anomaly_window_destination=\"righter\",\n",
    "    portion=1,\n",
    ")"
   ]
  },
  {
   "cell_type": "code",
   "execution_count": null,
   "metadata": {},
   "outputs": [],
   "source": [
    "# [donotremove]\n",
    "# nab metric calculation\n",
    "nab = chp_score(\n",
    "    true_cp,\n",
    "    predicted_cp,\n",
    "    metric=\"nab\",\n",
    "    window_width=\"30S\",\n",
    "    anomaly_window_destination=\"center\",\n",
    ")"
   ]
  }
 ],
 "metadata": {
  "kernelspec": {
   "display_name": "",
   "language": "python",
   "name": ""
  },
  "language_info": {
   "codemirror_mode": {
    "name": "ipython",
    "version": 3
   },
   "file_extension": ".py",
   "mimetype": "text/x-python",
   "name": "python",
   "nbconvert_exporter": "python",
   "pygments_lexer": "ipython3",
   "version": "3.10.14"
  }
 },
 "nbformat": 4,
 "nbformat_minor": 4
}
