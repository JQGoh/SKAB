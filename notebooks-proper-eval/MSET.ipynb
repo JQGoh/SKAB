{
 "cells": [
  {
   "cell_type": "markdown",
   "metadata": {},
   "source": [
    "# Pipeline for the anomaly detection on the SKAB using MSET"
   ]
  },
  {
   "cell_type": "markdown",
   "metadata": {},
   "source": [
    "Details regarding the SKAB one can find in the [SKAB repository](https://github.com/waico/SKAB)."
   ]
  },
  {
   "cell_type": "markdown",
   "metadata": {
    "tags": []
   },
   "source": [
    "## Libraries importing"
   ]
  },
  {
   "cell_type": "code",
   "execution_count": 1,
   "metadata": {},
   "outputs": [],
   "source": [
    "# libraries importing\n",
    "import math\n",
    "import sys\n",
    "import warnings\n",
    "\n",
    "import numpy as np\n",
    "import pandas as pd\n",
    "\n",
    "sys.path.append(\"..\")\n",
    "from core.MSET import MSET\n",
    "from core.metrics import chp_score\n",
    "from core.utils import load_preprocess_skab, plot_results\n",
    "\n",
    "warnings.filterwarnings(\"ignore\", category=UserWarning)"
   ]
  },
  {
   "cell_type": "markdown",
   "metadata": {},
   "source": [
    "## Data"
   ]
  },
  {
   "cell_type": "code",
   "execution_count": 2,
   "metadata": {},
   "outputs": [],
   "source": [
    "Xy_traintest_list = load_preprocess_skab()"
   ]
  },
  {
   "cell_type": "markdown",
   "metadata": {},
   "source": [
    "## Method"
   ]
  },
  {
   "cell_type": "markdown",
   "metadata": {
    "tags": []
   },
   "source": [
    "### Method initialization"
   ]
  },
  {
   "cell_type": "code",
   "execution_count": 3,
   "metadata": {},
   "outputs": [],
   "source": [
    "def movmean(array, window):\n",
    "    n = np.size(array)\n",
    "    xx = array.copy()\n",
    "    y = []\n",
    "    for i in range(0, window):\n",
    "        y.append(np.roll(xx.tolist() + [np.nan] * window, i))\n",
    "    y = np.nanmean(y, axis=0)\n",
    "    window_ceil = math.ceil(window / 2)\n",
    "\n",
    "    return y[window_ceil - 1 : n + window_ceil - 1]"
   ]
  },
  {
   "cell_type": "markdown",
   "metadata": {},
   "source": [
    "### Method fitting and applying"
   ]
  },
  {
   "cell_type": "code",
   "execution_count": 4,
   "metadata": {
    "scrolled": true
   },
   "outputs": [
    {
     "name": "stderr",
     "output_type": "stream",
     "text": [
      "2024-04-29 19:03:31.949030: I tensorflow/core/platform/cpu_feature_guard.cc:210] This TensorFlow binary is optimized to use available CPU instructions in performance-critical operations.\n",
      "To enable the following instructions: AVX2 AVX512F AVX512_VNNI FMA, in other operations, rebuild TensorFlow with the appropriate compiler flags.\n",
      "/var/folders/9t/kc1m3g417jn3cxcthd05f6l40000gn/T/ipykernel_58167/237449712.py:7: RuntimeWarning: Mean of empty slice\n",
      "  y = np.nanmean(y, axis=0)\n",
      "/var/folders/9t/kc1m3g417jn3cxcthd05f6l40000gn/T/ipykernel_58167/237449712.py:7: RuntimeWarning: Mean of empty slice\n",
      "  y = np.nanmean(y, axis=0)\n",
      "/var/folders/9t/kc1m3g417jn3cxcthd05f6l40000gn/T/ipykernel_58167/237449712.py:7: RuntimeWarning: Mean of empty slice\n",
      "  y = np.nanmean(y, axis=0)\n",
      "/var/folders/9t/kc1m3g417jn3cxcthd05f6l40000gn/T/ipykernel_58167/237449712.py:7: RuntimeWarning: Mean of empty slice\n",
      "  y = np.nanmean(y, axis=0)\n",
      "/var/folders/9t/kc1m3g417jn3cxcthd05f6l40000gn/T/ipykernel_58167/237449712.py:7: RuntimeWarning: Mean of empty slice\n",
      "  y = np.nanmean(y, axis=0)\n",
      "/var/folders/9t/kc1m3g417jn3cxcthd05f6l40000gn/T/ipykernel_58167/237449712.py:7: RuntimeWarning: Mean of empty slice\n",
      "  y = np.nanmean(y, axis=0)\n",
      "/var/folders/9t/kc1m3g417jn3cxcthd05f6l40000gn/T/ipykernel_58167/237449712.py:7: RuntimeWarning: Mean of empty slice\n",
      "  y = np.nanmean(y, axis=0)\n",
      "/var/folders/9t/kc1m3g417jn3cxcthd05f6l40000gn/T/ipykernel_58167/237449712.py:7: RuntimeWarning: Mean of empty slice\n",
      "  y = np.nanmean(y, axis=0)\n",
      "/var/folders/9t/kc1m3g417jn3cxcthd05f6l40000gn/T/ipykernel_58167/237449712.py:7: RuntimeWarning: Mean of empty slice\n",
      "  y = np.nanmean(y, axis=0)\n",
      "/var/folders/9t/kc1m3g417jn3cxcthd05f6l40000gn/T/ipykernel_58167/237449712.py:7: RuntimeWarning: Mean of empty slice\n",
      "  y = np.nanmean(y, axis=0)\n",
      "/var/folders/9t/kc1m3g417jn3cxcthd05f6l40000gn/T/ipykernel_58167/237449712.py:7: RuntimeWarning: Mean of empty slice\n",
      "  y = np.nanmean(y, axis=0)\n",
      "/var/folders/9t/kc1m3g417jn3cxcthd05f6l40000gn/T/ipykernel_58167/237449712.py:7: RuntimeWarning: Mean of empty slice\n",
      "  y = np.nanmean(y, axis=0)\n",
      "/var/folders/9t/kc1m3g417jn3cxcthd05f6l40000gn/T/ipykernel_58167/237449712.py:7: RuntimeWarning: Mean of empty slice\n",
      "  y = np.nanmean(y, axis=0)\n",
      "/var/folders/9t/kc1m3g417jn3cxcthd05f6l40000gn/T/ipykernel_58167/237449712.py:7: RuntimeWarning: Mean of empty slice\n",
      "  y = np.nanmean(y, axis=0)\n",
      "/var/folders/9t/kc1m3g417jn3cxcthd05f6l40000gn/T/ipykernel_58167/237449712.py:7: RuntimeWarning: Mean of empty slice\n",
      "  y = np.nanmean(y, axis=0)\n",
      "/var/folders/9t/kc1m3g417jn3cxcthd05f6l40000gn/T/ipykernel_58167/237449712.py:7: RuntimeWarning: Mean of empty slice\n",
      "  y = np.nanmean(y, axis=0)\n",
      "/var/folders/9t/kc1m3g417jn3cxcthd05f6l40000gn/T/ipykernel_58167/237449712.py:7: RuntimeWarning: Mean of empty slice\n",
      "  y = np.nanmean(y, axis=0)\n",
      "/var/folders/9t/kc1m3g417jn3cxcthd05f6l40000gn/T/ipykernel_58167/237449712.py:7: RuntimeWarning: Mean of empty slice\n",
      "  y = np.nanmean(y, axis=0)\n",
      "/var/folders/9t/kc1m3g417jn3cxcthd05f6l40000gn/T/ipykernel_58167/237449712.py:7: RuntimeWarning: Mean of empty slice\n",
      "  y = np.nanmean(y, axis=0)\n",
      "/var/folders/9t/kc1m3g417jn3cxcthd05f6l40000gn/T/ipykernel_58167/237449712.py:7: RuntimeWarning: Mean of empty slice\n",
      "  y = np.nanmean(y, axis=0)\n",
      "/var/folders/9t/kc1m3g417jn3cxcthd05f6l40000gn/T/ipykernel_58167/237449712.py:7: RuntimeWarning: Mean of empty slice\n",
      "  y = np.nanmean(y, axis=0)\n",
      "/var/folders/9t/kc1m3g417jn3cxcthd05f6l40000gn/T/ipykernel_58167/237449712.py:7: RuntimeWarning: Mean of empty slice\n",
      "  y = np.nanmean(y, axis=0)\n",
      "/var/folders/9t/kc1m3g417jn3cxcthd05f6l40000gn/T/ipykernel_58167/237449712.py:7: RuntimeWarning: Mean of empty slice\n",
      "  y = np.nanmean(y, axis=0)\n",
      "/var/folders/9t/kc1m3g417jn3cxcthd05f6l40000gn/T/ipykernel_58167/237449712.py:7: RuntimeWarning: Mean of empty slice\n",
      "  y = np.nanmean(y, axis=0)\n",
      "/var/folders/9t/kc1m3g417jn3cxcthd05f6l40000gn/T/ipykernel_58167/237449712.py:7: RuntimeWarning: Mean of empty slice\n",
      "  y = np.nanmean(y, axis=0)\n",
      "/var/folders/9t/kc1m3g417jn3cxcthd05f6l40000gn/T/ipykernel_58167/237449712.py:7: RuntimeWarning: Mean of empty slice\n",
      "  y = np.nanmean(y, axis=0)\n",
      "/var/folders/9t/kc1m3g417jn3cxcthd05f6l40000gn/T/ipykernel_58167/237449712.py:7: RuntimeWarning: Mean of empty slice\n",
      "  y = np.nanmean(y, axis=0)\n",
      "/var/folders/9t/kc1m3g417jn3cxcthd05f6l40000gn/T/ipykernel_58167/237449712.py:7: RuntimeWarning: Mean of empty slice\n",
      "  y = np.nanmean(y, axis=0)\n",
      "/var/folders/9t/kc1m3g417jn3cxcthd05f6l40000gn/T/ipykernel_58167/237449712.py:7: RuntimeWarning: Mean of empty slice\n",
      "  y = np.nanmean(y, axis=0)\n",
      "/var/folders/9t/kc1m3g417jn3cxcthd05f6l40000gn/T/ipykernel_58167/237449712.py:7: RuntimeWarning: Mean of empty slice\n",
      "  y = np.nanmean(y, axis=0)\n",
      "/var/folders/9t/kc1m3g417jn3cxcthd05f6l40000gn/T/ipykernel_58167/237449712.py:7: RuntimeWarning: Mean of empty slice\n",
      "  y = np.nanmean(y, axis=0)\n",
      "/var/folders/9t/kc1m3g417jn3cxcthd05f6l40000gn/T/ipykernel_58167/237449712.py:7: RuntimeWarning: Mean of empty slice\n",
      "  y = np.nanmean(y, axis=0)\n",
      "/var/folders/9t/kc1m3g417jn3cxcthd05f6l40000gn/T/ipykernel_58167/237449712.py:7: RuntimeWarning: Mean of empty slice\n",
      "  y = np.nanmean(y, axis=0)\n",
      "/var/folders/9t/kc1m3g417jn3cxcthd05f6l40000gn/T/ipykernel_58167/237449712.py:7: RuntimeWarning: Mean of empty slice\n",
      "  y = np.nanmean(y, axis=0)\n"
     ]
    }
   ],
   "source": [
    "# inference\n",
    "predicted_outlier, predicted_cp = [], []\n",
    "true_outlier, true_cp = [], []\n",
    "rel_errors = []\n",
    "x = 0\n",
    "for X_train, X_test, y_train, y_test in Xy_traintest_list:\n",
    "    x += 1\n",
    "\n",
    "    ms = MSET()\n",
    "    ms.fit(X_train)\n",
    "\n",
    "    # results predicting\n",
    "    Y_pred = ms.predict(X_test)\n",
    "    err = np.linalg.norm(X_test - Y_pred, axis=1)\n",
    "    rel_err = movmean(err / np.linalg.norm(Y_pred, axis=1), window=60)\n",
    "    rel_errors.append(rel_err)\n",
    "\n",
    "    UCL = 0.01\n",
    "    prediction = (\n",
    "        pd.DataFrame((rel_err > UCL), X_test.index)\n",
    "        .fillna(0)\n",
    "        .any(axis=1)\n",
    "        .astype(int)\n",
    "    )\n",
    "\n",
    "    # predicted outliers saving\n",
    "    predicted_outlier.append(prediction)\n",
    "\n",
    "    # predicted CPs saving\n",
    "    prediction_cp = abs(prediction.diff())\n",
    "    prediction_cp[0] = prediction[0]\n",
    "    predicted_cp.append(prediction_cp)\n",
    "\n",
    "    true_outlier.append(y_test[\"anomaly\"])\n",
    "    true_cp.append(y_test[\"changepoint\"])"
   ]
  },
  {
   "cell_type": "markdown",
   "metadata": {},
   "source": [
    "### Results visualization"
   ]
  },
  {
   "cell_type": "code",
   "execution_count": 5,
   "metadata": {},
   "outputs": [
    {
     "data": {
      "image/png": "[encoded data removed]",
      "text/plain": [
       "<Figure size 1200x600 with 2 Axes>"
      ]
     },
     "metadata": {},
     "output_type": "display_data"
    }
   ],
   "source": [
    "# [donotremove]\n",
    "plot_results(\n",
    "    (true_outlier[1], predicted_outlier[1]),\n",
    "    (true_cp[1], predicted_cp[1]),\n",
    ")"
   ]
  },
  {
   "cell_type": "markdown",
   "metadata": {},
   "source": [
    "## Evaluation (metrics calculation)"
   ]
  },
  {
   "cell_type": "markdown",
   "metadata": {},
   "source": [
    "### Binary classification (outlier detection) metrics"
   ]
  },
  {
   "cell_type": "code",
   "execution_count": 6,
   "metadata": {},
   "outputs": [
    {
     "name": "stdout",
     "output_type": "stream",
     "text": [
      "False Alarm Rate 39.73 %\n",
      "Missing Alarm Rate 14.13 %\n",
      "F1 metric 0.78\n"
     ]
    }
   ],
   "source": [
    "# [donotremove]\n",
    "# binary classification metrics calculation\n",
    "binary = chp_score(true_outlier, predicted_outlier, metric=\"binary\")"
   ]
  },
  {
   "cell_type": "markdown",
   "metadata": {},
   "source": [
    "### Changepoint detection metrics"
   ]
  },
  {
   "cell_type": "code",
   "execution_count": 7,
   "metadata": {},
   "outputs": [
    {
     "name": "stdout",
     "output_type": "stream",
     "text": [
      "Since you didn't choose window_width and portion, portion will be default (1)\n",
      "Amount of true anomalies 127\n",
      "A number of missed CPs = 90\n",
      "A number of FPs = 23\n",
      "Average time 0 days 00:00:44.432432432\n"
     ]
    }
   ],
   "source": [
    "# [donotremove]\n",
    "# average detection delay metric calculation\n",
    "add = chp_score(\n",
    "    true_cp,\n",
    "    predicted_cp,\n",
    "    metric=\"average_time\",\n",
    "    anomaly_window_destination=\"righter\",\n",
    "    portion=1,\n",
    ")"
   ]
  },
  {
   "cell_type": "code",
   "execution_count": 8,
   "metadata": {},
   "outputs": [
    {
     "name": "stdout",
     "output_type": "stream",
     "text": [
      "Standard  -  2.26\n",
      "LowFP  -  -2.19\n",
      "LowFN  -  4.92\n"
     ]
    }
   ],
   "source": [
    "# [donotremove]\n",
    "# nab metric calculation\n",
    "nab = chp_score(\n",
    "    true_cp,\n",
    "    predicted_cp,\n",
    "    metric=\"nab\",\n",
    "    window_width=\"30S\",\n",
    "    anomaly_window_destination=\"righter\",\n",
    ")"
   ]
  }
 ],
 "metadata": {
  "kernelspec": {
   "display_name": ".venv",
   "language": "python",
   "name": "python3"
  },
  "language_info": {
   "codemirror_mode": {
    "name": "ipython",
    "version": 3
   },
   "file_extension": ".py",
   "mimetype": "text/x-python",
   "name": "python",
   "nbconvert_exporter": "python",
   "pygments_lexer": "ipython3",
   "version": "3.10.14"
  }
 },
 "nbformat": 4,
 "nbformat_minor": 4
}
