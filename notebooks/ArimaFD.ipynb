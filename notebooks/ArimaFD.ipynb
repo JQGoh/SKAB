{
    "cells": [
        {
            "cell_type": "markdown",
            "metadata": {},
            "source": [
                "# Pipeline for the anomaly detection on the SKAB using ARIMA fault detection algorithm"
            ]
        },
        {
            "cell_type": "markdown",
            "metadata": {},
            "source": [
                "Details regarding the SKAB one can find in the [SKAB repository](https://github.com/waico/SKAB)."
            ]
        },
        {
            "cell_type": "markdown",
            "metadata": {},
            "source": [
                "The idea behind this algorithm is to use ARIMA weights as features for the anomaly detection algorithm. Using discrete differences of weight coefficients for different heuristic methods for obtaining function, which characterized the state (anomaly, not anomaly) using a threshold. \n",
                "\n",
                "Links at [PyPi](https://pypi.org/project/arimafd/), [GitHub](https://github.com/waico/arimafd) and [paper](https://waico.ru)"
            ]
        },
        {
            "cell_type": "code",
            "execution_count": 1,
            "metadata": {},
            "outputs": [],
            "source": [
                "# libraries importing\n",
                "import sys\n",
                "import warnings\n",
                "\n",
                "import pandas as pd\n",
                "from arimafd import Arima_anomaly_detection\n",
                "\n",
                "sys.path.append(\"..\")\n",
                "from core.metrics import chp_score\n",
                "from core.utils import load_preprocess_skab, plot_results\n",
                "\n",
                "warnings.filterwarnings(\"ignore\", category=UserWarning)"
            ]
        },
        {
            "cell_type": "markdown",
            "metadata": {},
            "source": [
                "## Data"
            ]
        },
        {
            "cell_type": "code",
            "execution_count": 2,
            "metadata": {},
            "outputs": [],
            "source": [
                "Xy_traintest_list = load_preprocess_skab()"
            ]
        },
        {
            "cell_type": "markdown",
            "metadata": {},
            "source": [
                "## Method"
            ]
        },
        {
            "cell_type": "code",
            "execution_count": 3,
            "metadata": {},
            "outputs": [
                {
                    "name": "stderr",
                    "output_type": "stream",
                    "text": [
                        "/Users/mw/pyprojects/SKAB/.venv/lib/python3.10/site-packages/arimafd/tanh.py:140: FutureWarning: The frame.append method is deprecated and will be removed from pandas in a future version. Use pandas.concat instead.\n",
                        "  self.ww=self.ww.append([self.w], ignore_index=True)\n",
                        "/Users/mw/pyprojects/SKAB/.venv/lib/python3.10/site-packages/arimafd/tanh.py:141: FutureWarning: The frame.append method is deprecated and will be removed from pandas in a future version. Use pandas.concat instead.\n",
                        "  self.dif_w = self.dif_w.append([self.diff], ignore_index=True)\n"
                    ]
                },
                {
                    "name": "stdout",
                    "output_type": "stream",
                    "text": [
                        "Time seconds: 1.8761208057403564\n",
                        "Time seconds: 1.8522422313690186\n",
                        "Time seconds: 1.9046368598937988\n",
                        "Time seconds: 2.0031349658966064\n",
                        "Time seconds: 2.1202380657196045\n",
                        "Time seconds: 2.2488720417022705\n",
                        "Time seconds: 2.2845871448516846\n",
                        "Time seconds: 2.5176429748535156\n"
                    ]
                },
                {
                    "name": "stderr",
                    "output_type": "stream",
                    "text": [
                        "/Users/mw/pyprojects/SKAB/.venv/lib/python3.10/site-packages/arimafd/tanh.py:178: FutureWarning: The frame.append method is deprecated and will be removed from pandas in a future version. Use pandas.concat instead.\n",
                        "  self.ww=self.ww.append([self.w], ignore_index=True)\n",
                        "/Users/mw/pyprojects/SKAB/.venv/lib/python3.10/site-packages/arimafd/tanh.py:181: FutureWarning: The frame.append method is deprecated and will be removed from pandas in a future version. Use pandas.concat instead.\n",
                        "  self.dif_w = self.dif_w.append([self.diff], ignore_index=True)\n",
                        "/Users/mw/pyprojects/SKAB/.venv/lib/python3.10/site-packages/arimafd/tanh.py:140: FutureWarning: The frame.append method is deprecated and will be removed from pandas in a future version. Use pandas.concat instead.\n",
                        "  self.ww=self.ww.append([self.w], ignore_index=True)\n",
                        "/Users/mw/pyprojects/SKAB/.venv/lib/python3.10/site-packages/arimafd/tanh.py:141: FutureWarning: The frame.append method is deprecated and will be removed from pandas in a future version. Use pandas.concat instead.\n",
                        "  self.dif_w = self.dif_w.append([self.diff], ignore_index=True)\n"
                    ]
                },
                {
                    "name": "stdout",
                    "output_type": "stream",
                    "text": [
                        "Time seconds: 2.3534421920776367\n",
                        "Time seconds: 2.160529136657715\n",
                        "Time seconds: 3.6359169483184814\n",
                        "Time seconds: 5.928740739822388\n",
                        "Time seconds: 5.764714002609253\n",
                        "Time seconds: 4.890947103500366\n",
                        "Time seconds: 4.642960786819458\n",
                        "Time seconds: 5.359097003936768\n"
                    ]
                },
                {
                    "name": "stderr",
                    "output_type": "stream",
                    "text": [
                        "/Users/mw/pyprojects/SKAB/.venv/lib/python3.10/site-packages/arimafd/tanh.py:178: FutureWarning: The frame.append method is deprecated and will be removed from pandas in a future version. Use pandas.concat instead.\n",
                        "  self.ww=self.ww.append([self.w], ignore_index=True)\n",
                        "/Users/mw/pyprojects/SKAB/.venv/lib/python3.10/site-packages/arimafd/tanh.py:181: FutureWarning: The frame.append method is deprecated and will be removed from pandas in a future version. Use pandas.concat instead.\n",
                        "  self.dif_w = self.dif_w.append([self.diff], ignore_index=True)\n",
                        "/Users/mw/pyprojects/SKAB/.venv/lib/python3.10/site-packages/arimafd/tanh.py:140: FutureWarning: The frame.append method is deprecated and will be removed from pandas in a future version. Use pandas.concat instead.\n",
                        "  self.ww=self.ww.append([self.w], ignore_index=True)\n",
                        "/Users/mw/pyprojects/SKAB/.venv/lib/python3.10/site-packages/arimafd/tanh.py:141: FutureWarning: The frame.append method is deprecated and will be removed from pandas in a future version. Use pandas.concat instead.\n",
                        "  self.dif_w = self.dif_w.append([self.diff], ignore_index=True)\n"
                    ]
                },
                {
                    "name": "stdout",
                    "output_type": "stream",
                    "text": [
                        "Time seconds: 5.29212498664856\n",
                        "Time seconds: 5.356103181838989\n",
                        "Time seconds: 5.205494165420532\n",
                        "Time seconds: 3.806251049041748\n",
                        "Time seconds: 3.2641940116882324\n",
                        "Time seconds: 2.113152027130127\n",
                        "Time seconds: 2.3718700408935547\n",
                        "Time seconds: 2.2297632694244385\n"
                    ]
                },
                {
                    "name": "stderr",
                    "output_type": "stream",
                    "text": [
                        "/Users/mw/pyprojects/SKAB/.venv/lib/python3.10/site-packages/arimafd/tanh.py:178: FutureWarning: The frame.append method is deprecated and will be removed from pandas in a future version. Use pandas.concat instead.\n",
                        "  self.ww=self.ww.append([self.w], ignore_index=True)\n",
                        "/Users/mw/pyprojects/SKAB/.venv/lib/python3.10/site-packages/arimafd/tanh.py:181: FutureWarning: The frame.append method is deprecated and will be removed from pandas in a future version. Use pandas.concat instead.\n",
                        "  self.dif_w = self.dif_w.append([self.diff], ignore_index=True)\n",
                        "/Users/mw/pyprojects/SKAB/.venv/lib/python3.10/site-packages/arimafd/tanh.py:140: FutureWarning: The frame.append method is deprecated and will be removed from pandas in a future version. Use pandas.concat instead.\n",
                        "  self.ww=self.ww.append([self.w], ignore_index=True)\n",
                        "/Users/mw/pyprojects/SKAB/.venv/lib/python3.10/site-packages/arimafd/tanh.py:141: FutureWarning: The frame.append method is deprecated and will be removed from pandas in a future version. Use pandas.concat instead.\n",
                        "  self.dif_w = self.dif_w.append([self.diff], ignore_index=True)\n"
                    ]
                },
                {
                    "name": "stdout",
                    "output_type": "stream",
                    "text": [
                        "Time seconds: 2.15482497215271\n",
                        "Time seconds: 2.101541757583618\n",
                        "Time seconds: 2.11942195892334\n",
                        "Time seconds: 4.808275938034058\n",
                        "Time seconds: 5.019596099853516\n",
                        "Time seconds: 5.426880121231079\n",
                        "Time seconds: 5.4721128940582275\n",
                        "Time seconds: 4.450735092163086\n"
                    ]
                },
                {
                    "name": "stderr",
                    "output_type": "stream",
                    "text": [
                        "/Users/mw/pyprojects/SKAB/.venv/lib/python3.10/site-packages/arimafd/tanh.py:178: FutureWarning: The frame.append method is deprecated and will be removed from pandas in a future version. Use pandas.concat instead.\n",
                        "  self.ww=self.ww.append([self.w], ignore_index=True)\n",
                        "/Users/mw/pyprojects/SKAB/.venv/lib/python3.10/site-packages/arimafd/tanh.py:181: FutureWarning: The frame.append method is deprecated and will be removed from pandas in a future version. Use pandas.concat instead.\n",
                        "  self.dif_w = self.dif_w.append([self.diff], ignore_index=True)\n",
                        "/Users/mw/pyprojects/SKAB/.venv/lib/python3.10/site-packages/arimafd/tanh.py:140: FutureWarning: The frame.append method is deprecated and will be removed from pandas in a future version. Use pandas.concat instead.\n",
                        "  self.ww=self.ww.append([self.w], ignore_index=True)\n",
                        "/Users/mw/pyprojects/SKAB/.venv/lib/python3.10/site-packages/arimafd/tanh.py:141: FutureWarning: The frame.append method is deprecated and will be removed from pandas in a future version. Use pandas.concat instead.\n",
                        "  self.dif_w = self.dif_w.append([self.diff], ignore_index=True)\n"
                    ]
                },
                {
                    "name": "stdout",
                    "output_type": "stream",
                    "text": [
                        "Time seconds: 5.5978922843933105\n",
                        "Time seconds: 5.120151042938232\n",
                        "Time seconds: 5.131779909133911\n",
                        "Time seconds: 4.236736059188843\n",
                        "Time seconds: 3.149770975112915\n",
                        "Time seconds: 2.1263928413391113\n",
                        "Time seconds: 2.1531617641448975\n",
                        "Time seconds: 2.186161994934082\n"
                    ]
                },
                {
                    "name": "stderr",
                    "output_type": "stream",
                    "text": [
                        "/Users/mw/pyprojects/SKAB/.venv/lib/python3.10/site-packages/arimafd/tanh.py:178: FutureWarning: The frame.append method is deprecated and will be removed from pandas in a future version. Use pandas.concat instead.\n",
                        "  self.ww=self.ww.append([self.w], ignore_index=True)\n",
                        "/Users/mw/pyprojects/SKAB/.venv/lib/python3.10/site-packages/arimafd/tanh.py:181: FutureWarning: The frame.append method is deprecated and will be removed from pandas in a future version. Use pandas.concat instead.\n",
                        "  self.dif_w = self.dif_w.append([self.diff], ignore_index=True)\n",
                        "/Users/mw/pyprojects/SKAB/.venv/lib/python3.10/site-packages/arimafd/tanh.py:140: FutureWarning: The frame.append method is deprecated and will be removed from pandas in a future version. Use pandas.concat instead.\n",
                        "  self.ww=self.ww.append([self.w], ignore_index=True)\n",
                        "/Users/mw/pyprojects/SKAB/.venv/lib/python3.10/site-packages/arimafd/tanh.py:141: FutureWarning: The frame.append method is deprecated and will be removed from pandas in a future version. Use pandas.concat instead.\n",
                        "  self.dif_w = self.dif_w.append([self.diff], ignore_index=True)\n"
                    ]
                },
                {
                    "name": "stdout",
                    "output_type": "stream",
                    "text": [
                        "Time seconds: 2.205976963043213\n",
                        "Time seconds: 2.114767074584961\n",
                        "Time seconds: 2.259657144546509\n",
                        "Time seconds: 4.445317268371582\n",
                        "Time seconds: 5.628083944320679\n",
                        "Time seconds: 5.4835309982299805\n",
                        "Time seconds: 5.2836833000183105\n",
                        "Time seconds: 5.0952489376068115\n"
                    ]
                },
                {
                    "name": "stderr",
                    "output_type": "stream",
                    "text": [
                        "/Users/mw/pyprojects/SKAB/.venv/lib/python3.10/site-packages/arimafd/tanh.py:178: FutureWarning: The frame.append method is deprecated and will be removed from pandas in a future version. Use pandas.concat instead.\n",
                        "  self.ww=self.ww.append([self.w], ignore_index=True)\n",
                        "/Users/mw/pyprojects/SKAB/.venv/lib/python3.10/site-packages/arimafd/tanh.py:181: FutureWarning: The frame.append method is deprecated and will be removed from pandas in a future version. Use pandas.concat instead.\n",
                        "  self.dif_w = self.dif_w.append([self.diff], ignore_index=True)\n",
                        "/Users/mw/pyprojects/SKAB/.venv/lib/python3.10/site-packages/arimafd/tanh.py:140: FutureWarning: The frame.append method is deprecated and will be removed from pandas in a future version. Use pandas.concat instead.\n",
                        "  self.ww=self.ww.append([self.w], ignore_index=True)\n",
                        "/Users/mw/pyprojects/SKAB/.venv/lib/python3.10/site-packages/arimafd/tanh.py:141: FutureWarning: The frame.append method is deprecated and will be removed from pandas in a future version. Use pandas.concat instead.\n",
                        "  self.dif_w = self.dif_w.append([self.diff], ignore_index=True)\n"
                    ]
                },
                {
                    "name": "stdout",
                    "output_type": "stream",
                    "text": [
                        "Time seconds: 5.412930011749268\n",
                        "Time seconds: 4.7389137744903564\n",
                        "Time seconds: 5.106571912765503\n",
                        "Time seconds: 3.0267510414123535\n",
                        "Time seconds: 2.858275890350342\n",
                        "Time seconds: 2.1518900394439697\n",
                        "Time seconds: 2.108808994293213\n",
                        "Time seconds: 2.1568520069122314\n"
                    ]
                },
                {
                    "name": "stderr",
                    "output_type": "stream",
                    "text": [
                        "/Users/mw/pyprojects/SKAB/.venv/lib/python3.10/site-packages/arimafd/tanh.py:178: FutureWarning: The frame.append method is deprecated and will be removed from pandas in a future version. Use pandas.concat instead.\n",
                        "  self.ww=self.ww.append([self.w], ignore_index=True)\n",
                        "/Users/mw/pyprojects/SKAB/.venv/lib/python3.10/site-packages/arimafd/tanh.py:181: FutureWarning: The frame.append method is deprecated and will be removed from pandas in a future version. Use pandas.concat instead.\n",
                        "  self.dif_w = self.dif_w.append([self.diff], ignore_index=True)\n",
                        "/Users/mw/pyprojects/SKAB/.venv/lib/python3.10/site-packages/arimafd/tanh.py:140: FutureWarning: The frame.append method is deprecated and will be removed from pandas in a future version. Use pandas.concat instead.\n",
                        "  self.ww=self.ww.append([self.w], ignore_index=True)\n",
                        "/Users/mw/pyprojects/SKAB/.venv/lib/python3.10/site-packages/arimafd/tanh.py:141: FutureWarning: The frame.append method is deprecated and will be removed from pandas in a future version. Use pandas.concat instead.\n",
                        "  self.dif_w = self.dif_w.append([self.diff], ignore_index=True)\n"
                    ]
                },
                {
                    "name": "stdout",
                    "output_type": "stream",
                    "text": [
                        "Time seconds: 3.2944650650024414\n",
                        "Time seconds: 4.991118669509888\n",
                        "Time seconds: 4.589199781417847\n",
                        "Time seconds: 4.631239891052246\n",
                        "Time seconds: 4.5251781940460205\n",
                        "Time seconds: 4.761360168457031\n",
                        "Time seconds: 4.518712043762207\n",
                        "Time seconds: 4.906160831451416\n"
                    ]
                },
                {
                    "name": "stderr",
                    "output_type": "stream",
                    "text": [
                        "/Users/mw/pyprojects/SKAB/.venv/lib/python3.10/site-packages/arimafd/tanh.py:178: FutureWarning: The frame.append method is deprecated and will be removed from pandas in a future version. Use pandas.concat instead.\n",
                        "  self.ww=self.ww.append([self.w], ignore_index=True)\n",
                        "/Users/mw/pyprojects/SKAB/.venv/lib/python3.10/site-packages/arimafd/tanh.py:181: FutureWarning: The frame.append method is deprecated and will be removed from pandas in a future version. Use pandas.concat instead.\n",
                        "  self.dif_w = self.dif_w.append([self.diff], ignore_index=True)\n",
                        "/Users/mw/pyprojects/SKAB/.venv/lib/python3.10/site-packages/arimafd/tanh.py:140: FutureWarning: The frame.append method is deprecated and will be removed from pandas in a future version. Use pandas.concat instead.\n",
                        "  self.ww=self.ww.append([self.w], ignore_index=True)\n",
                        "/Users/mw/pyprojects/SKAB/.venv/lib/python3.10/site-packages/arimafd/tanh.py:141: FutureWarning: The frame.append method is deprecated and will be removed from pandas in a future version. Use pandas.concat instead.\n",
                        "  self.dif_w = self.dif_w.append([self.diff], ignore_index=True)\n"
                    ]
                },
                {
                    "name": "stdout",
                    "output_type": "stream",
                    "text": [
                        "Time seconds: 2.746511220932007\n",
                        "Time seconds: 1.9302551746368408\n",
                        "Time seconds: 1.7588319778442383\n",
                        "Time seconds: 1.9523520469665527\n",
                        "Time seconds: 1.7758729457855225\n",
                        "Time seconds: 1.8280229568481445\n",
                        "Time seconds: 1.973228931427002\n",
                        "Time seconds: 2.277308940887451\n"
                    ]
                },
                {
                    "name": "stderr",
                    "output_type": "stream",
                    "text": [
                        "/Users/mw/pyprojects/SKAB/.venv/lib/python3.10/site-packages/arimafd/tanh.py:178: FutureWarning: The frame.append method is deprecated and will be removed from pandas in a future version. Use pandas.concat instead.\n",
                        "  self.ww=self.ww.append([self.w], ignore_index=True)\n",
                        "/Users/mw/pyprojects/SKAB/.venv/lib/python3.10/site-packages/arimafd/tanh.py:181: FutureWarning: The frame.append method is deprecated and will be removed from pandas in a future version. Use pandas.concat instead.\n",
                        "  self.dif_w = self.dif_w.append([self.diff], ignore_index=True)\n",
                        "/Users/mw/pyprojects/SKAB/.venv/lib/python3.10/site-packages/arimafd/tanh.py:140: FutureWarning: The frame.append method is deprecated and will be removed from pandas in a future version. Use pandas.concat instead.\n",
                        "  self.ww=self.ww.append([self.w], ignore_index=True)\n",
                        "/Users/mw/pyprojects/SKAB/.venv/lib/python3.10/site-packages/arimafd/tanh.py:141: FutureWarning: The frame.append method is deprecated and will be removed from pandas in a future version. Use pandas.concat instead.\n",
                        "  self.dif_w = self.dif_w.append([self.diff], ignore_index=True)\n"
                    ]
                },
                {
                    "name": "stdout",
                    "output_type": "stream",
                    "text": [
                        "Time seconds: 4.5684332847595215\n",
                        "Time seconds: 4.77592134475708\n",
                        "Time seconds: 4.780105829238892\n",
                        "Time seconds: 2.4574828147888184\n",
                        "Time seconds: 2.4955270290374756\n",
                        "Time seconds: 1.7422690391540527\n",
                        "Time seconds: 1.9863090515136719\n",
                        "Time seconds: 1.7798409461975098\n"
                    ]
                },
                {
                    "name": "stderr",
                    "output_type": "stream",
                    "text": [
                        "/Users/mw/pyprojects/SKAB/.venv/lib/python3.10/site-packages/arimafd/tanh.py:178: FutureWarning: The frame.append method is deprecated and will be removed from pandas in a future version. Use pandas.concat instead.\n",
                        "  self.ww=self.ww.append([self.w], ignore_index=True)\n",
                        "/Users/mw/pyprojects/SKAB/.venv/lib/python3.10/site-packages/arimafd/tanh.py:181: FutureWarning: The frame.append method is deprecated and will be removed from pandas in a future version. Use pandas.concat instead.\n",
                        "  self.dif_w = self.dif_w.append([self.diff], ignore_index=True)\n",
                        "/Users/mw/pyprojects/SKAB/.venv/lib/python3.10/site-packages/arimafd/tanh.py:140: FutureWarning: The frame.append method is deprecated and will be removed from pandas in a future version. Use pandas.concat instead.\n",
                        "  self.ww=self.ww.append([self.w], ignore_index=True)\n",
                        "/Users/mw/pyprojects/SKAB/.venv/lib/python3.10/site-packages/arimafd/tanh.py:141: FutureWarning: The frame.append method is deprecated and will be removed from pandas in a future version. Use pandas.concat instead.\n",
                        "  self.dif_w = self.dif_w.append([self.diff], ignore_index=True)\n"
                    ]
                },
                {
                    "name": "stdout",
                    "output_type": "stream",
                    "text": [
                        "Time seconds: 1.9102611541748047\n",
                        "Time seconds: 1.938344955444336\n",
                        "Time seconds: 4.216105937957764\n",
                        "Time seconds: 5.188731908798218\n",
                        "Time seconds: 4.87577486038208\n",
                        "Time seconds: 5.209053993225098\n",
                        "Time seconds: 4.800894260406494\n",
                        "Time seconds: 4.580979824066162\n"
                    ]
                },
                {
                    "name": "stderr",
                    "output_type": "stream",
                    "text": [
                        "/Users/mw/pyprojects/SKAB/.venv/lib/python3.10/site-packages/arimafd/tanh.py:178: FutureWarning: The frame.append method is deprecated and will be removed from pandas in a future version. Use pandas.concat instead.\n",
                        "  self.ww=self.ww.append([self.w], ignore_index=True)\n",
                        "/Users/mw/pyprojects/SKAB/.venv/lib/python3.10/site-packages/arimafd/tanh.py:181: FutureWarning: The frame.append method is deprecated and will be removed from pandas in a future version. Use pandas.concat instead.\n",
                        "  self.dif_w = self.dif_w.append([self.diff], ignore_index=True)\n",
                        "/Users/mw/pyprojects/SKAB/.venv/lib/python3.10/site-packages/arimafd/tanh.py:140: FutureWarning: The frame.append method is deprecated and will be removed from pandas in a future version. Use pandas.concat instead.\n",
                        "  self.ww=self.ww.append([self.w], ignore_index=True)\n",
                        "/Users/mw/pyprojects/SKAB/.venv/lib/python3.10/site-packages/arimafd/tanh.py:141: FutureWarning: The frame.append method is deprecated and will be removed from pandas in a future version. Use pandas.concat instead.\n",
                        "  self.dif_w = self.dif_w.append([self.diff], ignore_index=True)\n"
                    ]
                },
                {
                    "name": "stdout",
                    "output_type": "stream",
                    "text": [
                        "Time seconds: 2.4747798442840576\n",
                        "Time seconds: 1.8292150497436523\n",
                        "Time seconds: 1.8185651302337646\n",
                        "Time seconds: 2.1846981048583984\n",
                        "Time seconds: 1.8956291675567627\n",
                        "Time seconds: 1.782909870147705\n",
                        "Time seconds: 4.223495960235596\n",
                        "Time seconds: 5.4364333152771\n"
                    ]
                },
                {
                    "name": "stderr",
                    "output_type": "stream",
                    "text": [
                        "/Users/mw/pyprojects/SKAB/.venv/lib/python3.10/site-packages/arimafd/tanh.py:178: FutureWarning: The frame.append method is deprecated and will be removed from pandas in a future version. Use pandas.concat instead.\n",
                        "  self.ww=self.ww.append([self.w], ignore_index=True)\n",
                        "/Users/mw/pyprojects/SKAB/.venv/lib/python3.10/site-packages/arimafd/tanh.py:181: FutureWarning: The frame.append method is deprecated and will be removed from pandas in a future version. Use pandas.concat instead.\n",
                        "  self.dif_w = self.dif_w.append([self.diff], ignore_index=True)\n",
                        "/Users/mw/pyprojects/SKAB/.venv/lib/python3.10/site-packages/arimafd/tanh.py:140: FutureWarning: The frame.append method is deprecated and will be removed from pandas in a future version. Use pandas.concat instead.\n",
                        "  self.ww=self.ww.append([self.w], ignore_index=True)\n",
                        "/Users/mw/pyprojects/SKAB/.venv/lib/python3.10/site-packages/arimafd/tanh.py:141: FutureWarning: The frame.append method is deprecated and will be removed from pandas in a future version. Use pandas.concat instead.\n",
                        "  self.dif_w = self.dif_w.append([self.diff], ignore_index=True)\n"
                    ]
                },
                {
                    "name": "stdout",
                    "output_type": "stream",
                    "text": [
                        "Time seconds: 4.247793197631836\n",
                        "Time seconds: 2.853463888168335\n",
                        "Time seconds: 1.9793570041656494\n",
                        "Time seconds: 1.794701099395752\n",
                        "Time seconds: 1.8928837776184082\n",
                        "Time seconds: 1.7360191345214844\n",
                        "Time seconds: 1.861400842666626\n",
                        "Time seconds: 1.9893362522125244\n"
                    ]
                },
                {
                    "name": "stderr",
                    "output_type": "stream",
                    "text": [
                        "/Users/mw/pyprojects/SKAB/.venv/lib/python3.10/site-packages/arimafd/tanh.py:178: FutureWarning: The frame.append method is deprecated and will be removed from pandas in a future version. Use pandas.concat instead.\n",
                        "  self.ww=self.ww.append([self.w], ignore_index=True)\n",
                        "/Users/mw/pyprojects/SKAB/.venv/lib/python3.10/site-packages/arimafd/tanh.py:181: FutureWarning: The frame.append method is deprecated and will be removed from pandas in a future version. Use pandas.concat instead.\n",
                        "  self.dif_w = self.dif_w.append([self.diff], ignore_index=True)\n",
                        "/Users/mw/pyprojects/SKAB/.venv/lib/python3.10/site-packages/arimafd/tanh.py:140: FutureWarning: The frame.append method is deprecated and will be removed from pandas in a future version. Use pandas.concat instead.\n",
                        "  self.ww=self.ww.append([self.w], ignore_index=True)\n",
                        "/Users/mw/pyprojects/SKAB/.venv/lib/python3.10/site-packages/arimafd/tanh.py:141: FutureWarning: The frame.append method is deprecated and will be removed from pandas in a future version. Use pandas.concat instead.\n",
                        "  self.dif_w = self.dif_w.append([self.diff], ignore_index=True)\n"
                    ]
                },
                {
                    "name": "stdout",
                    "output_type": "stream",
                    "text": [
                        "Time seconds: 5.460658311843872\n",
                        "Time seconds: 4.628917694091797\n",
                        "Time seconds: 3.9726619720458984\n",
                        "Time seconds: 2.213765859603882\n",
                        "Time seconds: 1.6701462268829346\n",
                        "Time seconds: 1.6431968212127686\n",
                        "Time seconds: 1.7300221920013428\n",
                        "Time seconds: 1.6892082691192627\n"
                    ]
                },
                {
                    "name": "stderr",
                    "output_type": "stream",
                    "text": [
                        "/Users/mw/pyprojects/SKAB/.venv/lib/python3.10/site-packages/arimafd/tanh.py:178: FutureWarning: The frame.append method is deprecated and will be removed from pandas in a future version. Use pandas.concat instead.\n",
                        "  self.ww=self.ww.append([self.w], ignore_index=True)\n",
                        "/Users/mw/pyprojects/SKAB/.venv/lib/python3.10/site-packages/arimafd/tanh.py:181: FutureWarning: The frame.append method is deprecated and will be removed from pandas in a future version. Use pandas.concat instead.\n",
                        "  self.dif_w = self.dif_w.append([self.diff], ignore_index=True)\n",
                        "/Users/mw/pyprojects/SKAB/.venv/lib/python3.10/site-packages/arimafd/tanh.py:140: FutureWarning: The frame.append method is deprecated and will be removed from pandas in a future version. Use pandas.concat instead.\n",
                        "  self.ww=self.ww.append([self.w], ignore_index=True)\n",
                        "/Users/mw/pyprojects/SKAB/.venv/lib/python3.10/site-packages/arimafd/tanh.py:141: FutureWarning: The frame.append method is deprecated and will be removed from pandas in a future version. Use pandas.concat instead.\n",
                        "  self.dif_w = self.dif_w.append([self.diff], ignore_index=True)\n"
                    ]
                },
                {
                    "name": "stdout",
                    "output_type": "stream",
                    "text": [
                        "Time seconds: 5.099290132522583\n",
                        "Time seconds: 4.495621681213379\n",
                        "Time seconds: 4.630115985870361\n",
                        "Time seconds: 4.7559638023376465\n",
                        "Time seconds: 4.65366792678833\n",
                        "Time seconds: 4.73173189163208\n",
                        "Time seconds: 2.7110238075256348\n",
                        "Time seconds: 1.7992959022521973\n"
                    ]
                },
                {
                    "name": "stderr",
                    "output_type": "stream",
                    "text": [
                        "/Users/mw/pyprojects/SKAB/.venv/lib/python3.10/site-packages/arimafd/tanh.py:178: FutureWarning: The frame.append method is deprecated and will be removed from pandas in a future version. Use pandas.concat instead.\n",
                        "  self.ww=self.ww.append([self.w], ignore_index=True)\n",
                        "/Users/mw/pyprojects/SKAB/.venv/lib/python3.10/site-packages/arimafd/tanh.py:181: FutureWarning: The frame.append method is deprecated and will be removed from pandas in a future version. Use pandas.concat instead.\n",
                        "  self.dif_w = self.dif_w.append([self.diff], ignore_index=True)\n",
                        "/Users/mw/pyprojects/SKAB/.venv/lib/python3.10/site-packages/arimafd/tanh.py:140: FutureWarning: The frame.append method is deprecated and will be removed from pandas in a future version. Use pandas.concat instead.\n",
                        "  self.ww=self.ww.append([self.w], ignore_index=True)\n",
                        "/Users/mw/pyprojects/SKAB/.venv/lib/python3.10/site-packages/arimafd/tanh.py:141: FutureWarning: The frame.append method is deprecated and will be removed from pandas in a future version. Use pandas.concat instead.\n",
                        "  self.dif_w = self.dif_w.append([self.diff], ignore_index=True)\n"
                    ]
                },
                {
                    "name": "stdout",
                    "output_type": "stream",
                    "text": [
                        "Time seconds: 1.7809948921203613\n",
                        "Time seconds: 2.6240997314453125\n",
                        "Time seconds: 5.2645041942596436\n",
                        "Time seconds: 4.579172849655151\n",
                        "Time seconds: 4.996435880661011\n",
                        "Time seconds: 4.864876985549927\n",
                        "Time seconds: 5.026111841201782\n",
                        "Time seconds: 3.7694530487060547\n"
                    ]
                },
                {
                    "name": "stderr",
                    "output_type": "stream",
                    "text": [
                        "/Users/mw/pyprojects/SKAB/.venv/lib/python3.10/site-packages/arimafd/tanh.py:178: FutureWarning: The frame.append method is deprecated and will be removed from pandas in a future version. Use pandas.concat instead.\n",
                        "  self.ww=self.ww.append([self.w], ignore_index=True)\n",
                        "/Users/mw/pyprojects/SKAB/.venv/lib/python3.10/site-packages/arimafd/tanh.py:181: FutureWarning: The frame.append method is deprecated and will be removed from pandas in a future version. Use pandas.concat instead.\n",
                        "  self.dif_w = self.dif_w.append([self.diff], ignore_index=True)\n",
                        "/Users/mw/pyprojects/SKAB/.venv/lib/python3.10/site-packages/arimafd/tanh.py:140: FutureWarning: The frame.append method is deprecated and will be removed from pandas in a future version. Use pandas.concat instead.\n",
                        "  self.ww=self.ww.append([self.w], ignore_index=True)\n",
                        "/Users/mw/pyprojects/SKAB/.venv/lib/python3.10/site-packages/arimafd/tanh.py:141: FutureWarning: The frame.append method is deprecated and will be removed from pandas in a future version. Use pandas.concat instead.\n",
                        "  self.dif_w = self.dif_w.append([self.diff], ignore_index=True)\n"
                    ]
                },
                {
                    "name": "stdout",
                    "output_type": "stream",
                    "text": [
                        "Time seconds: 1.8920199871063232\n",
                        "Time seconds: 1.8754661083221436\n",
                        "Time seconds: 1.8355262279510498\n",
                        "Time seconds: 1.7259979248046875\n",
                        "Time seconds: 2.7428359985351562\n",
                        "Time seconds: 4.75904107093811\n",
                        "Time seconds: 4.739362001419067\n",
                        "Time seconds: 5.326931953430176\n"
                    ]
                },
                {
                    "name": "stderr",
                    "output_type": "stream",
                    "text": [
                        "/Users/mw/pyprojects/SKAB/.venv/lib/python3.10/site-packages/arimafd/tanh.py:178: FutureWarning: The frame.append method is deprecated and will be removed from pandas in a future version. Use pandas.concat instead.\n",
                        "  self.ww=self.ww.append([self.w], ignore_index=True)\n",
                        "/Users/mw/pyprojects/SKAB/.venv/lib/python3.10/site-packages/arimafd/tanh.py:181: FutureWarning: The frame.append method is deprecated and will be removed from pandas in a future version. Use pandas.concat instead.\n",
                        "  self.dif_w = self.dif_w.append([self.diff], ignore_index=True)\n",
                        "/Users/mw/pyprojects/SKAB/.venv/lib/python3.10/site-packages/arimafd/tanh.py:140: FutureWarning: The frame.append method is deprecated and will be removed from pandas in a future version. Use pandas.concat instead.\n",
                        "  self.ww=self.ww.append([self.w], ignore_index=True)\n",
                        "/Users/mw/pyprojects/SKAB/.venv/lib/python3.10/site-packages/arimafd/tanh.py:141: FutureWarning: The frame.append method is deprecated and will be removed from pandas in a future version. Use pandas.concat instead.\n",
                        "  self.dif_w = self.dif_w.append([self.diff], ignore_index=True)\n"
                    ]
                },
                {
                    "name": "stdout",
                    "output_type": "stream",
                    "text": [
                        "Time seconds: 1.7809841632843018\n",
                        "Time seconds: 1.8432188034057617\n",
                        "Time seconds: 1.7745270729064941\n",
                        "Time seconds: 1.8590288162231445\n",
                        "Time seconds: 1.772698163986206\n",
                        "Time seconds: 4.809983015060425\n",
                        "Time seconds: 4.98221230506897\n",
                        "Time seconds: 4.919857978820801\n"
                    ]
                },
                {
                    "name": "stderr",
                    "output_type": "stream",
                    "text": [
                        "/Users/mw/pyprojects/SKAB/.venv/lib/python3.10/site-packages/arimafd/tanh.py:178: FutureWarning: The frame.append method is deprecated and will be removed from pandas in a future version. Use pandas.concat instead.\n",
                        "  self.ww=self.ww.append([self.w], ignore_index=True)\n",
                        "/Users/mw/pyprojects/SKAB/.venv/lib/python3.10/site-packages/arimafd/tanh.py:181: FutureWarning: The frame.append method is deprecated and will be removed from pandas in a future version. Use pandas.concat instead.\n",
                        "  self.dif_w = self.dif_w.append([self.diff], ignore_index=True)\n",
                        "/Users/mw/pyprojects/SKAB/.venv/lib/python3.10/site-packages/arimafd/tanh.py:140: FutureWarning: The frame.append method is deprecated and will be removed from pandas in a future version. Use pandas.concat instead.\n",
                        "  self.ww=self.ww.append([self.w], ignore_index=True)\n",
                        "/Users/mw/pyprojects/SKAB/.venv/lib/python3.10/site-packages/arimafd/tanh.py:141: FutureWarning: The frame.append method is deprecated and will be removed from pandas in a future version. Use pandas.concat instead.\n",
                        "  self.dif_w = self.dif_w.append([self.diff], ignore_index=True)\n"
                    ]
                },
                {
                    "name": "stdout",
                    "output_type": "stream",
                    "text": [
                        "Time seconds: 2.779263973236084\n",
                        "Time seconds: 1.782728910446167\n",
                        "Time seconds: 1.8083229064941406\n",
                        "Time seconds: 1.7687501907348633\n",
                        "Time seconds: 1.7137479782104492\n",
                        "Time seconds: 1.8017852306365967\n",
                        "Time seconds: 1.7533140182495117\n",
                        "Time seconds: 2.050611972808838\n"
                    ]
                },
                {
                    "name": "stderr",
                    "output_type": "stream",
                    "text": [
                        "/Users/mw/pyprojects/SKAB/.venv/lib/python3.10/site-packages/arimafd/tanh.py:178: FutureWarning: The frame.append method is deprecated and will be removed from pandas in a future version. Use pandas.concat instead.\n",
                        "  self.ww=self.ww.append([self.w], ignore_index=True)\n",
                        "/Users/mw/pyprojects/SKAB/.venv/lib/python3.10/site-packages/arimafd/tanh.py:181: FutureWarning: The frame.append method is deprecated and will be removed from pandas in a future version. Use pandas.concat instead.\n",
                        "  self.dif_w = self.dif_w.append([self.diff], ignore_index=True)\n",
                        "/Users/mw/pyprojects/SKAB/.venv/lib/python3.10/site-packages/arimafd/tanh.py:140: FutureWarning: The frame.append method is deprecated and will be removed from pandas in a future version. Use pandas.concat instead.\n",
                        "  self.ww=self.ww.append([self.w], ignore_index=True)\n",
                        "/Users/mw/pyprojects/SKAB/.venv/lib/python3.10/site-packages/arimafd/tanh.py:141: FutureWarning: The frame.append method is deprecated and will be removed from pandas in a future version. Use pandas.concat instead.\n",
                        "  self.dif_w = self.dif_w.append([self.diff], ignore_index=True)\n"
                    ]
                },
                {
                    "name": "stdout",
                    "output_type": "stream",
                    "text": [
                        "Time seconds: 2.636519193649292\n",
                        "Time seconds: 1.8342130184173584\n",
                        "Time seconds: 1.8277392387390137\n",
                        "Time seconds: 1.7093889713287354\n",
                        "Time seconds: 1.8161687850952148\n",
                        "Time seconds: 1.7483079433441162\n",
                        "Time seconds: 1.8417611122131348\n",
                        "Time seconds: 1.7348310947418213\n"
                    ]
                },
                {
                    "name": "stderr",
                    "output_type": "stream",
                    "text": [
                        "/Users/mw/pyprojects/SKAB/.venv/lib/python3.10/site-packages/arimafd/tanh.py:178: FutureWarning: The frame.append method is deprecated and will be removed from pandas in a future version. Use pandas.concat instead.\n",
                        "  self.ww=self.ww.append([self.w], ignore_index=True)\n",
                        "/Users/mw/pyprojects/SKAB/.venv/lib/python3.10/site-packages/arimafd/tanh.py:181: FutureWarning: The frame.append method is deprecated and will be removed from pandas in a future version. Use pandas.concat instead.\n",
                        "  self.dif_w = self.dif_w.append([self.diff], ignore_index=True)\n",
                        "/Users/mw/pyprojects/SKAB/.venv/lib/python3.10/site-packages/arimafd/tanh.py:140: FutureWarning: The frame.append method is deprecated and will be removed from pandas in a future version. Use pandas.concat instead.\n",
                        "  self.ww=self.ww.append([self.w], ignore_index=True)\n",
                        "/Users/mw/pyprojects/SKAB/.venv/lib/python3.10/site-packages/arimafd/tanh.py:141: FutureWarning: The frame.append method is deprecated and will be removed from pandas in a future version. Use pandas.concat instead.\n",
                        "  self.dif_w = self.dif_w.append([self.diff], ignore_index=True)\n"
                    ]
                },
                {
                    "name": "stdout",
                    "output_type": "stream",
                    "text": [
                        "Time seconds: 2.485056161880493\n",
                        "Time seconds: 2.5481605529785156\n",
                        "Time seconds: 1.8257429599761963\n",
                        "Time seconds: 1.7443461418151855\n",
                        "Time seconds: 1.7130041122436523\n",
                        "Time seconds: 1.7976679801940918\n",
                        "Time seconds: 1.842139720916748\n",
                        "Time seconds: 1.7683959007263184\n"
                    ]
                },
                {
                    "name": "stderr",
                    "output_type": "stream",
                    "text": [
                        "/Users/mw/pyprojects/SKAB/.venv/lib/python3.10/site-packages/arimafd/tanh.py:178: FutureWarning: The frame.append method is deprecated and will be removed from pandas in a future version. Use pandas.concat instead.\n",
                        "  self.ww=self.ww.append([self.w], ignore_index=True)\n",
                        "/Users/mw/pyprojects/SKAB/.venv/lib/python3.10/site-packages/arimafd/tanh.py:181: FutureWarning: The frame.append method is deprecated and will be removed from pandas in a future version. Use pandas.concat instead.\n",
                        "  self.dif_w = self.dif_w.append([self.diff], ignore_index=True)\n",
                        "/Users/mw/pyprojects/SKAB/.venv/lib/python3.10/site-packages/arimafd/tanh.py:140: FutureWarning: The frame.append method is deprecated and will be removed from pandas in a future version. Use pandas.concat instead.\n",
                        "  self.ww=self.ww.append([self.w], ignore_index=True)\n",
                        "/Users/mw/pyprojects/SKAB/.venv/lib/python3.10/site-packages/arimafd/tanh.py:141: FutureWarning: The frame.append method is deprecated and will be removed from pandas in a future version. Use pandas.concat instead.\n",
                        "  self.dif_w = self.dif_w.append([self.diff], ignore_index=True)\n"
                    ]
                },
                {
                    "name": "stdout",
                    "output_type": "stream",
                    "text": [
                        "Time seconds: 1.7924368381500244\n",
                        "Time seconds: 1.8226239681243896\n",
                        "Time seconds: 1.6535708904266357\n",
                        "Time seconds: 1.682995080947876\n",
                        "Time seconds: 1.7306077480316162\n",
                        "Time seconds: 1.7296371459960938\n",
                        "Time seconds: 1.7584991455078125\n",
                        "Time seconds: 1.6887497901916504\n"
                    ]
                },
                {
                    "name": "stderr",
                    "output_type": "stream",
                    "text": [
                        "/Users/mw/pyprojects/SKAB/.venv/lib/python3.10/site-packages/arimafd/tanh.py:178: FutureWarning: The frame.append method is deprecated and will be removed from pandas in a future version. Use pandas.concat instead.\n",
                        "  self.ww=self.ww.append([self.w], ignore_index=True)\n",
                        "/Users/mw/pyprojects/SKAB/.venv/lib/python3.10/site-packages/arimafd/tanh.py:181: FutureWarning: The frame.append method is deprecated and will be removed from pandas in a future version. Use pandas.concat instead.\n",
                        "  self.dif_w = self.dif_w.append([self.diff], ignore_index=True)\n",
                        "/Users/mw/pyprojects/SKAB/.venv/lib/python3.10/site-packages/arimafd/tanh.py:140: FutureWarning: The frame.append method is deprecated and will be removed from pandas in a future version. Use pandas.concat instead.\n",
                        "  self.ww=self.ww.append([self.w], ignore_index=True)\n",
                        "/Users/mw/pyprojects/SKAB/.venv/lib/python3.10/site-packages/arimafd/tanh.py:141: FutureWarning: The frame.append method is deprecated and will be removed from pandas in a future version. Use pandas.concat instead.\n",
                        "  self.dif_w = self.dif_w.append([self.diff], ignore_index=True)\n"
                    ]
                },
                {
                    "name": "stdout",
                    "output_type": "stream",
                    "text": [
                        "Time seconds: 1.6864690780639648\n",
                        "Time seconds: 1.8512029647827148\n",
                        "Time seconds: 1.7643451690673828\n",
                        "Time seconds: 1.623533010482788\n",
                        "Time seconds: 1.6657259464263916\n",
                        "Time seconds: 1.7920019626617432\n",
                        "Time seconds: 1.7409050464630127\n",
                        "Time seconds: 1.683305025100708\n"
                    ]
                },
                {
                    "name": "stderr",
                    "output_type": "stream",
                    "text": [
                        "/Users/mw/pyprojects/SKAB/.venv/lib/python3.10/site-packages/arimafd/tanh.py:178: FutureWarning: The frame.append method is deprecated and will be removed from pandas in a future version. Use pandas.concat instead.\n",
                        "  self.ww=self.ww.append([self.w], ignore_index=True)\n",
                        "/Users/mw/pyprojects/SKAB/.venv/lib/python3.10/site-packages/arimafd/tanh.py:181: FutureWarning: The frame.append method is deprecated and will be removed from pandas in a future version. Use pandas.concat instead.\n",
                        "  self.dif_w = self.dif_w.append([self.diff], ignore_index=True)\n",
                        "/Users/mw/pyprojects/SKAB/.venv/lib/python3.10/site-packages/arimafd/tanh.py:140: FutureWarning: The frame.append method is deprecated and will be removed from pandas in a future version. Use pandas.concat instead.\n",
                        "  self.ww=self.ww.append([self.w], ignore_index=True)\n",
                        "/Users/mw/pyprojects/SKAB/.venv/lib/python3.10/site-packages/arimafd/tanh.py:141: FutureWarning: The frame.append method is deprecated and will be removed from pandas in a future version. Use pandas.concat instead.\n",
                        "  self.dif_w = self.dif_w.append([self.diff], ignore_index=True)\n"
                    ]
                },
                {
                    "name": "stdout",
                    "output_type": "stream",
                    "text": [
                        "Time seconds: 1.6327450275421143\n",
                        "Time seconds: 1.8483059406280518\n",
                        "Time seconds: 2.0601329803466797\n",
                        "Time seconds: 2.0103092193603516\n",
                        "Time seconds: 1.8772499561309814\n",
                        "Time seconds: 1.863036870956421\n",
                        "Time seconds: 1.8962738513946533\n",
                        "Time seconds: 1.8316009044647217\n"
                    ]
                },
                {
                    "name": "stderr",
                    "output_type": "stream",
                    "text": [
                        "/Users/mw/pyprojects/SKAB/.venv/lib/python3.10/site-packages/arimafd/tanh.py:178: FutureWarning: The frame.append method is deprecated and will be removed from pandas in a future version. Use pandas.concat instead.\n",
                        "  self.ww=self.ww.append([self.w], ignore_index=True)\n",
                        "/Users/mw/pyprojects/SKAB/.venv/lib/python3.10/site-packages/arimafd/tanh.py:181: FutureWarning: The frame.append method is deprecated and will be removed from pandas in a future version. Use pandas.concat instead.\n",
                        "  self.dif_w = self.dif_w.append([self.diff], ignore_index=True)\n",
                        "/Users/mw/pyprojects/SKAB/.venv/lib/python3.10/site-packages/arimafd/tanh.py:140: FutureWarning: The frame.append method is deprecated and will be removed from pandas in a future version. Use pandas.concat instead.\n",
                        "  self.ww=self.ww.append([self.w], ignore_index=True)\n",
                        "/Users/mw/pyprojects/SKAB/.venv/lib/python3.10/site-packages/arimafd/tanh.py:141: FutureWarning: The frame.append method is deprecated and will be removed from pandas in a future version. Use pandas.concat instead.\n",
                        "  self.dif_w = self.dif_w.append([self.diff], ignore_index=True)\n"
                    ]
                },
                {
                    "name": "stdout",
                    "output_type": "stream",
                    "text": [
                        "Time seconds: 1.96116304397583\n",
                        "Time seconds: 2.0181522369384766\n",
                        "Time seconds: 1.9734258651733398\n",
                        "Time seconds: 1.7091221809387207\n",
                        "Time seconds: 1.7789878845214844\n",
                        "Time seconds: 1.7975127696990967\n",
                        "Time seconds: 1.843682050704956\n",
                        "Time seconds: 1.9042577743530273\n"
                    ]
                },
                {
                    "name": "stderr",
                    "output_type": "stream",
                    "text": [
                        "/Users/mw/pyprojects/SKAB/.venv/lib/python3.10/site-packages/arimafd/tanh.py:178: FutureWarning: The frame.append method is deprecated and will be removed from pandas in a future version. Use pandas.concat instead.\n",
                        "  self.ww=self.ww.append([self.w], ignore_index=True)\n",
                        "/Users/mw/pyprojects/SKAB/.venv/lib/python3.10/site-packages/arimafd/tanh.py:181: FutureWarning: The frame.append method is deprecated and will be removed from pandas in a future version. Use pandas.concat instead.\n",
                        "  self.dif_w = self.dif_w.append([self.diff], ignore_index=True)\n",
                        "/Users/mw/pyprojects/SKAB/.venv/lib/python3.10/site-packages/arimafd/tanh.py:140: FutureWarning: The frame.append method is deprecated and will be removed from pandas in a future version. Use pandas.concat instead.\n",
                        "  self.ww=self.ww.append([self.w], ignore_index=True)\n",
                        "/Users/mw/pyprojects/SKAB/.venv/lib/python3.10/site-packages/arimafd/tanh.py:141: FutureWarning: The frame.append method is deprecated and will be removed from pandas in a future version. Use pandas.concat instead.\n",
                        "  self.dif_w = self.dif_w.append([self.diff], ignore_index=True)\n"
                    ]
                },
                {
                    "name": "stdout",
                    "output_type": "stream",
                    "text": [
                        "Time seconds: 1.988921880722046\n",
                        "Time seconds: 1.8466339111328125\n",
                        "Time seconds: 1.6925179958343506\n",
                        "Time seconds: 1.7547111511230469\n",
                        "Time seconds: 1.7628931999206543\n",
                        "Time seconds: 1.7351629734039307\n",
                        "Time seconds: 1.8181359767913818\n",
                        "Time seconds: 1.7668638229370117\n"
                    ]
                },
                {
                    "name": "stderr",
                    "output_type": "stream",
                    "text": [
                        "/Users/mw/pyprojects/SKAB/.venv/lib/python3.10/site-packages/arimafd/tanh.py:178: FutureWarning: The frame.append method is deprecated and will be removed from pandas in a future version. Use pandas.concat instead.\n",
                        "  self.ww=self.ww.append([self.w], ignore_index=True)\n",
                        "/Users/mw/pyprojects/SKAB/.venv/lib/python3.10/site-packages/arimafd/tanh.py:181: FutureWarning: The frame.append method is deprecated and will be removed from pandas in a future version. Use pandas.concat instead.\n",
                        "  self.dif_w = self.dif_w.append([self.diff], ignore_index=True)\n",
                        "/Users/mw/pyprojects/SKAB/.venv/lib/python3.10/site-packages/arimafd/tanh.py:140: FutureWarning: The frame.append method is deprecated and will be removed from pandas in a future version. Use pandas.concat instead.\n",
                        "  self.ww=self.ww.append([self.w], ignore_index=True)\n",
                        "/Users/mw/pyprojects/SKAB/.venv/lib/python3.10/site-packages/arimafd/tanh.py:141: FutureWarning: The frame.append method is deprecated and will be removed from pandas in a future version. Use pandas.concat instead.\n",
                        "  self.dif_w = self.dif_w.append([self.diff], ignore_index=True)\n"
                    ]
                },
                {
                    "name": "stdout",
                    "output_type": "stream",
                    "text": [
                        "Time seconds: 1.8353288173675537\n",
                        "Time seconds: 2.081977128982544\n",
                        "Time seconds: 1.89631986618042\n",
                        "Time seconds: 1.846815824508667\n",
                        "Time seconds: 1.79347825050354\n",
                        "Time seconds: 1.7137808799743652\n",
                        "Time seconds: 1.8073639869689941\n",
                        "Time seconds: 2.0566070079803467\n"
                    ]
                },
                {
                    "name": "stderr",
                    "output_type": "stream",
                    "text": [
                        "/Users/mw/pyprojects/SKAB/.venv/lib/python3.10/site-packages/arimafd/tanh.py:178: FutureWarning: The frame.append method is deprecated and will be removed from pandas in a future version. Use pandas.concat instead.\n",
                        "  self.ww=self.ww.append([self.w], ignore_index=True)\n",
                        "/Users/mw/pyprojects/SKAB/.venv/lib/python3.10/site-packages/arimafd/tanh.py:181: FutureWarning: The frame.append method is deprecated and will be removed from pandas in a future version. Use pandas.concat instead.\n",
                        "  self.dif_w = self.dif_w.append([self.diff], ignore_index=True)\n",
                        "/Users/mw/pyprojects/SKAB/.venv/lib/python3.10/site-packages/arimafd/tanh.py:140: FutureWarning: The frame.append method is deprecated and will be removed from pandas in a future version. Use pandas.concat instead.\n",
                        "  self.ww=self.ww.append([self.w], ignore_index=True)\n",
                        "/Users/mw/pyprojects/SKAB/.venv/lib/python3.10/site-packages/arimafd/tanh.py:141: FutureWarning: The frame.append method is deprecated and will be removed from pandas in a future version. Use pandas.concat instead.\n",
                        "  self.dif_w = self.dif_w.append([self.diff], ignore_index=True)\n"
                    ]
                },
                {
                    "name": "stdout",
                    "output_type": "stream",
                    "text": [
                        "Time seconds: 2.1119110584259033\n",
                        "Time seconds: 1.98848295211792\n",
                        "Time seconds: 2.139522075653076\n",
                        "Time seconds: 2.145001173019409\n",
                        "Time seconds: 2.058400869369507\n",
                        "Time seconds: 2.022141933441162\n",
                        "Time seconds: 2.218951940536499\n",
                        "Time seconds: 2.0166749954223633\n"
                    ]
                },
                {
                    "name": "stderr",
                    "output_type": "stream",
                    "text": [
                        "/Users/mw/pyprojects/SKAB/.venv/lib/python3.10/site-packages/arimafd/tanh.py:178: FutureWarning: The frame.append method is deprecated and will be removed from pandas in a future version. Use pandas.concat instead.\n",
                        "  self.ww=self.ww.append([self.w], ignore_index=True)\n",
                        "/Users/mw/pyprojects/SKAB/.venv/lib/python3.10/site-packages/arimafd/tanh.py:181: FutureWarning: The frame.append method is deprecated and will be removed from pandas in a future version. Use pandas.concat instead.\n",
                        "  self.dif_w = self.dif_w.append([self.diff], ignore_index=True)\n",
                        "/Users/mw/pyprojects/SKAB/.venv/lib/python3.10/site-packages/arimafd/tanh.py:140: FutureWarning: The frame.append method is deprecated and will be removed from pandas in a future version. Use pandas.concat instead.\n",
                        "  self.ww=self.ww.append([self.w], ignore_index=True)\n",
                        "/Users/mw/pyprojects/SKAB/.venv/lib/python3.10/site-packages/arimafd/tanh.py:141: FutureWarning: The frame.append method is deprecated and will be removed from pandas in a future version. Use pandas.concat instead.\n",
                        "  self.dif_w = self.dif_w.append([self.diff], ignore_index=True)\n"
                    ]
                },
                {
                    "name": "stdout",
                    "output_type": "stream",
                    "text": [
                        "Time seconds: 1.955502986907959\n",
                        "Time seconds: 1.8674077987670898\n",
                        "Time seconds: 1.7426187992095947\n",
                        "Time seconds: 1.8432340621948242\n",
                        "Time seconds: 1.731266736984253\n",
                        "Time seconds: 1.718033790588379\n",
                        "Time seconds: 1.7348949909210205\n",
                        "Time seconds: 1.8834149837493896\n"
                    ]
                },
                {
                    "name": "stderr",
                    "output_type": "stream",
                    "text": [
                        "/Users/mw/pyprojects/SKAB/.venv/lib/python3.10/site-packages/arimafd/tanh.py:178: FutureWarning: The frame.append method is deprecated and will be removed from pandas in a future version. Use pandas.concat instead.\n",
                        "  self.ww=self.ww.append([self.w], ignore_index=True)\n",
                        "/Users/mw/pyprojects/SKAB/.venv/lib/python3.10/site-packages/arimafd/tanh.py:181: FutureWarning: The frame.append method is deprecated and will be removed from pandas in a future version. Use pandas.concat instead.\n",
                        "  self.dif_w = self.dif_w.append([self.diff], ignore_index=True)\n",
                        "/Users/mw/pyprojects/SKAB/.venv/lib/python3.10/site-packages/arimafd/tanh.py:140: FutureWarning: The frame.append method is deprecated and will be removed from pandas in a future version. Use pandas.concat instead.\n",
                        "  self.ww=self.ww.append([self.w], ignore_index=True)\n",
                        "/Users/mw/pyprojects/SKAB/.venv/lib/python3.10/site-packages/arimafd/tanh.py:141: FutureWarning: The frame.append method is deprecated and will be removed from pandas in a future version. Use pandas.concat instead.\n",
                        "  self.dif_w = self.dif_w.append([self.diff], ignore_index=True)\n"
                    ]
                },
                {
                    "name": "stdout",
                    "output_type": "stream",
                    "text": [
                        "Time seconds: 1.660825252532959\n",
                        "Time seconds: 1.8042690753936768\n",
                        "Time seconds: 1.8287148475646973\n",
                        "Time seconds: 1.7533509731292725\n",
                        "Time seconds: 1.733854055404663\n",
                        "Time seconds: 1.8449561595916748\n",
                        "Time seconds: 1.8657071590423584\n",
                        "Time seconds: 1.8347182273864746\n"
                    ]
                },
                {
                    "name": "stderr",
                    "output_type": "stream",
                    "text": [
                        "/Users/mw/pyprojects/SKAB/.venv/lib/python3.10/site-packages/arimafd/tanh.py:178: FutureWarning: The frame.append method is deprecated and will be removed from pandas in a future version. Use pandas.concat instead.\n",
                        "  self.ww=self.ww.append([self.w], ignore_index=True)\n",
                        "/Users/mw/pyprojects/SKAB/.venv/lib/python3.10/site-packages/arimafd/tanh.py:181: FutureWarning: The frame.append method is deprecated and will be removed from pandas in a future version. Use pandas.concat instead.\n",
                        "  self.dif_w = self.dif_w.append([self.diff], ignore_index=True)\n",
                        "/Users/mw/pyprojects/SKAB/.venv/lib/python3.10/site-packages/arimafd/tanh.py:140: FutureWarning: The frame.append method is deprecated and will be removed from pandas in a future version. Use pandas.concat instead.\n",
                        "  self.ww=self.ww.append([self.w], ignore_index=True)\n",
                        "/Users/mw/pyprojects/SKAB/.venv/lib/python3.10/site-packages/arimafd/tanh.py:141: FutureWarning: The frame.append method is deprecated and will be removed from pandas in a future version. Use pandas.concat instead.\n",
                        "  self.dif_w = self.dif_w.append([self.diff], ignore_index=True)\n"
                    ]
                },
                {
                    "name": "stdout",
                    "output_type": "stream",
                    "text": [
                        "Time seconds: 1.989283800125122\n",
                        "Time seconds: 1.8173010349273682\n",
                        "Time seconds: 1.76359224319458\n",
                        "Time seconds: 1.8898708820343018\n",
                        "Time seconds: 1.7930829524993896\n",
                        "Time seconds: 1.9278078079223633\n",
                        "Time seconds: 1.7691400051116943\n",
                        "Time seconds: 1.8677799701690674\n"
                    ]
                },
                {
                    "name": "stderr",
                    "output_type": "stream",
                    "text": [
                        "/Users/mw/pyprojects/SKAB/.venv/lib/python3.10/site-packages/arimafd/tanh.py:178: FutureWarning: The frame.append method is deprecated and will be removed from pandas in a future version. Use pandas.concat instead.\n",
                        "  self.ww=self.ww.append([self.w], ignore_index=True)\n",
                        "/Users/mw/pyprojects/SKAB/.venv/lib/python3.10/site-packages/arimafd/tanh.py:181: FutureWarning: The frame.append method is deprecated and will be removed from pandas in a future version. Use pandas.concat instead.\n",
                        "  self.dif_w = self.dif_w.append([self.diff], ignore_index=True)\n",
                        "/Users/mw/pyprojects/SKAB/.venv/lib/python3.10/site-packages/arimafd/tanh.py:140: FutureWarning: The frame.append method is deprecated and will be removed from pandas in a future version. Use pandas.concat instead.\n",
                        "  self.ww=self.ww.append([self.w], ignore_index=True)\n",
                        "/Users/mw/pyprojects/SKAB/.venv/lib/python3.10/site-packages/arimafd/tanh.py:141: FutureWarning: The frame.append method is deprecated and will be removed from pandas in a future version. Use pandas.concat instead.\n",
                        "  self.dif_w = self.dif_w.append([self.diff], ignore_index=True)\n"
                    ]
                },
                {
                    "name": "stdout",
                    "output_type": "stream",
                    "text": [
                        "Time seconds: 1.8107800483703613\n",
                        "Time seconds: 1.8006620407104492\n",
                        "Time seconds: 1.8557651042938232\n",
                        "Time seconds: 1.8200569152832031\n",
                        "Time seconds: 1.7421250343322754\n",
                        "Time seconds: 1.7234947681427002\n",
                        "Time seconds: 1.9881176948547363\n",
                        "Time seconds: 1.7334368228912354\n"
                    ]
                },
                {
                    "name": "stderr",
                    "output_type": "stream",
                    "text": [
                        "/Users/mw/pyprojects/SKAB/.venv/lib/python3.10/site-packages/arimafd/tanh.py:178: FutureWarning: The frame.append method is deprecated and will be removed from pandas in a future version. Use pandas.concat instead.\n",
                        "  self.ww=self.ww.append([self.w], ignore_index=True)\n",
                        "/Users/mw/pyprojects/SKAB/.venv/lib/python3.10/site-packages/arimafd/tanh.py:181: FutureWarning: The frame.append method is deprecated and will be removed from pandas in a future version. Use pandas.concat instead.\n",
                        "  self.dif_w = self.dif_w.append([self.diff], ignore_index=True)\n",
                        "/Users/mw/pyprojects/SKAB/.venv/lib/python3.10/site-packages/arimafd/tanh.py:140: FutureWarning: The frame.append method is deprecated and will be removed from pandas in a future version. Use pandas.concat instead.\n",
                        "  self.ww=self.ww.append([self.w], ignore_index=True)\n",
                        "/Users/mw/pyprojects/SKAB/.venv/lib/python3.10/site-packages/arimafd/tanh.py:141: FutureWarning: The frame.append method is deprecated and will be removed from pandas in a future version. Use pandas.concat instead.\n",
                        "  self.dif_w = self.dif_w.append([self.diff], ignore_index=True)\n"
                    ]
                },
                {
                    "name": "stdout",
                    "output_type": "stream",
                    "text": [
                        "Time seconds: 1.860931158065796\n",
                        "Time seconds: 1.8373854160308838\n",
                        "Time seconds: 1.7943618297576904\n",
                        "Time seconds: 1.7836930751800537\n",
                        "Time seconds: 1.7730178833007812\n",
                        "Time seconds: 1.7648589611053467\n",
                        "Time seconds: 1.861008882522583\n",
                        "Time seconds: 1.856579065322876\n"
                    ]
                },
                {
                    "name": "stderr",
                    "output_type": "stream",
                    "text": [
                        "/Users/mw/pyprojects/SKAB/.venv/lib/python3.10/site-packages/arimafd/tanh.py:178: FutureWarning: The frame.append method is deprecated and will be removed from pandas in a future version. Use pandas.concat instead.\n",
                        "  self.ww=self.ww.append([self.w], ignore_index=True)\n",
                        "/Users/mw/pyprojects/SKAB/.venv/lib/python3.10/site-packages/arimafd/tanh.py:181: FutureWarning: The frame.append method is deprecated and will be removed from pandas in a future version. Use pandas.concat instead.\n",
                        "  self.dif_w = self.dif_w.append([self.diff], ignore_index=True)\n",
                        "/Users/mw/pyprojects/SKAB/.venv/lib/python3.10/site-packages/arimafd/tanh.py:140: FutureWarning: The frame.append method is deprecated and will be removed from pandas in a future version. Use pandas.concat instead.\n",
                        "  self.ww=self.ww.append([self.w], ignore_index=True)\n",
                        "/Users/mw/pyprojects/SKAB/.venv/lib/python3.10/site-packages/arimafd/tanh.py:141: FutureWarning: The frame.append method is deprecated and will be removed from pandas in a future version. Use pandas.concat instead.\n",
                        "  self.dif_w = self.dif_w.append([self.diff], ignore_index=True)\n"
                    ]
                },
                {
                    "name": "stdout",
                    "output_type": "stream",
                    "text": [
                        "Time seconds: 1.9075722694396973\n",
                        "Time seconds: 1.7674880027770996\n",
                        "Time seconds: 1.7663850784301758\n",
                        "Time seconds: 1.7779147624969482\n",
                        "Time seconds: 1.814319133758545\n",
                        "Time seconds: 1.7391431331634521\n",
                        "Time seconds: 1.7908039093017578\n",
                        "Time seconds: 1.8700900077819824\n"
                    ]
                },
                {
                    "name": "stderr",
                    "output_type": "stream",
                    "text": [
                        "/Users/mw/pyprojects/SKAB/.venv/lib/python3.10/site-packages/arimafd/tanh.py:178: FutureWarning: The frame.append method is deprecated and will be removed from pandas in a future version. Use pandas.concat instead.\n",
                        "  self.ww=self.ww.append([self.w], ignore_index=True)\n",
                        "/Users/mw/pyprojects/SKAB/.venv/lib/python3.10/site-packages/arimafd/tanh.py:181: FutureWarning: The frame.append method is deprecated and will be removed from pandas in a future version. Use pandas.concat instead.\n",
                        "  self.dif_w = self.dif_w.append([self.diff], ignore_index=True)\n"
                    ]
                }
            ],
            "source": [
                "predicted_outlier, predicted_cp = [], []\n",
                "true_outlier, true_cp = [], []\n",
                "for X_train, X_test, y_train, y_test in Xy_traintest_list:\n",
                "    model = Arima_anomaly_detection()\n",
                "    model.fit(X_train)\n",
                "    prediction = pd.Series(\n",
                "        model.predict(X_test),\n",
                "        index=X_test.index,\n",
                "    )\n",
                "\n",
                "    # predicted outliers saving\n",
                "    predicted_outlier.append(prediction)\n",
                "\n",
                "    # predicted CPs saving\n",
                "    prediction_cp = prediction.rolling(30).max().fillna(0).diff().abs()\n",
                "    prediction_cp[0] = prediction[0]\n",
                "    predicted_cp.append(prediction_cp)\n",
                "\n",
                "    true_outlier.append(y_test[\"anomaly\"])\n",
                "    true_cp.append(y_test[\"changepoint\"])"
            ]
        },
        {
            "cell_type": "markdown",
            "metadata": {},
            "source": [
                "### Results visualization"
            ]
        },
        {
            "cell_type": "code",
            "execution_count": 4,
            "metadata": {},
            "outputs": [
                {
                    "data": {
                        "image/png": "[encoded data removed]",
                        "text/plain": [
                            "<Figure size 1200x300 with 1 Axes>"
                        ]
                    },
                    "metadata": {},
                    "output_type": "display_data"
                }
            ],
            "source": [
                "# [donotremove]\n",
                "plot_results(\n",
                "    (true_cp[1], predicted_cp[1]),\n",
                ")"
            ]
        },
        {
            "cell_type": "markdown",
            "metadata": {},
            "source": [
                "## Evaluation (metrics calculation)"
            ]
        },
        {
            "cell_type": "code",
            "execution_count": 5,
            "metadata": {},
            "outputs": [],
            "source": [
                "import pickle\n",
                "\n",
                "pickle.dump(\n",
                "    predicted_outlier, open(f\"results-{model.__class__.__name__}.pkl\", \"wb\")\n",
                ")"
            ]
        },
        {
            "cell_type": "markdown",
            "metadata": {},
            "source": [
                "### Binary classification (outlier detection) metrics"
            ]
        },
        {
            "cell_type": "code",
            "execution_count": 11,
            "metadata": {},
            "outputs": [
                {
                    "name": "stdout",
                    "output_type": "stream",
                    "text": [
                        "False Alarm Rate 0.01 %\n",
                        "Missing Alarm Rate 100.0 %\n",
                        "F1 metric 0.0\n"
                    ]
                }
            ],
            "source": [
                "# [donotremove]\n",
                "# binary classification metrics calculation\n",
                "binary = chp_score(true_outlier, predicted_outlier, metric=\"binary\")"
            ]
        },
        {
            "cell_type": "markdown",
            "metadata": {},
            "source": [
                "not implemented"
            ]
        },
        {
            "cell_type": "markdown",
            "metadata": {},
            "source": [
                "### Changepoint detection metrics"
            ]
        },
        {
            "cell_type": "code",
            "execution_count": 6,
            "metadata": {},
            "outputs": [
                {
                    "name": "stdout",
                    "output_type": "stream",
                    "text": [
                        "Amount of true anomalies 127\n",
                        "A number of missed CPs = 127\n",
                        "A number of FPs = 2\n",
                        "Average time nan\n"
                    ]
                },
                {
                    "name": "stderr",
                    "output_type": "stream",
                    "text": [
                        "/Users/mw/pyprojects/SKAB/.venv/lib/python3.10/site-packages/numpy/core/fromnumeric.py:3504: RuntimeWarning: Mean of empty slice.\n",
                        "  return _methods._mean(a, axis=axis, dtype=dtype,\n",
                        "/Users/mw/pyprojects/SKAB/.venv/lib/python3.10/site-packages/numpy/core/_methods.py:129: RuntimeWarning: invalid value encountered in scalar divide\n",
                        "  ret = ret.dtype.type(ret / rcount)\n"
                    ]
                }
            ],
            "source": [
                "# [donotremove]\n",
                "# average detection delay metric calculation\n",
                "add = chp_score(\n",
                "    true_cp,\n",
                "    predicted_cp,\n",
                "    metric=\"average_time\",\n",
                "    window_width=\"60s\",\n",
                "    anomaly_window_destination=\"righter\",\n",
                ")"
            ]
        },
        {
            "cell_type": "code",
            "execution_count": 13,
            "metadata": {},
            "outputs": [
                {
                    "name": "stdout",
                    "output_type": "stream",
                    "text": [
                        "Standard  -  -0.09\n",
                        "LowFP  -  -0.17\n",
                        "LowFN  -  -0.06\n"
                    ]
                }
            ],
            "source": [
                "# [donotremove]\n",
                "# nab metric calculation\n",
                "nab = chp_score(\n",
                "    true_cp,\n",
                "    predicted_cp,\n",
                "    metric=\"nab\",\n",
                "    window_width=\"60s\",\n",
                "    anomaly_window_destination=\"righter\",\n",
                ")"
            ]
        }
    ],
    "metadata": {
        "kernelspec": {
            "display_name": ".venv",
            "language": "python",
            "name": "python3"
        },
        "language_info": {
            "codemirror_mode": {
                "name": "ipython",
                "version": 3
            },
            "file_extension": ".py",
            "mimetype": "text/x-python",
            "name": "python",
            "nbconvert_exporter": "python",
            "pygments_lexer": "ipython3",
            "version": "3.10.14"
        },
        "toc": {
            "base_numbering": 1,
            "nav_menu": {
                "height": "282.997px",
                "width": "471.989px"
            },
            "number_sections": true,
            "sideBar": true,
            "skip_h1_title": false,
            "title_cell": "Table of Contents",
            "title_sidebar": "Contents",
            "toc_cell": false,
            "toc_position": {},
            "toc_section_display": true,
            "toc_window_display": false
        }
    },
    "nbformat": 4,
    "nbformat_minor": 4
}