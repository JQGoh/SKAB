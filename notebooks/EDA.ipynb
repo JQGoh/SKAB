{
 "cells": [
  {
   "cell_type": "markdown",
   "id": "05c3da40",
   "metadata": {
    "papermill": {
     "duration": 0.075123,
     "end_time": "2021-07-04T08:39:57.393931",
     "exception": false,
     "start_time": "2021-07-04T08:39:57.318808",
     "status": "completed"
    },
    "tags": []
   },
   "source": [
    "# Content\n",
    "* [1  Problem description](#1)\n",
    "    * [1.1  Testbed description](#1.1)\n",
    "    * [1.2  Business problem](#1.2)\n",
    "    * [1.3  Metrics](#1.3)\n",
    "    * [1.4  Data description](#1.4)\n",
    "    * [1.5  Strucuture of data](#1.5)\n",
    "* [2  Data analysis](#2)\n",
    "    * [2.1  Data loading](#2.1)\n",
    "    * [2.2  Summarized information about data](#2.2)\n",
    "        * [2.2.1  Number of experiements, sizes of datasets](#2.2.1)\n",
    "        * [2.2.2  Aggregated data for experiments](#2.2.2)\n",
    "    * [2.3  Signal analysis](#2.3)        \n",
    "        * [2.3.1  Descriptive statistics](#2.3.1)\n",
    "        * [2.3.2  Signal plots](#2.3.2)\n",
    "        * [2.3.3  Pairwise Correlations](#2.3.3)\n",
    "        * [2.3.4  Pairplot](#2.3.4)\n",
    "        * [2.3.5  Distribution plot](#2.3.5)"
   ]
  },
  {
   "cell_type": "markdown",
   "id": "8e9614db",
   "metadata": {
    "papermill": {
     "duration": 0.077593,
     "end_time": "2021-07-04T08:39:57.545925",
     "exception": false,
     "start_time": "2021-07-04T08:39:57.468332",
     "status": "completed"
    },
    "tags": []
   },
   "source": [
    "<a id=\"1\"></a>\n",
    "# 1 Problem description"
   ]
  },
  {
   "cell_type": "markdown",
   "id": "87de37cd",
   "metadata": {
    "papermill": {
     "duration": 0.07329,
     "end_time": "2021-07-04T08:39:57.691909",
     "exception": false,
     "start_time": "2021-07-04T08:39:57.618619",
     "status": "completed"
    },
    "tags": []
   },
   "source": [
    "<a id=\"1.1\"></a>\n",
    "## 1.1 Testbed description  "
   ]
  },
  {
   "cell_type": "markdown",
   "id": "542e7005",
   "metadata": {
    "papermill": {
     "duration": 0.073039,
     "end_time": "2021-07-04T08:39:57.839301",
     "exception": false,
     "start_time": "2021-07-04T08:39:57.766262",
     "status": "completed"
    },
    "tags": []
   },
   "source": [
    "![Стенд](https://github.com/waico/SKAB/blob/master/docs/pictures/testbed.png?raw=true)"
   ]
  },
  {
   "cell_type": "markdown",
   "id": "ad5514d2",
   "metadata": {
    "papermill": {
     "duration": 0.09434,
     "end_time": "2021-07-04T08:39:58.014379",
     "exception": false,
     "start_time": "2021-07-04T08:39:57.920039",
     "status": "completed"
    },
    "tags": []
   },
   "source": [
    "Front panel and composition of the water circulation, control and monitoring systems: 1,2 - solenoid valve (amount - 1); 3 - a tank with water (1); 4 - a water pump (1); 5 - emergency stop button (1); 6 - electric motor (1); 7 - inverter (1); 8 - compactRIO (1); 9 - a mechanical lever for shaft misalignment (1). Not shown parts - vibration sensor (2); pressure meter (1); flow meter (1); thermocouple (2)."
   ]
  },
  {
   "cell_type": "markdown",
   "id": "f5786953",
   "metadata": {
    "papermill": {
     "duration": 0.081776,
     "end_time": "2021-07-04T08:39:58.169692",
     "exception": false,
     "start_time": "2021-07-04T08:39:58.087916",
     "status": "completed"
    },
    "tags": []
   },
   "source": [
    "<a id=\"1.2\"></a>\n",
    "## 1.2 Business problem"
   ]
  },
  {
   "cell_type": "markdown",
   "id": "502f9024",
   "metadata": {
    "papermill": {
     "duration": 0.075612,
     "end_time": "2021-07-04T08:39:58.326136",
     "exception": false,
     "start_time": "2021-07-04T08:39:58.250524",
     "status": "completed"
    },
    "tags": []
   },
   "source": [
    "The main advantages of anomaly detection in the operation of equipment:\n",
    "- Reducing equipment maintenance costs\n",
    "- Optimization of terms and duration of repair work\n",
    "- Reducing the probability of failures"
   ]
  },
  {
   "cell_type": "markdown",
   "id": "e18e7cf2",
   "metadata": {
    "papermill": {
     "duration": 0.083387,
     "end_time": "2021-07-04T08:39:58.481890",
     "exception": false,
     "start_time": "2021-07-04T08:39:58.398503",
     "status": "completed"
    },
    "tags": []
   },
   "source": [
    "<a id=\"1.3\"></a>\n",
    "## 1.3 Metrics"
   ]
  },
  {
   "cell_type": "markdown",
   "id": "b8df8ba7",
   "metadata": {
    "papermill": {
     "duration": 0.072621,
     "end_time": "2021-07-04T08:39:58.630279",
     "exception": false,
     "start_time": "2021-07-04T08:39:58.557658",
     "status": "completed"
    },
    "tags": []
   },
   "source": [
    "When an anomaly detection problem is formulated, the classification problem is primarily solved. It is proposed to use the following metrics to evaluate the perfomance of the algorithms:\n",
    "- False Alarm Rate\n",
    "$$FAR = \\frac{FP}{FP+TN}$$\n",
    "- Missing Alarm Rate\n",
    "$$MAR = \\frac{FN}{TP+FN}$$"
   ]
  },
  {
   "cell_type": "markdown",
   "id": "4d653ea9",
   "metadata": {
    "papermill": {
     "duration": 0.071909,
     "end_time": "2021-07-04T08:39:58.774947",
     "exception": false,
     "start_time": "2021-07-04T08:39:58.703038",
     "status": "completed"
    },
    "tags": []
   },
   "source": [
    "Also, to compare the results of the algorithm, you can consider the metrics described in:\n",
    "https://tsad.readthedocs.io/en/latest/Evaluating.html "
   ]
  },
  {
   "cell_type": "markdown",
   "id": "c9c9ea6d",
   "metadata": {
    "papermill": {
     "duration": 0.074578,
     "end_time": "2021-07-04T08:39:58.922544",
     "exception": false,
     "start_time": "2021-07-04T08:39:58.847966",
     "status": "completed"
    },
    "tags": []
   },
   "source": [
    "<a id=\"1.4\"></a>\n",
    "## 1.4 Data description"
   ]
  },
  {
   "cell_type": "markdown",
   "id": "3aa20c7a",
   "metadata": {
    "papermill": {
     "duration": 0.074306,
     "end_time": "2021-07-04T08:39:59.070061",
     "exception": false,
     "start_time": "2021-07-04T08:39:58.995755",
     "status": "completed"
    },
    "tags": []
   },
   "source": [
    "Each file represents one experiment and contains one anomaly (the exception is the anomaly-free file, which does not contain any anomalies). The dataset is a multivariate time series collected from testbed sensors. The data folder contains the datasets from the test. Data Folder Structure:"
   ]
  },
  {
   "cell_type": "markdown",
   "id": "841e0452",
   "metadata": {
    "papermill": {
     "duration": 0.073681,
     "end_time": "2021-07-04T08:39:59.216338",
     "exception": false,
     "start_time": "2021-07-04T08:39:59.142657",
     "status": "completed"
    },
    "tags": []
   },
   "source": [
    "1. anomaly-free - Data obtained from the experiments with normal mode\n",
    "2. valve1 - Data obtained from the experiments with closing the valve at the outlet of the flow from the pump.\n",
    "3. valve2 - Data obtained from the experiments with closing the valve at the flow inlet to the pump.\n",
    "4. other - Data obtained from the other experiments \n",
    "> - 1.csv  Simulation of fluid leaks and fluid additions         \n",
    "> - 2.csv  Simulation of fluid leaks and fluid additions\n",
    "> - 3.csv  Simulation of fluid leaks and fluid additions\n",
    "> - 4.csv  Simulation of fluid leaks and fluid additions         \n",
    "> - 5.csv  Sharply behavior of rotor imbalance\n",
    "> - 6.csv  Linear behavior of rotor imbalance\n",
    "> - 7.csv  Step behavior of rotor imbalance\n",
    "> - 8.csv  Dirac delta function behavior of rotor imbalance\n",
    "> - 9.csv  Exponential behavior of rotor imbalance\n",
    "> - 10.csv The slow increase in the amount of water in the circuit\n",
    "> - 11.csv The sudden increase in the amount of water in the circuit\n",
    "> - 12.csv Draining water from the tank until cavitation\n",
    "> - 13.csv Two-phase flow supply to the pump inlet (cavitation)\n",
    "> - 14.csv Water supply of increased temperature"
   ]
  },
  {
   "cell_type": "markdown",
   "id": "a674a66e",
   "metadata": {
    "papermill": {
     "duration": 0.073901,
     "end_time": "2021-07-04T08:39:59.362521",
     "exception": false,
     "start_time": "2021-07-04T08:39:59.288620",
     "status": "completed"
    },
    "tags": []
   },
   "source": [
    "<a id=\"1.5\"></a>\n",
    "## 1.5 Data structure"
   ]
  },
  {
   "cell_type": "markdown",
   "id": "1f2e078d",
   "metadata": {
    "papermill": {
     "duration": 0.073874,
     "end_time": "2021-07-04T08:39:59.512119",
     "exception": false,
     "start_time": "2021-07-04T08:39:59.438245",
     "status": "completed"
    },
    "tags": []
   },
   "source": [
    "Columns in each data file are following:\n",
    "* datetime - Represents dates and times of the moment when the value is written to the database (YYYY-MM-DD hh:mm:ss)\n",
    "* Accelerometer1RMS - Shows a vibration acceleration (Amount of g units)\n",
    "* Accelerometer2RMS - Shows a vibration acceleration (Amount of g units)\n",
    "* Current - Shows the amperage on the electric motor (Ampere)\n",
    "* Pressure - Represents the pressure in the loop after the water pump (Bar)\n",
    "* Temperature - Shows the temperature of the engine body (The degree Celsius)\n",
    "* Thermocouple - Represents the temperature of the fluid in the circulation loop (The degree Celsius)\n",
    "* Voltage - Shows the voltage on the electric motor (Volt)\n",
    "* RateRMS - Represents the circulation flow rate of the fluid inside the loop (Liter per minute)\n",
    "* anomaly - Shows if the point is anomalous (0 or 1)\n",
    "* changepoint - Shows if the point is a changepoint for collective anomalies (0 or 1)"
   ]
  },
  {
   "cell_type": "markdown",
   "id": "97c75c56",
   "metadata": {
    "papermill": {
     "duration": 0.071564,
     "end_time": "2021-07-04T08:39:59.655719",
     "exception": false,
     "start_time": "2021-07-04T08:39:59.584155",
     "status": "completed"
    },
    "tags": []
   },
   "source": [
    "<a id=\"2\"></a>\n",
    "# 2 Data analysis"
   ]
  },
  {
   "cell_type": "code",
   "execution_count": null,
   "id": "2d2f50ed",
   "metadata": {
    "execution": {
     "iopub.execute_input": "2021-07-04T08:39:59.810209Z",
     "iopub.status.busy": "2021-07-04T08:39:59.809397Z",
     "iopub.status.idle": "2021-07-04T08:40:00.805451Z",
     "shell.execute_reply": "2021-07-04T08:40:00.804562Z",
     "shell.execute_reply.started": "2021-07-04T07:03:13.283818Z"
    },
    "papermill": {
     "duration": 1.076651,
     "end_time": "2021-07-04T08:40:00.805662",
     "exception": false,
     "start_time": "2021-07-04T08:39:59.729011",
     "status": "completed"
    },
    "tags": []
   },
   "outputs": [],
   "source": [
    "import os\n",
    "\n",
    "import numpy as np\n",
    "import pandas as pd\n",
    "from matplotlib import pyplot as plt\n",
    "from IPython.display import display\n",
    "from IPython.core.display import Markdown\n",
    "\n",
    "import warnings\n",
    "\n",
    "warnings.filterwarnings(\"ignore\")"
   ]
  },
  {
   "cell_type": "markdown",
   "id": "cbf2b933",
   "metadata": {
    "papermill": {
     "duration": 0.072712,
     "end_time": "2021-07-04T08:40:01.117712",
     "exception": false,
     "start_time": "2021-07-04T08:40:01.045000",
     "status": "completed"
    },
    "tags": []
   },
   "source": [
    "<a id=\"2.1\"></a>\n",
    "## 2.1 Data loading"
   ]
  },
  {
   "cell_type": "code",
   "execution_count": null,
   "id": "53dddbf7",
   "metadata": {
    "execution": {
     "iopub.execute_input": "2021-07-04T08:40:01.267565Z",
     "iopub.status.busy": "2021-07-04T08:40:01.266844Z",
     "iopub.status.idle": "2021-07-04T08:40:01.305601Z",
     "shell.execute_reply": "2021-07-04T08:40:01.304814Z",
     "shell.execute_reply.started": "2021-07-04T07:03:13.764442Z"
    },
    "papermill": {
     "duration": 0.115346,
     "end_time": "2021-07-04T08:40:01.305752",
     "exception": false,
     "start_time": "2021-07-04T08:40:01.190406",
     "status": "completed"
    },
    "tags": []
   },
   "outputs": [],
   "source": [
    "all_files = []\n",
    "for root, dirs, files in os.walk(\"../data/\"):\n",
    "    for file in files:\n",
    "        if file.endswith(\".csv\"):\n",
    "            all_files.append(f\"{root}/{file}\")\n",
    "\n",
    "all_files.sort()\n",
    "display(all_files)"
   ]
  },
  {
   "cell_type": "code",
   "execution_count": null,
   "id": "b47ddb83",
   "metadata": {
    "execution": {
     "iopub.execute_input": "2021-07-04T08:40:01.614110Z",
     "iopub.status.busy": "2021-07-04T08:40:01.613398Z",
     "iopub.status.idle": "2021-07-04T08:40:01.616293Z",
     "shell.execute_reply": "2021-07-04T08:40:01.615687Z",
     "shell.execute_reply.started": "2021-07-04T07:03:13.793922Z"
    },
    "papermill": {
     "duration": 0.082924,
     "end_time": "2021-07-04T08:40:01.616428",
     "exception": false,
     "start_time": "2021-07-04T08:40:01.533504",
     "status": "completed"
    },
    "tags": []
   },
   "outputs": [],
   "source": [
    "other_description = {\n",
    "    \"1.csv\": \"Simulation of fluid leaks and fluid additions\",\n",
    "    \"2.csv\": \"Simulation of fluid leaks and fluid additions\",\n",
    "    \"3.csv\": \"Simulation of fluid leaks and fluid additions\",\n",
    "    \"4.csv\": \"Simulation of fluid leaks and fluid additions\",\n",
    "    \"5.csv\": \"Sharply behavior of rotor imbalance\",\n",
    "    \"6.csv\": \"Linear behavior of rotor imbalance\",\n",
    "    \"7.csv\": \"Step behavior of rotor imbalance\",\n",
    "    \"8.csv\": \"Dirac delta function behavior of rotor imbalance\",\n",
    "    \"9.csv\": \"Exponential behavior of rotor imbalance\",\n",
    "    \"10.csv\": \"The slow increase in the amount of water in the circuit\",\n",
    "    \"11.csv\": \"The sudden increase in the amount of water in the circuit\",\n",
    "    \"12.csv\": \"Draining water from the tank until cavitation\",\n",
    "    \"13.csv\": \"Two-phase flow supply to the pump inlet (cavitation)\",\n",
    "    \"14.csv\": \"Water supply of increased temperature\",\n",
    "}"
   ]
  },
  {
   "cell_type": "code",
   "execution_count": null,
   "id": "91dbc289",
   "metadata": {
    "execution": {
     "iopub.execute_input": "2021-07-04T08:40:01.770246Z",
     "iopub.status.busy": "2021-07-04T08:40:01.769546Z",
     "iopub.status.idle": "2021-07-04T08:40:02.370927Z",
     "shell.execute_reply": "2021-07-04T08:40:02.370143Z",
     "shell.execute_reply.started": "2021-07-04T07:03:13.800463Z"
    },
    "papermill": {
     "duration": 0.679776,
     "end_time": "2021-07-04T08:40:02.371108",
     "exception": false,
     "start_time": "2021-07-04T08:40:01.691332",
     "status": "completed"
    },
    "tags": []
   },
   "outputs": [],
   "source": [
    "# Группировка данных по типу аномалии\n",
    "anomaly_free_data = pd.read_csv(\n",
    "    \"../data/anomaly-free/anomaly-free.csv\",\n",
    "    sep=\";\",\n",
    "    index_col=\"datetime\",\n",
    "    parse_dates=True,\n",
    ")\n",
    "valve1_data = {\n",
    "    file.split(\"/\")[-1]: pd.read_csv(\n",
    "        file, sep=\";\", index_col=\"datetime\", parse_dates=True\n",
    "    )\n",
    "    for file in all_files\n",
    "    if \"valve1\" in file\n",
    "}\n",
    "valve2_data = {\n",
    "    file.split(\"/\")[-1]: pd.read_csv(\n",
    "        file, sep=\";\", index_col=\"datetime\", parse_dates=True\n",
    "    )\n",
    "    for file in all_files\n",
    "    if \"valve2\" in file\n",
    "}\n",
    "other_data = {\n",
    "    file.split(\"/\")[-1]: pd.read_csv(\n",
    "        file, sep=\";\", index_col=\"datetime\", parse_dates=True\n",
    "    )\n",
    "    for file in all_files\n",
    "    if \"other\" in file\n",
    "}"
   ]
  },
  {
   "cell_type": "markdown",
   "id": "438abadb",
   "metadata": {
    "papermill": {
     "duration": 0.079982,
     "end_time": "2021-07-04T08:40:02.530980",
     "exception": false,
     "start_time": "2021-07-04T08:40:02.450998",
     "status": "completed"
    },
    "tags": []
   },
   "source": [
    "<a id=\"2.2\"></a>\n",
    "## 2.2 Summarized information about the data\n",
    "This section focuses on general information about data and contains the following subsections:\n",
    "* Number of experiments, dataset sizes\n",
    "* Aggregated experiment data\n",
    "* Descriptive statistics\n",
    "* Gaps and outliers in the data\n",
    "* Measurement resolution\n",
    "* Pairwise correlations\n",
    "* Determination of the operation modes: transfer mode, work mode, stop mode"
   ]
  },
  {
   "cell_type": "markdown",
   "id": "be56b924",
   "metadata": {
    "papermill": {
     "duration": 0.073232,
     "end_time": "2021-07-04T08:40:02.678226",
     "exception": false,
     "start_time": "2021-07-04T08:40:02.604994",
     "status": "completed"
    },
    "tags": []
   },
   "source": [
    "<a id=\"2.2.1\"></a>\n",
    "### 2.2.1 Number of experiments, dataset sizes\n",
    "To get started, you can look at the number of experiments in each group, the first few rows in these experiments, and the dimension of the data in the experiments."
   ]
  },
  {
   "cell_type": "code",
   "execution_count": null,
   "id": "4fc87295",
   "metadata": {
    "execution": {
     "iopub.execute_input": "2021-07-04T08:40:02.834192Z",
     "iopub.status.busy": "2021-07-04T08:40:02.832459Z",
     "iopub.status.idle": "2021-07-04T08:40:02.877905Z",
     "shell.execute_reply": "2021-07-04T08:40:02.879063Z",
     "shell.execute_reply.started": "2021-07-04T07:03:14.209164Z"
    },
    "papermill": {
     "duration": 0.127658,
     "end_time": "2021-07-04T08:40:02.879455",
     "exception": false,
     "start_time": "2021-07-04T08:40:02.751797",
     "status": "completed"
    },
    "tags": []
   },
   "outputs": [],
   "source": [
    "display(Markdown(\"<br>__Number of experiments in each group:__\"))\n",
    "print(\n",
    "    \"Experiments with closing the valve at the outlet of the pump:\",\n",
    "    len(valve1_data),\n",
    ")\n",
    "print(\n",
    "    \"Experiments with closing the valve at the inlet flow to the pump:\",\n",
    "    len(valve2_data),\n",
    ")\n",
    "print(\"Other experiments:\", len(other_data))\n",
    "print(\"Datasets without anomalies: 1\")\n",
    "\n",
    "display(Markdown(\"<br><br>__Dataset without anomalies__\"))\n",
    "display(anomaly_free_data.head(3))\n",
    "print(\"Dataset size:\", anomaly_free_data.shape)\n",
    "\n",
    "display(\n",
    "    Markdown(\n",
    "        '<br><br>__The first dataset from the group \"Other experiments\"__'\n",
    "    )\n",
    ")\n",
    "display(other_data[\"1.csv\"].head(3))\n",
    "print(\"Dataset size:\", other_data[\"1.csv\"].shape)"
   ]
  },
  {
   "cell_type": "markdown",
   "id": "419d6fc6",
   "metadata": {
    "papermill": {
     "duration": 0.082153,
     "end_time": "2021-07-04T08:40:03.043596",
     "exception": false,
     "start_time": "2021-07-04T08:40:02.961443",
     "status": "completed"
    },
    "tags": []
   },
   "source": [
    "<a id=\"2.2.2\"></a>\n",
    "### 2.2.2 Aggregated data for experiments\n",
    "To compare different experiments, we will collect aggregated information for each experiment and create a pivot table that includes the following fields:\n",
    "* type of experiment\n",
    "* experiment number\n",
    "* description of the experiment\n",
    "* experiment duration\n",
    "* number of lines\n",
    "* percentage of rows with anomalies\n",
    "* number of state change points\n",
    "* Main time between samples, seconds\n",
    "* Percent of main sample frequency among all samples\n",
    "* Number of time gaps between samples\n"
   ]
  },
  {
   "cell_type": "code",
   "execution_count": null,
   "id": "90c2c5af",
   "metadata": {
    "execution": {
     "iopub.execute_input": "2021-07-04T08:40:03.204984Z",
     "iopub.status.busy": "2021-07-04T08:40:03.204265Z",
     "iopub.status.idle": "2021-07-04T08:40:03.228500Z",
     "shell.execute_reply": "2021-07-04T08:40:03.229085Z",
     "shell.execute_reply.started": "2021-07-04T07:03:14.265207Z"
    },
    "papermill": {
     "duration": 0.105778,
     "end_time": "2021-07-04T08:40:03.229266",
     "exception": false,
     "start_time": "2021-07-04T08:40:03.123488",
     "status": "completed"
    },
    "tags": []
   },
   "outputs": [],
   "source": [
    "def experiment_describe(data, anomaly_type, description, experiment):\n",
    "    start_time = data.index.min()\n",
    "    finish_time = data.index.max()\n",
    "    duration = finish_time - start_time\n",
    "\n",
    "    nas = data.isna().sum().sum()\n",
    "\n",
    "    rows = data.shape[0]\n",
    "    if \"anomaly\" in data.columns:\n",
    "        anomaly_percent = np.round(data[\"anomaly\"].mean() * 100, 2)\n",
    "        changepoints = data[\"changepoint\"].sum()\n",
    "    else:\n",
    "        anomaly_percent = 0\n",
    "        changepoints = 0\n",
    "\n",
    "    dif_time = data.index.to_series().diff().dropna().dt.seconds.value_counts()\n",
    "    main_sample_rate = dif_time.index[0]\n",
    "    percent_of_main_sample_rate = round(\n",
    "        dif_time.values[0] / dif_time.sum() * 100, 2\n",
    "    )\n",
    "    number_of_gaps = dif_time[dif_time.index > main_sample_rate * 3].sum()\n",
    "\n",
    "    columns = [\n",
    "        \"anomaly_type\",\n",
    "        \"experiment\",\n",
    "        \"description\",\n",
    "        \"duration\",\n",
    "        \"rows\",\n",
    "        \"anomaly_percent\",\n",
    "        \"changepoints\",\n",
    "        \"Nas\",\n",
    "        \"Main time between samples, seconds\",\n",
    "        \"Percent of main sample frequency among all samples\",\n",
    "        \"Number of gaps\",\n",
    "    ]\n",
    "    values = np.array(\n",
    "        [\n",
    "            anomaly_type,\n",
    "            experiment,\n",
    "            description,\n",
    "            duration,\n",
    "            rows,\n",
    "            anomaly_percent,\n",
    "            changepoints,\n",
    "            nas,\n",
    "            main_sample_rate,\n",
    "            percent_of_main_sample_rate,\n",
    "            number_of_gaps,\n",
    "        ]\n",
    "    ).reshape(1, -1)\n",
    "\n",
    "    describe_df = pd.DataFrame(columns=columns, data=values)\n",
    "    return describe_df\n",
    "\n",
    "\n",
    "experiment = \"1.csv\"\n",
    "display(\n",
    "    Markdown(\n",
    "        \"<br>__An example of aggregated information for the experiment with the closing of the outlet valve__<br><br>\"\n",
    "    )\n",
    ")\n",
    "display(\n",
    "    experiment_describe(\n",
    "        valve1_data[experiment],\n",
    "        \"value1\",\n",
    "        \"Closing the valve downstream of the pump\",\n",
    "        experiment,\n",
    "    )\n",
    ")"
   ]
  },
  {
   "cell_type": "code",
   "execution_count": null,
   "id": "1078de2c",
   "metadata": {
    "execution": {
     "iopub.execute_input": "2021-07-04T08:40:03.550581Z",
     "iopub.status.busy": "2021-07-04T08:40:03.549823Z",
     "iopub.status.idle": "2021-07-04T08:40:03.720072Z",
     "shell.execute_reply": "2021-07-04T08:40:03.719530Z",
     "shell.execute_reply.started": "2021-07-04T07:03:14.296961Z"
    },
    "papermill": {
     "duration": 0.257509,
     "end_time": "2021-07-04T08:40:03.720210",
     "exception": false,
     "start_time": "2021-07-04T08:40:03.462701",
     "status": "completed"
    },
    "scrolled": false,
    "tags": []
   },
   "outputs": [],
   "source": [
    "def get_summary_table():\n",
    "    df = experiment_describe(\n",
    "        anomaly_free_data, \"anomaly_free\", \"Normal mode\", \"anomaly-free.csv\"\n",
    "    )\n",
    "\n",
    "    for experiment in valve1_data:\n",
    "        df = pd.concat(\n",
    "            [\n",
    "                df,\n",
    "                experiment_describe(\n",
    "                    valve1_data[experiment],\n",
    "                    \"valve1\",\n",
    "                    \"Closing the valve downstream of the pump\",\n",
    "                    experiment,\n",
    "                ),\n",
    "            ]\n",
    "        )\n",
    "\n",
    "    for experiment in valve2_data:\n",
    "        df = pd.concat(\n",
    "            [\n",
    "                df,\n",
    "                experiment_describe(\n",
    "                    valve2_data[experiment],\n",
    "                    \"valve2\",\n",
    "                    \"Closing the valve at the inlet flow to the pump\",\n",
    "                    experiment,\n",
    "                ),\n",
    "            ]\n",
    "        )\n",
    "\n",
    "    for experiment in other_data:\n",
    "        df = pd.concat(\n",
    "            [\n",
    "                df,\n",
    "                experiment_describe(\n",
    "                    other_data[experiment],\n",
    "                    \"other\",\n",
    "                    other_description[experiment],\n",
    "                    experiment,\n",
    "                ),\n",
    "            ]\n",
    "        )\n",
    "\n",
    "    df.index = pd.Index([x for x in range(df.shape[0])])\n",
    "    return df\n",
    "\n",
    "\n",
    "summary_table = get_summary_table()\n",
    "display(Markdown(\"<br>__Summary table for all experiments__<br><br>\"))\n",
    "display(summary_table)"
   ]
  },
  {
   "cell_type": "markdown",
   "id": "10715239",
   "metadata": {
    "papermill": {
     "duration": 0.07967,
     "end_time": "2021-07-04T08:40:03.881075",
     "exception": false,
     "start_time": "2021-07-04T08:40:03.801405",
     "status": "completed"
    },
    "tags": []
   },
   "source": [
    "__From this table, the following can be noted:__\n",
    "* The target time for experiments is about 20 minutes, for anomaly_free the time was 2 hours 46 minutes\n",
    "* The percentage of time with an abnormal mode is in the range from 25.83% to 57.74%, but for the main part, this value is in the region of 35%\n",
    "* For most experiments, 4 state change points are recorded\n",
    "* np.NaN values are missing in the data"
   ]
  },
  {
   "cell_type": "markdown",
   "id": "7af79e81",
   "metadata": {},
   "source": [
    " "
   ]
  },
  {
   "cell_type": "markdown",
   "id": "6ce9a899",
   "metadata": {},
   "source": [
    "<a id=\"2.3\"></a>\n",
    "## 2.3 Signal analysis"
   ]
  },
  {
   "cell_type": "code",
   "execution_count": null,
   "id": "3ddef134",
   "metadata": {},
   "outputs": [],
   "source": [
    "# Join datasets\n",
    "all_data = (\n",
    "    pd.concat(\n",
    "        (\n",
    "            [anomaly_free_data]\n",
    "            + list(valve1_data.values())\n",
    "            + list(valve2_data.values())\n",
    "            + list(other_data.values())\n",
    "        )\n",
    "    )\n",
    "    .sort_index()\n",
    "    .drop_duplicates()\n",
    ")"
   ]
  },
  {
   "cell_type": "code",
   "execution_count": null,
   "id": "3a31d1af",
   "metadata": {},
   "outputs": [],
   "source": [
    "all_data"
   ]
  },
  {
   "cell_type": "markdown",
   "id": "b269c10f",
   "metadata": {
    "papermill": {
     "duration": 0.083039,
     "end_time": "2021-07-04T08:40:04.045816",
     "exception": false,
     "start_time": "2021-07-04T08:40:03.962777",
     "status": "completed"
    },
    "tags": []
   },
   "source": [
    "<a id=\"2.3.1\"></a>\n",
    "### 2.3.1 Descriptive statistics\n",
    "To further familiarize yourself with the data, you can display descriptive statistics for one of the experiments.\n",
    "They include the following fields:\n",
    "* count - number of records that are not gaps (np.NaN)\n",
    "* minimum, average, maximum values, median and 25 75 percentiles\n",
    "* standard deviation"
   ]
  },
  {
   "cell_type": "code",
   "execution_count": null,
   "id": "d8208bb9",
   "metadata": {
    "execution": {
     "iopub.execute_input": "2021-07-04T08:40:04.217708Z",
     "iopub.status.busy": "2021-07-04T08:40:04.217024Z",
     "iopub.status.idle": "2021-07-04T08:40:04.256434Z",
     "shell.execute_reply": "2021-07-04T08:40:04.255703Z",
     "shell.execute_reply.started": "2021-07-04T07:03:14.481751Z"
    },
    "papermill": {
     "duration": 0.128446,
     "end_time": "2021-07-04T08:40:04.256598",
     "exception": false,
     "start_time": "2021-07-04T08:40:04.128152",
     "status": "completed"
    },
    "tags": []
   },
   "outputs": [],
   "source": [
    "display(all_data.iloc[:, :-2].describe().T)"
   ]
  },
  {
   "cell_type": "code",
   "execution_count": null,
   "id": "eb9c5546",
   "metadata": {
    "execution": {
     "iopub.execute_input": "2021-07-04T08:40:04.597319Z",
     "iopub.status.busy": "2021-07-04T08:40:04.596150Z",
     "iopub.status.idle": "2021-07-04T08:40:04.791359Z",
     "shell.execute_reply": "2021-07-04T08:40:04.790733Z",
     "shell.execute_reply.started": "2021-07-04T07:03:14.525093Z"
    },
    "papermill": {
     "duration": 0.288326,
     "end_time": "2021-07-04T08:40:04.791551",
     "exception": false,
     "start_time": "2021-07-04T08:40:04.503225",
     "status": "completed"
    },
    "tags": []
   },
   "outputs": [],
   "source": [
    "columns = anomaly_free_data.columns\n",
    "mean_table = pd.DataFrame(index=[x + \" mean\" for x in columns])\n",
    "mean_table[\"anomaly free\"] = anomaly_free_data.describe().loc[\"mean\"].values\n",
    "mean_table[\"valve1[1.csv]\"] = (\n",
    "    valve1_data[\"1.csv\"][columns].describe().loc[\"mean\"].values\n",
    ")\n",
    "mean_table[\"valve2[1.csv]\"] = (\n",
    "    valve2_data[\"1.csv\"][columns].describe().loc[\"mean\"].values\n",
    ")\n",
    "mean_table[\"other[1.csv]\"] = (\n",
    "    other_data[\"1.csv\"][columns].describe().loc[\"mean\"].values\n",
    ")\n",
    "\n",
    "std_table = pd.DataFrame(index=[x + \" std\" for x in columns])\n",
    "std_table[\"anomaly free\"] = anomaly_free_data.describe().loc[\"std\"].values\n",
    "std_table[\"valve1[1.csv]\"] = (\n",
    "    valve1_data[\"1.csv\"][columns].describe().loc[\"std\"].values\n",
    ")\n",
    "std_table[\"valve2[1.csv]\"] = (\n",
    "    valve2_data[\"1.csv\"][columns].describe().loc[\"std\"].values\n",
    ")\n",
    "std_table[\"other[1.csv]\"] = (\n",
    "    other_data[\"1.csv\"][columns].describe().loc[\"std\"].values\n",
    ")\n",
    "\n",
    "std_mean_table = pd.concat(\n",
    "    [\n",
    "        mean_table,\n",
    "        std_table,\n",
    "    ]\n",
    ")\n",
    "display(std_mean_table)"
   ]
  },
  {
   "cell_type": "markdown",
   "id": "15c1168e",
   "metadata": {
    "papermill": {
     "duration": 0.099599,
     "end_time": "2021-07-04T08:40:04.989095",
     "exception": false,
     "start_time": "2021-07-04T08:40:04.889496",
     "status": "completed"
    },
    "tags": []
   },
   "source": [
    "__From this table, the following points can be distinguished:__\n",
    "* The average value of vibration acceleration for anomaly free is almost an order of magnitude higher than for experiments with closing inlet and outlet valves (valve1[0], valve2[0])\n",
    "* The average water flow rate for anomaly free is 4 times higher than for experiments with closing inlet and outlet valves (valve1[0], valve2[0])\n",
    "* Average values of temperature, pressure, current, thermocouple for anomaly free are higher than for experiments with closing inlet and outlet valves (valve1[0], valve2[0])"
   ]
  },
  {
   "cell_type": "markdown",
   "id": "4ae72e43",
   "metadata": {
    "papermill": {
     "duration": 0.086032,
     "end_time": "2021-07-04T08:40:05.366015",
     "exception": false,
     "start_time": "2021-07-04T08:40:05.279983",
     "status": "completed"
    },
    "tags": []
   },
   "source": [
    "<a id=\"2.3.2\"></a>\n",
    "### 2.3.2 Signal plots"
   ]
  },
  {
   "cell_type": "code",
   "execution_count": null,
   "id": "ae5c59f0",
   "metadata": {
    "execution": {
     "iopub.execute_input": "2021-07-04T08:40:05.545974Z",
     "iopub.status.busy": "2021-07-04T08:40:05.544944Z",
     "iopub.status.idle": "2021-07-04T08:40:07.838046Z",
     "shell.execute_reply": "2021-07-04T08:40:07.838600Z",
     "shell.execute_reply.started": "2021-07-04T07:03:14.703808Z"
    },
    "papermill": {
     "duration": 2.385422,
     "end_time": "2021-07-04T08:40:07.838777",
     "exception": false,
     "start_time": "2021-07-04T08:40:05.453355",
     "status": "completed"
    },
    "tags": []
   },
   "outputs": [],
   "source": [
    "for column in all_data.columns[:-2]:\n",
    "    plt.figure(figsize=(16, 3))\n",
    "    plt.plot(all_data[column].values)  # without gaps\n",
    "    plt.title(column)\n",
    "    plt.show()"
   ]
  },
  {
   "cell_type": "markdown",
   "id": "1b29f155",
   "metadata": {
    "papermill": {
     "duration": 0.204022,
     "end_time": "2021-07-04T08:40:33.214044",
     "exception": false,
     "start_time": "2021-07-04T08:40:33.010022",
     "status": "completed"
    },
    "tags": []
   },
   "source": [
    "<a id=\"2.3.3\"></a>\n",
    "### 2.3.3 Pairwise Correlations\n",
    "Pairwise correlation information can often be used to search for relationships between features."
   ]
  },
  {
   "cell_type": "code",
   "execution_count": null,
   "id": "f365a33a",
   "metadata": {
    "execution": {
     "iopub.execute_input": "2021-07-04T08:40:33.621560Z",
     "iopub.status.busy": "2021-07-04T08:40:33.620895Z",
     "iopub.status.idle": "2021-07-04T08:40:34.269688Z",
     "shell.execute_reply": "2021-07-04T08:40:34.269032Z",
     "shell.execute_reply.started": "2021-07-04T07:03:30.707700Z"
    },
    "papermill": {
     "duration": 0.853804,
     "end_time": "2021-07-04T08:40:34.269830",
     "exception": false,
     "start_time": "2021-07-04T08:40:33.416026",
     "status": "completed"
    },
    "tags": []
   },
   "outputs": [],
   "source": [
    "plt.figure(figsize=(8, 8))\n",
    "display(Markdown(\"__Data without anomalies:__\"))\n",
    "\n",
    "# Assuming `all_data` is your DataFrame\n",
    "corr = all_data.corr()\n",
    "\n",
    "plt.imshow(corr, cmap=\"viridis\", interpolation=\"nearest\")\n",
    "plt.colorbar()\n",
    "plt.xticks(range(len(corr.columns)), corr.columns, rotation=90)  # type: ignore\n",
    "plt.yticks(range(len(corr.columns)), corr.columns)  # type: ignore\n",
    "plt.title(\"Correlation Heatmap\")\n",
    "plt.show()"
   ]
  },
  {
   "cell_type": "markdown",
   "id": "066d4445",
   "metadata": {
    "papermill": {
     "duration": 0.206786,
     "end_time": "2021-07-04T08:40:37.605424",
     "exception": false,
     "start_time": "2021-07-04T08:40:37.398638",
     "status": "completed"
    },
    "tags": []
   },
   "source": [
    "<a id=\"2.3.4\"></a>\n",
    "### 2.3.4 Pairplot\n",
    "To search for relationships between features, you can also use the pairplot function from the seaborn library, which combines all possible scatterplots and histograms"
   ]
  },
  {
   "cell_type": "code",
   "execution_count": null,
   "id": "548b0a26",
   "metadata": {
    "execution": {
     "iopub.execute_input": "2021-07-04T08:40:38.093354Z",
     "iopub.status.busy": "2021-07-04T08:40:38.092139Z",
     "iopub.status.idle": "2021-07-04T08:40:48.903265Z",
     "shell.execute_reply": "2021-07-04T08:40:48.902727Z",
     "shell.execute_reply.started": "2021-07-04T07:03:32.895539Z"
    },
    "papermill": {
     "duration": 11.059219,
     "end_time": "2021-07-04T08:40:48.903400",
     "exception": false,
     "start_time": "2021-07-04T08:40:37.844181",
     "status": "completed"
    },
    "tags": []
   },
   "outputs": [],
   "source": [
    "%%time\n",
    "features = [\n",
    "    \"Accelerometer1RMS\",\n",
    "    \"Current\",\n",
    "    \"Temperature\",\n",
    "    \"Thermocouple\",\n",
    "    \"Voltage\",\n",
    "    \"Volume Flow RateRMS\",\n",
    "]\n",
    "\n",
    "# Resetting the index if needed\n",
    "all_data_reset = all_data.reset_index()\n",
    "\n",
    "# Creating a scatter matrix\n",
    "scatter_matrix = pd.plotting.scatter_matrix(\n",
    "    all_data_reset[features], figsize=(10, 10)\n",
    ")\n",
    "\n",
    "# Adding labels to the subplots\n",
    "for ax in scatter_matrix.flatten():\n",
    "    ax.xaxis.label.set_rotation(45)\n",
    "    ax.yaxis.label.set_rotation(0)\n",
    "    ax.yaxis.label.set_ha(\"right\")\n",
    "\n",
    "plt.suptitle(\"Pairplot of Features\")\n",
    "plt.show()"
   ]
  },
  {
   "cell_type": "markdown",
   "id": "723e2f48",
   "metadata": {
    "papermill": {
     "duration": 0.232586,
     "end_time": "2021-07-04T08:40:51.837580",
     "exception": false,
     "start_time": "2021-07-04T08:40:51.604994",
     "status": "completed"
    },
    "tags": []
   },
   "source": [
    "<a id=\"2.3.5\"></a>\n",
    "### 2.3.5 Distribution plot"
   ]
  },
  {
   "cell_type": "markdown",
   "id": "c225136c",
   "metadata": {
    "papermill": {
     "duration": 0.238396,
     "end_time": "2021-07-04T08:40:52.312404",
     "exception": false,
     "start_time": "2021-07-04T08:40:52.074008",
     "status": "completed"
    },
    "tags": []
   },
   "source": [
    "First of all, for the analysis of parameters, it is useful to look at the distribution of values using a histogram"
   ]
  },
  {
   "cell_type": "code",
   "execution_count": null,
   "id": "7645f96d",
   "metadata": {
    "scrolled": false
   },
   "outputs": [],
   "source": [
    "bins = None\n",
    "features = [\"Volume Flow RateRMS\"]\n",
    "for col in features:\n",
    "    plt.figure(figsize=(16, 6))\n",
    "    plt.hist(all_data[col].values, label=\"all data\")  # without gaps\n",
    "    plt.hist(valve1_data[\"1.csv\"].values, label=\"valve1 1.csv\")  # without gaps\n",
    "    plt.hist(valve2_data[\"1.csv\"].values, label=\"valve2 1.csv\")  # without gaps\n",
    "    plt.hist(other_data[\"1.csv\"].values, label=\"other 1.csv\")  # without gaps\n",
    "    plt.title(column)\n",
    "    plt.legend()\n",
    "    plt.show()"
   ]
  }
 ],
 "metadata": {
  "kernelspec": {
   "display_name": "",
   "language": "python",
   "name": ""
  },
  "language_info": {
   "codemirror_mode": {
    "name": "ipython",
    "version": 3
   },
   "file_extension": ".py",
   "mimetype": "text/x-python",
   "name": "python",
   "nbconvert_exporter": "python",
   "pygments_lexer": "ipython3",
   "version": "3.10.14"
  },
  "papermill": {
   "default_parameters": {},
   "duration": 86.1257,
   "end_time": "2021-07-04T08:41:16.537561",
   "environment_variables": {},
   "exception": null,
   "input_path": "__notebook__.ipynb",
   "output_path": "__notebook__.ipynb",
   "parameters": {},
   "start_time": "2021-07-04T08:39:50.411861",
   "version": "2.3.2"
  },
  "toc": {
   "base_numbering": 1,
   "nav_menu": {
    "height": "346.989px",
    "width": "356.989px"
   },
   "number_sections": true,
   "sideBar": true,
   "skip_h1_title": false,
   "title_cell": "Table of Contents",
   "title_sidebar": "Contents",
   "toc_cell": false,
   "toc_position": {},
   "toc_section_display": true,
   "toc_window_display": false
  }
 },
 "nbformat": 4,
 "nbformat_minor": 5
}
