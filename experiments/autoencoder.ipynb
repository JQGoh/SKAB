{
 "cells": [
  {
   "cell_type": "markdown",
   "metadata": {},
   "source": [
    "# Pipeline for the anomaly detection on the SkAB using FF Autoencoder"
   ]
  },
  {
   "cell_type": "code",
   "execution_count": 1,
   "metadata": {},
   "outputs": [],
   "source": [
    "import pandas as pd\n",
    "import matplotlib.pyplot as plt\n",
    "%matplotlib inline\n",
    "from evaluating import evaluating_change_point"
   ]
  },
  {
   "cell_type": "markdown",
   "metadata": {},
   "source": [
    "## Data loading"
   ]
  },
  {
   "cell_type": "code",
   "execution_count": 2,
   "metadata": {},
   "outputs": [],
   "source": [
    "# benchmark files checking\n",
    "all_files=[]\n",
    "import os\n",
    "for root, dirs, files in os.walk(\"data/\"):\n",
    "    for file in files:\n",
    "        if file.endswith(\".csv\"):\n",
    "             all_files.append(os.path.join(root, file))"
   ]
  },
  {
   "cell_type": "code",
   "execution_count": 3,
   "metadata": {},
   "outputs": [],
   "source": [
    "# data loading\n",
    "list_of_df = [pd.read_csv(file, sep=';', index_col='datetime', parse_dates=True) for file in all_files]"
   ]
  },
  {
   "cell_type": "markdown",
   "metadata": {},
   "source": [
    "## Data description and visualization"
   ]
  },
  {
   "cell_type": "code",
   "execution_count": 4,
   "metadata": {},
   "outputs": [
    {
     "name": "stdout",
     "output_type": "stream",
     "text": [
      "A number of datasets in the SkAB v1.0: 35\n",
      "\n",
      "Shape of the random dataset: (1155, 10)\n",
      "\n",
      "A number of changepoints in the SkAB v1.0: 130\n",
      "\n",
      "A number of outliers in the SkAB v1.0: 12938\n",
      "\n",
      "Head of the random dataset:\n"
     ]
    },
    {
     "data": {
      "text/html": [
       "<div>\n",
       "<style scoped>\n",
       "    .dataframe tbody tr th:only-of-type {\n",
       "        vertical-align: middle;\n",
       "    }\n",
       "\n",
       "    .dataframe tbody tr th {\n",
       "        vertical-align: top;\n",
       "    }\n",
       "\n",
       "    .dataframe thead th {\n",
       "        text-align: right;\n",
       "    }\n",
       "</style>\n",
       "<table border=\"1\" class=\"dataframe\">\n",
       "  <thead>\n",
       "    <tr style=\"text-align: right;\">\n",
       "      <th></th>\n",
       "      <th>Accelerometer1RMS</th>\n",
       "      <th>Accelerometer2RMS</th>\n",
       "      <th>Current</th>\n",
       "      <th>Pressure</th>\n",
       "      <th>Temperature</th>\n",
       "      <th>Thermocouple</th>\n",
       "      <th>Voltage</th>\n",
       "      <th>Volume Flow RateRMS</th>\n",
       "      <th>anomaly</th>\n",
       "      <th>changepoint</th>\n",
       "    </tr>\n",
       "    <tr>\n",
       "      <th>datetime</th>\n",
       "      <th></th>\n",
       "      <th></th>\n",
       "      <th></th>\n",
       "      <th></th>\n",
       "      <th></th>\n",
       "      <th></th>\n",
       "      <th></th>\n",
       "      <th></th>\n",
       "      <th></th>\n",
       "      <th></th>\n",
       "    </tr>\n",
       "  </thead>\n",
       "  <tbody>\n",
       "    <tr>\n",
       "      <th>2020-03-09 12:14:36</th>\n",
       "      <td>0.027533</td>\n",
       "      <td>0.040251</td>\n",
       "      <td>1.225920</td>\n",
       "      <td>0.054711</td>\n",
       "      <td>70.6086</td>\n",
       "      <td>25.0660</td>\n",
       "      <td>230.831</td>\n",
       "      <td>32.0000</td>\n",
       "      <td>0.0</td>\n",
       "      <td>0.0</td>\n",
       "    </tr>\n",
       "    <tr>\n",
       "      <th>2020-03-09 12:14:37</th>\n",
       "      <td>0.027638</td>\n",
       "      <td>0.040555</td>\n",
       "      <td>1.212700</td>\n",
       "      <td>0.054711</td>\n",
       "      <td>70.6873</td>\n",
       "      <td>25.0797</td>\n",
       "      <td>232.721</td>\n",
       "      <td>32.0109</td>\n",
       "      <td>0.0</td>\n",
       "      <td>0.0</td>\n",
       "    </tr>\n",
       "    <tr>\n",
       "      <th>2020-03-09 12:14:38</th>\n",
       "      <td>0.027355</td>\n",
       "      <td>0.039930</td>\n",
       "      <td>1.353730</td>\n",
       "      <td>0.710565</td>\n",
       "      <td>70.7463</td>\n",
       "      <td>25.0850</td>\n",
       "      <td>251.194</td>\n",
       "      <td>32.9894</td>\n",
       "      <td>0.0</td>\n",
       "      <td>0.0</td>\n",
       "    </tr>\n",
       "    <tr>\n",
       "      <th>2020-03-09 12:14:39</th>\n",
       "      <td>0.028318</td>\n",
       "      <td>0.042112</td>\n",
       "      <td>0.813039</td>\n",
       "      <td>-0.273216</td>\n",
       "      <td>70.5657</td>\n",
       "      <td>25.0730</td>\n",
       "      <td>235.222</td>\n",
       "      <td>32.0000</td>\n",
       "      <td>0.0</td>\n",
       "      <td>0.0</td>\n",
       "    </tr>\n",
       "    <tr>\n",
       "      <th>2020-03-09 12:14:40</th>\n",
       "      <td>0.027336</td>\n",
       "      <td>0.040441</td>\n",
       "      <td>1.237940</td>\n",
       "      <td>0.054711</td>\n",
       "      <td>70.5550</td>\n",
       "      <td>25.0799</td>\n",
       "      <td>228.685</td>\n",
       "      <td>32.0109</td>\n",
       "      <td>0.0</td>\n",
       "      <td>0.0</td>\n",
       "    </tr>\n",
       "  </tbody>\n",
       "</table>\n",
       "</div>"
      ],
      "text/plain": [
       "                     Accelerometer1RMS  Accelerometer2RMS   Current  Pressure  \\\n",
       "datetime                                                                        \n",
       "2020-03-09 12:14:36           0.027533           0.040251  1.225920  0.054711   \n",
       "2020-03-09 12:14:37           0.027638           0.040555  1.212700  0.054711   \n",
       "2020-03-09 12:14:38           0.027355           0.039930  1.353730  0.710565   \n",
       "2020-03-09 12:14:39           0.028318           0.042112  0.813039 -0.273216   \n",
       "2020-03-09 12:14:40           0.027336           0.040441  1.237940  0.054711   \n",
       "\n",
       "                     Temperature  Thermocouple  Voltage  Volume Flow RateRMS  \\\n",
       "datetime                                                                       \n",
       "2020-03-09 12:14:36      70.6086       25.0660  230.831              32.0000   \n",
       "2020-03-09 12:14:37      70.6873       25.0797  232.721              32.0109   \n",
       "2020-03-09 12:14:38      70.7463       25.0850  251.194              32.9894   \n",
       "2020-03-09 12:14:39      70.5657       25.0730  235.222              32.0000   \n",
       "2020-03-09 12:14:40      70.5550       25.0799  228.685              32.0109   \n",
       "\n",
       "                     anomaly  changepoint  \n",
       "datetime                                   \n",
       "2020-03-09 12:14:36      0.0          0.0  \n",
       "2020-03-09 12:14:37      0.0          0.0  \n",
       "2020-03-09 12:14:38      0.0          0.0  \n",
       "2020-03-09 12:14:39      0.0          0.0  \n",
       "2020-03-09 12:14:40      0.0          0.0  "
      ]
     },
     "metadata": {},
     "output_type": "display_data"
    }
   ],
   "source": [
    "# dataset characteristics printing\n",
    "print(f'A number of datasets in the SkAB v1.0: {len(all_files)}\\n')\n",
    "print(f'Shape of the random dataset: {list_of_df[0].shape}\\n')\n",
    "n_cp = sum([len(df[df.changepoint==1.]) for df in list_of_df])\n",
    "n_outlier = sum([len(df[df.anomaly==1.]) for df in list_of_df])\n",
    "print(f'A number of changepoints in the SkAB v1.0: {n_cp}\\n')\n",
    "print(f'A number of outliers in the SkAB v1.0: {n_outlier}\\n')\n",
    "print(f'Head of the random dataset:')\n",
    "display(list_of_df[0].head())"
   ]
  },
  {
   "cell_type": "code",
   "execution_count": 20,
   "metadata": {},
   "outputs": [
    {
     "data": {
      "image/png": "[encoded data removed]",
      "text/plain": [
       "<Figure size 864x432 with 1 Axes>"
      ]
     },
     "metadata": {
      "needs_background": "light"
     },
     "output_type": "display_data"
    }
   ],
   "source": [
    "# random dataset visualizing\n",
    "list_of_df[0].plot(figsize=(12,6))\n",
    "plt.xlabel('Время')\n",
    "plt.ylabel('Значение параметра')\n",
    "plt.title(f'График сигналов')\n",
    "plt.show()"
   ]
  },
  {
   "cell_type": "markdown",
   "metadata": {},
   "source": [
    "## Labels"
   ]
  },
  {
   "cell_type": "code",
   "execution_count": 6,
   "metadata": {},
   "outputs": [
    {
     "data": {
      "image/png": "[encoded data removed]",
      "text/plain": [
       "<Figure size 864x432 with 1 Axes>"
      ]
     },
     "metadata": {
      "needs_background": "light"
     },
     "output_type": "display_data"
    }
   ],
   "source": [
    "# plotting the labels both for outlier and changepoint detection problems\n",
    "list_of_df[0].anomaly.plot(figsize=(12,6))\n",
    "list_of_df[0].changepoint.plot()\n",
    "plt.legend()\n",
    "plt.show()"
   ]
  },
  {
   "cell_type": "markdown",
   "metadata": {},
   "source": [
    "## Method applying"
   ]
  },
  {
   "cell_type": "code",
   "execution_count": 29,
   "metadata": {},
   "outputs": [],
   "source": [
    "import numpy as np\n",
    "from tensorflow.keras.layers import Input, Dense, BatchNormalization, Activation, Dropout, TimeDistributed\n",
    "from tensorflow.keras.models import Model, Sequential\n",
    "from tensorflow.keras.optimizers import Adam\n",
    "from tensorflow.keras.callbacks import EarlyStopping\n",
    "from sklearn.metrics import mean_absolute_error, mean_squared_error\n",
    "import scipy\n",
    "from scipy.signal import medfilt\n",
    "from sklearn import decomposition\n",
    "from sklearn.model_selection import train_test_split\n",
    "\n",
    "from sklearn.preprocessing import StandardScaler\n",
    "\n",
    "from itertools import product"
   ]
  },
  {
   "cell_type": "code",
   "execution_count": 25,
   "metadata": {},
   "outputs": [],
   "source": [
    "# Function for repeatability\n",
    "def Random(seed_value):\n",
    "    # Seed value\n",
    "    # Apparently you may use different seed values at each stage\n",
    "    seed_value= seed_value\n",
    "\n",
    "    # 1. Set `PYTHONHASHSEED` environment variable at a fixed value\n",
    "    import os\n",
    "    os.environ['PYTHONHASHSEED']=str(seed_value)\n",
    "\n",
    "    # 2. Set `python` built-in pseudo-random generator at a fixed value\n",
    "    import random\n",
    "    random.seed(seed_value)\n",
    "\n",
    "    # 3. Set `numpy` pseudo-random generator at a fixed value\n",
    "    import numpy as np\n",
    "    np.random.seed(seed_value)\n",
    "\n",
    "    # 4. Set `tensorflow` pseudo-random generator at a fixed value\n",
    "    import tensorflow as tf\n",
    "    tf.random.set_seed(seed_value)"
   ]
  },
  {
   "cell_type": "code",
   "execution_count": 21,
   "metadata": {},
   "outputs": [],
   "source": [
    "# train set selection\n",
    "X_train = list_of_df[0][:'2020-03-09 12:21'].drop(['anomaly','changepoint'], axis=1)\n",
    "\n",
    "X_val = list_of_df[1][:'2020-03-09 12:41'].drop(['anomaly','changepoint'], axis=1)\n",
    "#TODO\n",
    "#TODO\n",
    "#TODO\n",
    "#TODO\n",
    "#TODO\n",
    "#TODO\n",
    "#TODO\n",
    "#TODO\n",
    "#TODO"
   ]
  },
  {
   "cell_type": "code",
   "execution_count": 15,
   "metadata": {},
   "outputs": [
    {
     "data": {
      "text/plain": [
       "StandardScaler()"
      ]
     },
     "execution_count": 15,
     "metadata": {},
     "output_type": "execute_result"
    }
   ],
   "source": [
    "StSc = StandardScaler()\n",
    "\n",
    "# scaler fitting\n",
    "StSc.fit(X_train)"
   ]
  },
  {
   "cell_type": "code",
   "execution_count": 38,
   "metadata": {
    "scrolled": true
   },
   "outputs": [],
   "source": [
    "def arch(param, data):\n",
    "    Random(0)\n",
    "    input_dots = Input((8,))\n",
    "\n",
    "    x = Dense(param[0])(input_dots)\n",
    "    x = BatchNormalization()(x)\n",
    "    x = Activation('elu')(x)\n",
    "\n",
    "    x = Dense(param[1])(x)\n",
    "    x = BatchNormalization()(x)\n",
    "    x = Activation('relu')(x)\n",
    "\n",
    "    bottleneck = Dense(param[2], activation='linear')(x)\n",
    "\n",
    "    x = Dense(param[1])(bottleneck)\n",
    "    x = BatchNormalization()(x)\n",
    "    x = Activation('relu')(x)\n",
    "\n",
    "    x = Dense(param[0])(x)\n",
    "    x = BatchNormalization()(x)\n",
    "    x = Activation('relu')(x)\n",
    "\n",
    "    out = Dense(8, activation='linear')(x)\n",
    "\n",
    "    model = Model(input_dots, out)\n",
    "    model.compile(optimizer=Adam(param[3]), loss='mae', metrics=[\"mse\"])\n",
    "    \n",
    "    early_stopping = EarlyStopping(patience=3, verbose=1)\n",
    "    model.fit(data, data,\n",
    "                validation_split=0.2,\n",
    "                epochs=40,\n",
    "                batch_size=param[4],\n",
    "                verbose=0,\n",
    "                shuffle=True,\n",
    "                callbacks=[early_stopping]\n",
    "               )\n",
    "    return model"
   ]
  },
  {
   "cell_type": "code",
   "execution_count": 70,
   "metadata": {},
   "outputs": [
    {
     "name": "stdout",
     "output_type": "stream",
     "text": [
      "Total number of parameter combinations: 72\n"
     ]
    }
   ],
   "source": [
    "n1=[6, 5]\n",
    "n2=[4, 3]\n",
    "n3=[2, 1]\n",
    "lr=[0.01, 0.005, 0.001]\n",
    "batch_size=[32, 64, 128]\n",
    "\n",
    "parameters = product(n1, n2, n3, lr, batch_size)\n",
    "parameters_list = list(parameters)\n",
    "print(f'Total number of parameter combinations: {len(parameters_list)}')"
   ]
  },
  {
   "cell_type": "code",
   "execution_count": 71,
   "metadata": {},
   "outputs": [
    {
     "data": {
      "text/html": [
       "<div>\n",
       "<style scoped>\n",
       "    .dataframe tbody tr th:only-of-type {\n",
       "        vertical-align: middle;\n",
       "    }\n",
       "\n",
       "    .dataframe tbody tr th {\n",
       "        vertical-align: top;\n",
       "    }\n",
       "\n",
       "    .dataframe thead th {\n",
       "        text-align: right;\n",
       "    }\n",
       "</style>\n",
       "<table border=\"1\" class=\"dataframe\">\n",
       "  <thead>\n",
       "    <tr style=\"text-align: right;\">\n",
       "      <th></th>\n",
       "      <th>neurons 1st layer</th>\n",
       "      <th>neurons 2nd layer</th>\n",
       "      <th>neurons 3rd layer</th>\n",
       "      <th>learning rate</th>\n",
       "      <th>batch size</th>\n",
       "    </tr>\n",
       "  </thead>\n",
       "  <tbody>\n",
       "    <tr>\n",
       "      <th>0</th>\n",
       "      <td>6</td>\n",
       "      <td>4</td>\n",
       "      <td>2</td>\n",
       "      <td>0.010</td>\n",
       "      <td>32</td>\n",
       "    </tr>\n",
       "    <tr>\n",
       "      <th>1</th>\n",
       "      <td>6</td>\n",
       "      <td>4</td>\n",
       "      <td>2</td>\n",
       "      <td>0.010</td>\n",
       "      <td>64</td>\n",
       "    </tr>\n",
       "    <tr>\n",
       "      <th>2</th>\n",
       "      <td>6</td>\n",
       "      <td>4</td>\n",
       "      <td>2</td>\n",
       "      <td>0.010</td>\n",
       "      <td>128</td>\n",
       "    </tr>\n",
       "    <tr>\n",
       "      <th>3</th>\n",
       "      <td>6</td>\n",
       "      <td>4</td>\n",
       "      <td>2</td>\n",
       "      <td>0.005</td>\n",
       "      <td>32</td>\n",
       "    </tr>\n",
       "    <tr>\n",
       "      <th>4</th>\n",
       "      <td>6</td>\n",
       "      <td>4</td>\n",
       "      <td>2</td>\n",
       "      <td>0.005</td>\n",
       "      <td>64</td>\n",
       "    </tr>\n",
       "    <tr>\n",
       "      <th>...</th>\n",
       "      <td>...</td>\n",
       "      <td>...</td>\n",
       "      <td>...</td>\n",
       "      <td>...</td>\n",
       "      <td>...</td>\n",
       "    </tr>\n",
       "    <tr>\n",
       "      <th>67</th>\n",
       "      <td>5</td>\n",
       "      <td>3</td>\n",
       "      <td>1</td>\n",
       "      <td>0.005</td>\n",
       "      <td>64</td>\n",
       "    </tr>\n",
       "    <tr>\n",
       "      <th>68</th>\n",
       "      <td>5</td>\n",
       "      <td>3</td>\n",
       "      <td>1</td>\n",
       "      <td>0.005</td>\n",
       "      <td>128</td>\n",
       "    </tr>\n",
       "    <tr>\n",
       "      <th>69</th>\n",
       "      <td>5</td>\n",
       "      <td>3</td>\n",
       "      <td>1</td>\n",
       "      <td>0.001</td>\n",
       "      <td>32</td>\n",
       "    </tr>\n",
       "    <tr>\n",
       "      <th>70</th>\n",
       "      <td>5</td>\n",
       "      <td>3</td>\n",
       "      <td>1</td>\n",
       "      <td>0.001</td>\n",
       "      <td>64</td>\n",
       "    </tr>\n",
       "    <tr>\n",
       "      <th>71</th>\n",
       "      <td>5</td>\n",
       "      <td>3</td>\n",
       "      <td>1</td>\n",
       "      <td>0.001</td>\n",
       "      <td>128</td>\n",
       "    </tr>\n",
       "  </tbody>\n",
       "</table>\n",
       "<p>72 rows × 5 columns</p>\n",
       "</div>"
      ],
      "text/plain": [
       "    neurons 1st layer  neurons 2nd layer  neurons 3rd layer  learning rate  \\\n",
       "0                   6                  4                  2          0.010   \n",
       "1                   6                  4                  2          0.010   \n",
       "2                   6                  4                  2          0.010   \n",
       "3                   6                  4                  2          0.005   \n",
       "4                   6                  4                  2          0.005   \n",
       "..                ...                ...                ...            ...   \n",
       "67                  5                  3                  1          0.005   \n",
       "68                  5                  3                  1          0.005   \n",
       "69                  5                  3                  1          0.001   \n",
       "70                  5                  3                  1          0.001   \n",
       "71                  5                  3                  1          0.001   \n",
       "\n",
       "    batch size  \n",
       "0           32  \n",
       "1           64  \n",
       "2          128  \n",
       "3           32  \n",
       "4           64  \n",
       "..         ...  \n",
       "67          64  \n",
       "68         128  \n",
       "69          32  \n",
       "70          64  \n",
       "71         128  \n",
       "\n",
       "[72 rows x 5 columns]"
      ]
     },
     "execution_count": 71,
     "metadata": {},
     "output_type": "execute_result"
    }
   ],
   "source": [
    "pd.DataFrame(parameters_list, columns=['neurons 1st layer',\n",
    "                                      'neurons 2nd layer',\n",
    "                                      'neurons 3rd layer',\n",
    "                                      'learning rate',\n",
    "                                      'batch size'])"
   ]
  },
  {
   "cell_type": "markdown",
   "metadata": {},
   "source": [
    "### Hyperparameters selection"
   ]
  },
  {
   "cell_type": "code",
   "execution_count": 72,
   "metadata": {},
   "outputs": [
    {
     "name": "stdout",
     "output_type": "stream",
     "text": [
      "Epoch 00010: early stopping\n",
      "Epoch 00024: early stopping\n",
      "Epoch 00025: early stopping\n",
      "Epoch 00016: early stopping\n",
      "Epoch 00030: early stopping\n",
      "Epoch 00029: early stopping\n",
      "Epoch 00022: early stopping\n",
      "Epoch 00022: early stopping\n",
      "Epoch 00012: early stopping\n",
      "Epoch 00032: early stopping\n",
      "Epoch 00030: early stopping\n",
      "Epoch 00020: early stopping\n",
      "Epoch 00010: early stopping\n",
      "Epoch 00015: early stopping\n",
      "Epoch 00024: early stopping\n",
      "Epoch 00014: early stopping\n",
      "Epoch 00021: early stopping\n",
      "Epoch 00035: early stopping\n",
      "Epoch 00031: early stopping\n",
      "Epoch 00019: early stopping\n",
      "Epoch 00026: early stopping\n",
      "Epoch 00021: early stopping\n",
      "Epoch 00039: early stopping\n",
      "Epoch 00040: early stopping\n",
      "Epoch 00026: early stopping\n",
      "Epoch 00018: early stopping\n",
      "Epoch 00005: early stopping\n",
      "Epoch 00040: early stopping\n",
      "Epoch 00022: early stopping\n",
      "Epoch 00018: early stopping\n",
      "Epoch 00006: early stopping\n",
      "Epoch 00019: early stopping\n",
      "Epoch 00004: early stopping\n",
      "Epoch 00021: early stopping\n",
      "Epoch 00031: early stopping\n",
      "Epoch 00007: early stopping\n",
      "Epoch 00010: early stopping\n",
      "Epoch 00013: early stopping\n",
      "Epoch 00039: early stopping\n",
      "Epoch 00022: early stopping\n"
     ]
    },
    {
     "data": {
      "text/html": [
       "<div>\n",
       "<style scoped>\n",
       "    .dataframe tbody tr th:only-of-type {\n",
       "        vertical-align: middle;\n",
       "    }\n",
       "\n",
       "    .dataframe tbody tr th {\n",
       "        vertical-align: top;\n",
       "    }\n",
       "\n",
       "    .dataframe thead th {\n",
       "        text-align: right;\n",
       "    }\n",
       "</style>\n",
       "<table border=\"1\" class=\"dataframe\">\n",
       "  <thead>\n",
       "    <tr style=\"text-align: right;\">\n",
       "      <th></th>\n",
       "      <th>neurons 1st layer</th>\n",
       "      <th>neurons 2nd layer</th>\n",
       "      <th>neurons 3rd layer</th>\n",
       "      <th>learning rate</th>\n",
       "      <th>batch size</th>\n",
       "      <th>mae train</th>\n",
       "      <th>mae val</th>\n",
       "    </tr>\n",
       "  </thead>\n",
       "  <tbody>\n",
       "    <tr>\n",
       "      <th>1</th>\n",
       "      <td>6</td>\n",
       "      <td>4</td>\n",
       "      <td>2</td>\n",
       "      <td>0.010</td>\n",
       "      <td>64</td>\n",
       "      <td>0.657569</td>\n",
       "      <td>1.152854</td>\n",
       "    </tr>\n",
       "    <tr>\n",
       "      <th>19</th>\n",
       "      <td>6</td>\n",
       "      <td>3</td>\n",
       "      <td>2</td>\n",
       "      <td>0.010</td>\n",
       "      <td>64</td>\n",
       "      <td>0.674359</td>\n",
       "      <td>1.153123</td>\n",
       "    </tr>\n",
       "    <tr>\n",
       "      <th>39</th>\n",
       "      <td>5</td>\n",
       "      <td>4</td>\n",
       "      <td>2</td>\n",
       "      <td>0.005</td>\n",
       "      <td>32</td>\n",
       "      <td>0.564909</td>\n",
       "      <td>1.181283</td>\n",
       "    </tr>\n",
       "    <tr>\n",
       "      <th>28</th>\n",
       "      <td>6</td>\n",
       "      <td>3</td>\n",
       "      <td>1</td>\n",
       "      <td>0.010</td>\n",
       "      <td>64</td>\n",
       "      <td>0.662206</td>\n",
       "      <td>1.183940</td>\n",
       "    </tr>\n",
       "    <tr>\n",
       "      <th>4</th>\n",
       "      <td>6</td>\n",
       "      <td>4</td>\n",
       "      <td>2</td>\n",
       "      <td>0.005</td>\n",
       "      <td>64</td>\n",
       "      <td>0.655558</td>\n",
       "      <td>1.185610</td>\n",
       "    </tr>\n",
       "  </tbody>\n",
       "</table>\n",
       "</div>"
      ],
      "text/plain": [
       "    neurons 1st layer  neurons 2nd layer  neurons 3rd layer  learning rate  \\\n",
       "1                   6                  4                  2          0.010   \n",
       "19                  6                  3                  2          0.010   \n",
       "39                  5                  4                  2          0.005   \n",
       "28                  6                  3                  1          0.010   \n",
       "4                   6                  4                  2          0.005   \n",
       "\n",
       "    batch size  mae train   mae val  \n",
       "1           64   0.657569  1.152854  \n",
       "19          64   0.674359  1.153123  \n",
       "39          32   0.564909  1.181283  \n",
       "28          64   0.662206  1.183940  \n",
       "4           64   0.655558  1.185610  "
      ]
     },
     "execution_count": 72,
     "metadata": {},
     "output_type": "execute_result"
    }
   ],
   "source": [
    "errors = []\n",
    "for params in parameters_list:\n",
    "    \n",
    "    model = arch(params, StSc.transform(X_train))\n",
    "    train_pred = model.predict(StSc.transform(X_train), batch_size=params[4])\n",
    "    val_pred = model.predict(StSc.transform(X_val), batch_size=params[4])\n",
    "    \n",
    "    train_error = mean_absolute_error(StSc.transform(X_train), train_pred)\n",
    "    val_error = mean_absolute_error(StSc.transform(X_val), val_pred)\n",
    "    \n",
    "    errors.append(list(params)+[train_error, val_error])\n",
    "    \n",
    "df_errors = pd.DataFrame(errors,\n",
    "                         columns=['neurons 1st layer', \n",
    "                                  'neurons 2nd layer', \n",
    "                                  'neurons 3rd layer', \n",
    "                                  'learning rate', \n",
    "                                  'batch size', \n",
    "                                  'mae train', \n",
    "                                  'mae val'])\n",
    "df_errors.sort_values('mae val').head()"
   ]
  },
  {
   "cell_type": "markdown",
   "metadata": {},
   "source": [
    "### Best model fitting"
   ]
  },
  {
   "cell_type": "code",
   "execution_count": 73,
   "metadata": {
    "scrolled": true
   },
   "outputs": [
    {
     "name": "stdout",
     "output_type": "stream",
     "text": [
      "Epoch 00024: early stopping\n",
      "Model: \"functional_197\"\n",
      "_________________________________________________________________\n",
      "Layer (type)                 Output Shape              Param #   \n",
      "=================================================================\n",
      "input_99 (InputLayer)        [(None, 8)]               0         \n",
      "_________________________________________________________________\n",
      "dense_588 (Dense)            (None, 6)                 54        \n",
      "_________________________________________________________________\n",
      "batch_normalization_392 (Bat (None, 6)                 24        \n",
      "_________________________________________________________________\n",
      "activation_392 (Activation)  (None, 6)                 0         \n",
      "_________________________________________________________________\n",
      "dense_589 (Dense)            (None, 4)                 28        \n",
      "_________________________________________________________________\n",
      "batch_normalization_393 (Bat (None, 4)                 16        \n",
      "_________________________________________________________________\n",
      "activation_393 (Activation)  (None, 4)                 0         \n",
      "_________________________________________________________________\n",
      "dense_590 (Dense)            (None, 2)                 10        \n",
      "_________________________________________________________________\n",
      "dense_591 (Dense)            (None, 4)                 12        \n",
      "_________________________________________________________________\n",
      "batch_normalization_394 (Bat (None, 4)                 16        \n",
      "_________________________________________________________________\n",
      "activation_394 (Activation)  (None, 4)                 0         \n",
      "_________________________________________________________________\n",
      "dense_592 (Dense)            (None, 6)                 30        \n",
      "_________________________________________________________________\n",
      "batch_normalization_395 (Bat (None, 6)                 24        \n",
      "_________________________________________________________________\n",
      "activation_395 (Activation)  (None, 6)                 0         \n",
      "_________________________________________________________________\n",
      "dense_593 (Dense)            (None, 8)                 56        \n",
      "=================================================================\n",
      "Total params: 270\n",
      "Trainable params: 230\n",
      "Non-trainable params: 40\n",
      "_________________________________________________________________\n"
     ]
    }
   ],
   "source": [
    "best_params = parameters_list[df_errors.sort_values('mae val').index[0]]\n",
    "\n",
    "model = arch(best_params, StSc.transform(X_train))\n",
    "model.summary()"
   ]
  },
  {
   "cell_type": "code",
   "execution_count": 135,
   "metadata": {},
   "outputs": [],
   "source": [
    "val_residuals = StSc.transform(X_val) - model.predict(StSc.transform(X_val))\n",
    "train_residuals = StSc.transform(X_train) - model.predict(StSc.transform(X_train))\n",
    "\n",
    "UCL = abs(pd.DataFrame(val_residuals)).sum(axis=1).quantile(0.90)"
   ]
  },
  {
   "cell_type": "code",
   "execution_count": 141,
   "metadata": {},
   "outputs": [],
   "source": [
    "# inference\n",
    "prediction = []\n",
    "for df in list_of_df:\n",
    "    df_sc = StSc.transform(df.drop(['anomaly','changepoint'], axis=1))\n",
    "    ae_residuals = df_sc - model.predict(df_sc)\n",
    "    ae = abs(pd.DataFrame(ae_residuals)).sum(axis=1)\n",
    "    prediction.append(pd.Series((ae>UCL).astype(int).values, \n",
    "                                index=df.index).fillna(0))"
   ]
  },
  {
   "cell_type": "code",
   "execution_count": 142,
   "metadata": {},
   "outputs": [
    {
     "data": {
      "image/png": "[encoded data removed]",
      "text/plain": [
       "<Figure size 864x432 with 1 Axes>"
      ]
     },
     "metadata": {
      "needs_background": "light"
     },
     "output_type": "display_data"
    }
   ],
   "source": [
    "# true outlier indices selection\n",
    "true_outlier = [df.anomaly for df in list_of_df]\n",
    "\n",
    "# true changepoint indices selection\n",
    "true_cp = [df.changepoint for df in list_of_df]\n",
    "\n",
    "prediction[0].plot(figsize=(12,6), label='predictions', marker='o', markersize=5)\n",
    "true_outlier[0].plot(marker='o', markersize=2)\n",
    "true_cp[0].plot(marker='o', markersize=4)\n",
    "plt.legend();"
   ]
  },
  {
   "cell_type": "code",
   "execution_count": 143,
   "metadata": {},
   "outputs": [
    {
     "name": "stdout",
     "output_type": "stream",
     "text": [
      "False Alarm Rate 90.82 %\n",
      "Missing Alarm Rate 7.64 %\n"
     ]
    },
    {
     "name": "stderr",
     "output_type": "stream",
     "text": [
      "/Users/iurii.katser/opt/anaconda3/lib/python3.8/site-packages/pandas/core/computation/expressions.py:177: UserWarning: evaluating in Python space because the '*' operator is not supported by numexpr for the bool dtype, use '&' instead\n",
      "  warnings.warn(\n"
     ]
    }
   ],
   "source": [
    "# binary classification metrics calculation\n",
    "binary = evaluating_change_point(true_outlier, prediction, metric='binary', numenta_time='30 sec')"
   ]
  },
  {
   "cell_type": "code",
   "execution_count": 144,
   "metadata": {},
   "outputs": [
    {
     "name": "stdout",
     "output_type": "stream",
     "text": [
      "Average delay 0 days 00:00:00.196850\n",
      "Missing values: 3\n"
     ]
    }
   ],
   "source": [
    "# average detection delay metric calculation\n",
    "# Missing values means a number of not detected changepoints\n",
    "add = evaluating_change_point(true_cp, prediction, metric='average_delay', numenta_time='30 sec')"
   ]
  },
  {
   "cell_type": "code",
   "execution_count": 145,
   "metadata": {},
   "outputs": [
    {
     "name": "stdout",
     "output_type": "stream",
     "text": [
      "большая ширина плавного переходы сигмойды\n",
      "большая ширина плавного переходы сигмойды\n",
      "большая ширина плавного переходы сигмойды\n",
      "большая ширина плавного переходы сигмойды\n",
      "большая ширина плавного переходы сигмойды\n",
      "большая ширина плавного переходы сигмойды\n",
      "большая ширина плавного переходы сигмойды\n",
      "большая ширина плавного переходы сигмойды\n",
      "большая ширина плавного переходы сигмойды\n",
      "большая ширина плавного переходы сигмойды\n",
      "большая ширина плавного переходы сигмойды\n",
      "большая ширина плавного переходы сигмойды\n",
      "большая ширина плавного переходы сигмойды\n",
      "большая ширина плавного переходы сигмойды\n",
      "большая ширина плавного переходы сигмойды\n",
      "большая ширина плавного переходы сигмойды\n",
      "большая ширина плавного переходы сигмойды\n",
      "большая ширина плавного переходы сигмойды\n",
      "большая ширина плавного переходы сигмойды\n",
      "большая ширина плавного переходы сигмойды\n",
      "большая ширина плавного переходы сигмойды\n",
      "Standart  -  -810.81\n",
      "LowFP  -  -1719.71\n",
      "LowFN  -  -507.72\n"
     ]
    }
   ],
   "source": [
    "# nab metric calculation\n",
    "nab = evaluating_change_point(true_cp, prediction, metric='nab', numenta_time='30 sec')"
   ]
  },
  {
   "cell_type": "code",
   "execution_count": null,
   "metadata": {},
   "outputs": [],
   "source": []
  }
 ],
 "metadata": {
  "kernelspec": {
   "display_name": "Python 3",
   "language": "python",
   "name": "python3"
  },
  "language_info": {
   "codemirror_mode": {
    "name": "ipython",
    "version": 3
   },
   "file_extension": ".py",
   "mimetype": "text/x-python",
   "name": "python",
   "nbconvert_exporter": "python",
   "pygments_lexer": "ipython3",
   "version": "3.8.3"
  }
 },
 "nbformat": 4,
 "nbformat_minor": 4
}
