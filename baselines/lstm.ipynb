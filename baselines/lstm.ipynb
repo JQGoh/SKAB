{
 "cells": [
  {
   "cell_type": "markdown",
   "metadata": {},
   "source": [
    "# Pipeline for the anomaly detection on the SkAB using FF Autoencoder"
   ]
  },
  {
   "cell_type": "code",
   "execution_count": 2,
   "metadata": {},
   "outputs": [],
   "source": [
    "import pandas as pd\n",
    "import matplotlib.pyplot as plt\n",
    "%matplotlib inline\n",
    "\n",
    "import sys\n",
    "sys.path.append('../utils')\n",
    "from evaluating import evaluating_change_point"
   ]
  },
  {
   "cell_type": "markdown",
   "metadata": {},
   "source": [
    "## Data loading"
   ]
  },
  {
   "cell_type": "code",
   "execution_count": 3,
   "metadata": {},
   "outputs": [],
   "source": [
    "# benchmark files checking\n",
    "all_files=[]\n",
    "import os\n",
    "for root, dirs, files in os.walk(\"../data/\"):\n",
    "    for file in files:\n",
    "        if file.endswith(\".csv\"):\n",
    "             all_files.append(os.path.join(root, file))"
   ]
  },
  {
   "cell_type": "code",
   "execution_count": 4,
   "metadata": {},
   "outputs": [],
   "source": [
    "# datasets with anomalies loading\n",
    "list_of_df = [pd.read_csv(file, \n",
    "                          sep=';', \n",
    "                          index_col='datetime', \n",
    "                          parse_dates=True) for file in all_files if 'anomaly-free' not in file]\n",
    "# anomaly-free df loading\n",
    "anomaly_free_df = pd.read_csv([file for file in all_files if 'anomaly-free' in file][0], \n",
    "                            sep=';', \n",
    "                            index_col='datetime', \n",
    "                            parse_dates=True)"
   ]
  },
  {
   "cell_type": "markdown",
   "metadata": {},
   "source": [
    "## Data description and visualization"
   ]
  },
  {
   "cell_type": "code",
   "execution_count": 5,
   "metadata": {},
   "outputs": [
    {
     "name": "stdout",
     "output_type": "stream",
     "text": [
      "A number of datasets in the SkAB v1.0: 34\n",
      "\n",
      "Shape of the random dataset: (1154, 10)\n",
      "\n",
      "A number of changepoints in the SkAB v1.0: 130\n",
      "\n",
      "A number of outliers in the SkAB v1.0: 13241\n",
      "\n",
      "Head of the random dataset:\n"
     ]
    },
    {
     "data": {
      "text/html": [
       "<div>\n",
       "<style scoped>\n",
       "    .dataframe tbody tr th:only-of-type {\n",
       "        vertical-align: middle;\n",
       "    }\n",
       "\n",
       "    .dataframe tbody tr th {\n",
       "        vertical-align: top;\n",
       "    }\n",
       "\n",
       "    .dataframe thead th {\n",
       "        text-align: right;\n",
       "    }\n",
       "</style>\n",
       "<table border=\"1\" class=\"dataframe\">\n",
       "  <thead>\n",
       "    <tr style=\"text-align: right;\">\n",
       "      <th></th>\n",
       "      <th>Accelerometer1RMS</th>\n",
       "      <th>Accelerometer2RMS</th>\n",
       "      <th>Current</th>\n",
       "      <th>Pressure</th>\n",
       "      <th>Temperature</th>\n",
       "      <th>Thermocouple</th>\n",
       "      <th>Voltage</th>\n",
       "      <th>Volume Flow RateRMS</th>\n",
       "      <th>anomaly</th>\n",
       "      <th>changepoint</th>\n",
       "    </tr>\n",
       "    <tr>\n",
       "      <th>datetime</th>\n",
       "      <th></th>\n",
       "      <th></th>\n",
       "      <th></th>\n",
       "      <th></th>\n",
       "      <th></th>\n",
       "      <th></th>\n",
       "      <th></th>\n",
       "      <th></th>\n",
       "      <th></th>\n",
       "      <th></th>\n",
       "    </tr>\n",
       "  </thead>\n",
       "  <tbody>\n",
       "    <tr>\n",
       "      <th>2020-03-09 12:14:36</th>\n",
       "      <td>0.027429</td>\n",
       "      <td>0.040353</td>\n",
       "      <td>0.770310</td>\n",
       "      <td>0.382638</td>\n",
       "      <td>71.2129</td>\n",
       "      <td>25.0827</td>\n",
       "      <td>219.789</td>\n",
       "      <td>32.0000</td>\n",
       "      <td>0.0</td>\n",
       "      <td>0.0</td>\n",
       "    </tr>\n",
       "    <tr>\n",
       "      <th>2020-03-09 12:14:37</th>\n",
       "      <td>0.027269</td>\n",
       "      <td>0.040226</td>\n",
       "      <td>1.096960</td>\n",
       "      <td>0.710565</td>\n",
       "      <td>71.4284</td>\n",
       "      <td>25.0863</td>\n",
       "      <td>233.117</td>\n",
       "      <td>32.0104</td>\n",
       "      <td>0.0</td>\n",
       "      <td>0.0</td>\n",
       "    </tr>\n",
       "    <tr>\n",
       "      <th>2020-03-09 12:14:38</th>\n",
       "      <td>0.027040</td>\n",
       "      <td>0.039773</td>\n",
       "      <td>1.140150</td>\n",
       "      <td>0.054711</td>\n",
       "      <td>71.3468</td>\n",
       "      <td>25.0874</td>\n",
       "      <td>234.745</td>\n",
       "      <td>32.0000</td>\n",
       "      <td>0.0</td>\n",
       "      <td>0.0</td>\n",
       "    </tr>\n",
       "    <tr>\n",
       "      <th>2020-03-09 12:14:39</th>\n",
       "      <td>0.027563</td>\n",
       "      <td>0.040313</td>\n",
       "      <td>1.108680</td>\n",
       "      <td>-0.273216</td>\n",
       "      <td>71.3258</td>\n",
       "      <td>25.0897</td>\n",
       "      <td>205.254</td>\n",
       "      <td>32.0104</td>\n",
       "      <td>0.0</td>\n",
       "      <td>0.0</td>\n",
       "    </tr>\n",
       "    <tr>\n",
       "      <th>2020-03-09 12:14:41</th>\n",
       "      <td>0.026570</td>\n",
       "      <td>0.039566</td>\n",
       "      <td>0.704404</td>\n",
       "      <td>0.382638</td>\n",
       "      <td>71.2725</td>\n",
       "      <td>25.0831</td>\n",
       "      <td>212.095</td>\n",
       "      <td>33.0000</td>\n",
       "      <td>0.0</td>\n",
       "      <td>0.0</td>\n",
       "    </tr>\n",
       "  </tbody>\n",
       "</table>\n",
       "</div>"
      ],
      "text/plain": [
       "                     Accelerometer1RMS  Accelerometer2RMS   Current  Pressure  \\\n",
       "datetime                                                                        \n",
       "2020-03-09 12:14:36           0.027429           0.040353  0.770310  0.382638   \n",
       "2020-03-09 12:14:37           0.027269           0.040226  1.096960  0.710565   \n",
       "2020-03-09 12:14:38           0.027040           0.039773  1.140150  0.054711   \n",
       "2020-03-09 12:14:39           0.027563           0.040313  1.108680 -0.273216   \n",
       "2020-03-09 12:14:41           0.026570           0.039566  0.704404  0.382638   \n",
       "\n",
       "                     Temperature  Thermocouple  Voltage  Volume Flow RateRMS  \\\n",
       "datetime                                                                       \n",
       "2020-03-09 12:14:36      71.2129       25.0827  219.789              32.0000   \n",
       "2020-03-09 12:14:37      71.4284       25.0863  233.117              32.0104   \n",
       "2020-03-09 12:14:38      71.3468       25.0874  234.745              32.0000   \n",
       "2020-03-09 12:14:39      71.3258       25.0897  205.254              32.0104   \n",
       "2020-03-09 12:14:41      71.2725       25.0831  212.095              33.0000   \n",
       "\n",
       "                     anomaly  changepoint  \n",
       "datetime                                   \n",
       "2020-03-09 12:14:36      0.0          0.0  \n",
       "2020-03-09 12:14:37      0.0          0.0  \n",
       "2020-03-09 12:14:38      0.0          0.0  \n",
       "2020-03-09 12:14:39      0.0          0.0  \n",
       "2020-03-09 12:14:41      0.0          0.0  "
      ]
     },
     "metadata": {},
     "output_type": "display_data"
    }
   ],
   "source": [
    "# dataset characteristics printing\n",
    "print(f'A number of datasets in the SkAB v1.0: {len(list_of_df)}\\n')\n",
    "print(f'Shape of the random dataset: {list_of_df[0].shape}\\n')\n",
    "n_cp = sum([len(df[df.changepoint==1.]) for df in list_of_df])\n",
    "n_outlier = sum([len(df[df.anomaly==1.]) for df in list_of_df])\n",
    "print(f'A number of changepoints in the SkAB v1.0: {n_cp}\\n')\n",
    "print(f'A number of outliers in the SkAB v1.0: {n_outlier}\\n')\n",
    "print(f'Head of the random dataset:')\n",
    "display(list_of_df[0].head())"
   ]
  },
  {
   "cell_type": "code",
   "execution_count": 6,
   "metadata": {},
   "outputs": [
    {
     "data": {
      "image/png": "[encoded data removed]",
      "text/plain": [
       "<Figure size 864x432 with 1 Axes>"
      ]
     },
     "metadata": {
      "needs_background": "light"
     },
     "output_type": "display_data"
    }
   ],
   "source": [
    "# random dataset visualizing\n",
    "list_of_df[0].plot(figsize=(12,6))\n",
    "plt.xlabel('Time')\n",
    "plt.ylabel('Value')\n",
    "plt.title('Signals')\n",
    "plt.show()"
   ]
  },
  {
   "cell_type": "markdown",
   "metadata": {},
   "source": [
    "## Labels"
   ]
  },
  {
   "cell_type": "code",
   "execution_count": 7,
   "metadata": {},
   "outputs": [
    {
     "data": {
      "image/png": "[encoded data removed]",
      "text/plain": [
       "<Figure size 864x216 with 1 Axes>"
      ]
     },
     "metadata": {
      "needs_background": "light"
     },
     "output_type": "display_data"
    }
   ],
   "source": [
    "# plotting the labels both for outlier and changepoint detection problems\n",
    "list_of_df[0].anomaly.plot(figsize=(12,3))\n",
    "list_of_df[0].changepoint.plot()\n",
    "plt.legend()\n",
    "plt.show()"
   ]
  },
  {
   "cell_type": "markdown",
   "metadata": {},
   "source": [
    "## Method applying"
   ]
  },
  {
   "cell_type": "code",
   "execution_count": 8,
   "metadata": {},
   "outputs": [],
   "source": [
    "import numpy as np\n",
    "from tensorflow.keras.models import Sequential\n",
    "from tensorflow.keras.layers import LSTM\n",
    "from tensorflow.keras.layers import Dense\n",
    "from tensorflow.keras.callbacks import EarlyStopping, ModelCheckpoint, ReduceLROnPlateau\n",
    "from sklearn.metrics import mean_absolute_error, mean_squared_error\n",
    "import scipy\n",
    "from scipy.signal import medfilt\n",
    "from sklearn import decomposition\n",
    "from sklearn.model_selection import train_test_split\n",
    "\n",
    "from sklearn.preprocessing import StandardScaler\n",
    "\n",
    "from itertools import product"
   ]
  },
  {
   "cell_type": "code",
   "execution_count": 9,
   "metadata": {},
   "outputs": [],
   "source": [
    "# Function for repeatability\n",
    "def Random(seed_value):\n",
    "    # 1. Set `PYTHONHASHSEED` environment variable at a fixed value\n",
    "    import os\n",
    "    os.environ['PYTHONHASHSEED']=str(seed_value)\n",
    "\n",
    "    # 2. Set `python` built-in pseudo-random generator at a fixed value\n",
    "    import random\n",
    "    random.seed(seed_value)\n",
    "\n",
    "    # 3. Set `numpy` pseudo-random generator at a fixed value\n",
    "    import numpy as np\n",
    "    np.random.seed(seed_value)\n",
    "\n",
    "    # 4. Set `tensorflow` pseudo-random generator at a fixed value\n",
    "    import tensorflow as tf\n",
    "    tf.random.set_seed(seed_value)"
   ]
  },
  {
   "cell_type": "code",
   "execution_count": 10,
   "metadata": {},
   "outputs": [],
   "source": [
    "# # train set selection\n",
    "# # X_train = list_of_df[0][:'2020-03-09 12:21'].drop(['anomaly','changepoint'], axis=1)\n",
    "# X_train = anomaly_free_df\n",
    "\n",
    "# StSc = StandardScaler()\n",
    "# # scaler fitting\n",
    "# StSc.fit(X_train)"
   ]
  },
  {
   "cell_type": "code",
   "execution_count": 12,
   "metadata": {},
   "outputs": [],
   "source": [
    "def split_sequences(sequences, n_steps):\n",
    "    X, y = list(), list()\n",
    "    for i in range(len(sequences)):\n",
    "        # find the end of this pattern\n",
    "        end_ix = i + n_steps\n",
    "        # check if we are beyond the dataset\n",
    "        if end_ix > len(sequences)-1:\n",
    "            break\n",
    "        # gather input and output parts of the pattern\n",
    "        seq_x, seq_y = sequences[i:end_ix, :], sequences[end_ix, :]\n",
    "        X.append(seq_x)\n",
    "        y.append(seq_y)\n",
    "    return np.array(X), np.array(y)"
   ]
  },
  {
   "cell_type": "code",
   "execution_count": 13,
   "metadata": {
    "scrolled": true
   },
   "outputs": [],
   "source": [
    "# N_STEPS = 5\n",
    "\n",
    "# # convert into input/output\n",
    "# X, y = split_sequences(StSc.transform(X_train), N_STEPS)\n",
    "# # the dataset knows the number of features, e.g. 2\n",
    "# n_features = X.shape[2]\n",
    "# # define model\n",
    "# model = Sequential()\n",
    "# model.add(LSTM(200, activation='relu', return_sequences=True, input_shape=(N_STEPS, n_features)))\n",
    "# model.add(LSTM(200, activation='relu'))\n",
    "# model.add(Dense(n_features))\n",
    "# model.compile(optimizer='adam', loss='mae', metrics=[\"mse\"])"
   ]
  },
  {
   "cell_type": "code",
   "execution_count": 34,
   "metadata": {
    "scrolled": true
   },
   "outputs": [],
   "source": [
    "# model.summary()"
   ]
  },
  {
   "cell_type": "code",
   "execution_count": 32,
   "metadata": {},
   "outputs": [],
   "source": [
    "# early_stopping = EarlyStopping(patience=10, verbose=1)\n",
    "# model_checkpoint = ModelCheckpoint(\"lstm.h5\", save_best_only=True, verbose=0, save_weights_only=True)\n",
    "# reduce_lr = ReduceLROnPlateau(factor=0.1, patience=5, min_lr=0.0001, verbose=1)\n",
    "\n",
    "# epochs = 25\n",
    "# batch_size = 32\n",
    "\n",
    "# history = model.fit(X, y,\n",
    "#                     validation_split=0.2,\n",
    "#                     epochs=epochs,\n",
    "#                     batch_size=batch_size,\n",
    "#                     verbose=2,\n",
    "#                     shuffle=False,\n",
    "#                     callbacks=[early_stopping, model_checkpoint, reduce_lr]\n",
    "#                     )"
   ]
  },
  {
   "cell_type": "code",
   "execution_count": 33,
   "metadata": {},
   "outputs": [],
   "source": [
    "# fig, (ax_loss, ax_acc) = plt.subplots(1, 2, figsize=(12,6))\n",
    "# ax_loss.plot(history.epoch, history.history[\"loss\"], label=\"Train mae (loss)\")\n",
    "# ax_loss.plot(history.epoch, history.history[\"val_loss\"], label=\"Validation mae (loss)\")\n",
    "# ax_loss.grid()\n",
    "# ax_loss.legend()\n",
    "\n",
    "# ax_acc.plot(history.epoch, history.history[\"mse\"], label=\"Train mse\")\n",
    "# ax_acc.plot(history.epoch, history.history[\"val_mse\"], label=\"Validation mse\")\n",
    "# ax_acc.grid()\n",
    "# ax_acc.legend()\n",
    "# plt.show()"
   ]
  },
  {
   "cell_type": "code",
   "execution_count": 17,
   "metadata": {},
   "outputs": [],
   "source": [
    "# model.load_weights(\"lstm.h5\")"
   ]
  },
  {
   "cell_type": "code",
   "execution_count": 30,
   "metadata": {},
   "outputs": [],
   "source": [
    "# residuals = pd.DataFrame(y - model.predict(X)).abs().sum(axis=1)\n",
    "\n",
    "# UCL = residuals.quantile(0.99)"
   ]
  },
  {
   "cell_type": "code",
   "execution_count": 35,
   "metadata": {},
   "outputs": [],
   "source": [
    "# residuals.plot(figsize=(12,6))\n",
    "# plt.axhline(UCL, color='r')"
   ]
  },
  {
   "cell_type": "code",
   "execution_count": 49,
   "metadata": {},
   "outputs": [],
   "source": [
    "# inference\n",
    "predicted_outlier, predicted_cp = [], []\n",
    "for df in list_of_df:\n",
    "    X_train = df[:400].drop(['anomaly','changepoint'], axis=1)\n",
    "    \n",
    "    StSc = StandardScaler()\n",
    "    # scaler fitting\n",
    "    StSc.fit(X_train)\n",
    "    \n",
    "    N_STEPS = 5\n",
    "    # convert into input/output\n",
    "    X, y = split_sequences(StSc.transform(X_train), N_STEPS)\n",
    "    # the dataset knows the number of features, e.g. 2\n",
    "    n_features = X.shape[2]\n",
    "    # define model\n",
    "    model = Sequential()\n",
    "    model.add(LSTM(100, activation='relu', return_sequences=True, input_shape=(N_STEPS, n_features)))\n",
    "    model.add(LSTM(100, activation='relu'))\n",
    "    model.add(Dense(n_features))\n",
    "    model.compile(optimizer='adam', loss='mae', metrics=[\"mse\"])\n",
    "    \n",
    "    early_stopping = EarlyStopping(patience=10, verbose=0)\n",
    "    model_checkpoint = ModelCheckpoint(\"lstm.h5\", save_best_only=True, verbose=0, save_weights_only=True)\n",
    "    reduce_lr = ReduceLROnPlateau(factor=0.1, patience=5, min_lr=0.0001, verbose=0)\n",
    "    epochs = 25\n",
    "    batch_size = 32\n",
    "    history = model.fit(X, y,\n",
    "                        validation_split=0.2,\n",
    "                        epochs=epochs,\n",
    "                        batch_size=batch_size,\n",
    "                        verbose=0,\n",
    "                        shuffle=False,\n",
    "                        callbacks=[early_stopping, model_checkpoint, reduce_lr]\n",
    "                        )\n",
    "    \n",
    "    model.load_weights(\"lstm.h5\")\n",
    "    \n",
    "    residuals = pd.DataFrame(y - model.predict(X)).abs().sum(axis=1)\n",
    "    UCL = residuals.quantile(0.99)\n",
    "    \n",
    "    \n",
    "    X, y = split_sequences(StSc.transform(df.drop(['anomaly','changepoint'], axis=1)), N_STEPS)\n",
    "    lstm_residuals = pd.DataFrame(y - model.predict(X)).abs().sum(axis=1)\n",
    "    prediction = pd.Series((lstm_residuals>3/2*UCL).astype(int).values, \n",
    "                                index=df[N_STEPS:].index).fillna(0)\n",
    "    \n",
    "    predicted_outlier.append(prediction)\n",
    "    \n",
    "    prediction_cp = abs(prediction.diff())\n",
    "    prediction_cp[0] = prediction[0]\n",
    "    predicted_cp.append(prediction_cp)"
   ]
  },
  {
   "cell_type": "code",
   "execution_count": 50,
   "metadata": {},
   "outputs": [
    {
     "data": {
      "image/png": "[encoded data removed]",
      "text/plain": [
       "<Figure size 864x216 with 1 Axes>"
      ]
     },
     "metadata": {
      "needs_background": "light"
     },
     "output_type": "display_data"
    }
   ],
   "source": [
    "# true outlier indices selection\n",
    "true_outlier = [df.anomaly for df in list_of_df]\n",
    "\n",
    "predicted_outlier[0].plot(figsize=(12,3), label='predictions', marker='o', markersize=5)\n",
    "true_outlier[0].plot(marker='o', markersize=2)\n",
    "plt.legend();"
   ]
  },
  {
   "cell_type": "code",
   "execution_count": 51,
   "metadata": {},
   "outputs": [
    {
     "data": {
      "image/png": "[encoded data removed]",
      "text/plain": [
       "<Figure size 864x216 with 1 Axes>"
      ]
     },
     "metadata": {
      "needs_background": "light"
     },
     "output_type": "display_data"
    }
   ],
   "source": [
    "# true changepoint indices selection\n",
    "true_cp = [df.changepoint for df in list_of_df]\n",
    "\n",
    "predicted_cp[0].plot(figsize=(12,3), label='predictions', marker='o', markersize=5)\n",
    "true_cp[0].plot(marker='o', markersize=2)\n",
    "plt.legend();"
   ]
  },
  {
   "cell_type": "markdown",
   "metadata": {},
   "source": [
    "## Metrics calculation"
   ]
  },
  {
   "cell_type": "code",
   "execution_count": 52,
   "metadata": {},
   "outputs": [
    {
     "name": "stdout",
     "output_type": "stream",
     "text": [
      "False Alarm Rate 13.92 %\n",
      "Missing Alarm Rate 41.22 %\n"
     ]
    }
   ],
   "source": [
    "# binary classification metrics calculation\n",
    "binary = evaluating_change_point(true_outlier, predicted_outlier, metric='binary', numenta_time='30 sec')"
   ]
  },
  {
   "cell_type": "code",
   "execution_count": 53,
   "metadata": {},
   "outputs": [
    {
     "name": "stdout",
     "output_type": "stream",
     "text": [
      "Average delay 0 days 00:00:07.714285\n",
      "Missing values: 74\n"
     ]
    }
   ],
   "source": [
    "# average detection delay metric calculation\n",
    "# A number of missed CPs means a number of not detected changepoints\n",
    "add = evaluating_change_point(true_cp, predicted_cp, metric='average_delay', numenta_time='30 sec')"
   ]
  },
  {
   "cell_type": "code",
   "execution_count": 54,
   "metadata": {},
   "outputs": [
    {
     "name": "stdout",
     "output_type": "stream",
     "text": [
      "большая ширина плавного переходы сигмойды\n",
      "большая ширина плавного переходы сигмойды\n",
      "большая ширина плавного переходы сигмойды\n",
      "большая ширина плавного переходы сигмойды\n",
      "большая ширина плавного переходы сигмойды\n",
      "большая ширина плавного переходы сигмойды\n",
      "большая ширина плавного переходы сигмойды\n",
      "большая ширина плавного переходы сигмойды\n",
      "большая ширина плавного переходы сигмойды\n",
      "большая ширина плавного переходы сигмойды\n",
      "большая ширина плавного переходы сигмойды\n",
      "большая ширина плавного переходы сигмойды\n",
      "большая ширина плавного переходы сигмойды\n",
      "большая ширина плавного переходы сигмойды\n",
      "большая ширина плавного переходы сигмойды\n",
      "большая ширина плавного переходы сигмойды\n",
      "большая ширина плавного переходы сигмойды\n",
      "большая ширина плавного переходы сигмойды\n",
      "большая ширина плавного переходы сигмойды\n",
      "большая ширина плавного переходы сигмойды\n",
      "большая ширина плавного переходы сигмойды\n",
      "Standart  -  25.65\n",
      "LowFP  -  7.19\n",
      "LowFN  -  32.23\n"
     ]
    }
   ],
   "source": [
    "# nab metric calculation\n",
    "nab = evaluating_change_point(true_cp, predicted_cp, metric='nab', numenta_time='30 sec')"
   ]
  },
  {
   "cell_type": "markdown",
   "metadata": {},
   "source": [
    "## [Additional] localization"
   ]
  },
  {
   "cell_type": "code",
   "execution_count": null,
   "metadata": {},
   "outputs": [],
   "source": []
  }
 ],
 "metadata": {
  "kernelspec": {
   "display_name": "Python 3",
   "language": "python",
   "name": "python3"
  },
  "language_info": {
   "codemirror_mode": {
    "name": "ipython",
    "version": 3
   },
   "file_extension": ".py",
   "mimetype": "text/x-python",
   "name": "python",
   "nbconvert_exporter": "python",
   "pygments_lexer": "ipython3",
   "version": "3.8.3"
  }
 },
 "nbformat": 4,
 "nbformat_minor": 4
}
