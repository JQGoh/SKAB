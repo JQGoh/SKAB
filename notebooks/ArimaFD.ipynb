{
 "cells": [
  {
   "cell_type": "markdown",
   "metadata": {},
   "source": [
    "# Pipeline for the anomaly detection on the SKAB using ARIMA fault detection algorithm"
   ]
  },
  {
   "cell_type": "markdown",
   "metadata": {},
   "source": [
    "Details regarding the SKAB one can find in the [SKAB repository](https://github.com/waico/SKAB)."
   ]
  },
  {
   "cell_type": "markdown",
   "metadata": {},
   "source": [
    "The idea behind this algorithm is to use ARIMA weights as features for the anomaly detection algorithm. Using discrete differences of weight coefficients for different heuristic methods for obtaining function, which characterized the state (anomaly, not anomaly) using a threshold. \n",
    "\n",
    "Links at [PyPi](https://pypi.org/project/arimafd/), [GitHub](https://github.com/waico/arimafd) and [paper](https://waico.ru)"
   ]
  },
  {
   "cell_type": "code",
   "execution_count": null,
   "metadata": {},
   "outputs": [],
   "source": [
    "# libraries importing\n",
    "import os\n",
    "import sys\n",
    "import pickle\n",
    "import warnings\n",
    "\n",
    "import matplotlib.pyplot as plt\n",
    "from arimafd import Anomaly_detection\n",
    "\n",
    "sys.path.append(\"..\")\n",
    "from core.metrics import chp_score\n",
    "from core.utils import load_skab\n",
    "\n",
    "warnings.filterwarnings(\"ignore\", category=UserWarning)"
   ]
  },
  {
   "cell_type": "markdown",
   "metadata": {},
   "source": [
    "## Data"
   ]
  },
  {
   "cell_type": "code",
   "execution_count": null,
   "metadata": {},
   "outputs": [],
   "source": [
    "list_of_df, anomaly_free_df = load_skab()"
   ]
  },
  {
   "cell_type": "markdown",
   "metadata": {},
   "source": [
    "## Method"
   ]
  },
  {
   "cell_type": "code",
   "execution_count": null,
   "metadata": {},
   "outputs": [],
   "source": [
    "if os.path.exists(r\"tensors.pickle\"):\n",
    "    with open(r\"tensors.pickle\", \"rb\") as f:\n",
    "        tensors = pickle.load(f)\n",
    "else:\n",
    "    tensors = []\n",
    "    for df in list_of_df:\n",
    "        a = Anomaly_detection(df.iloc[:, :-2])\n",
    "        tensors.append(a.generate_tensor(ar_order=100))\n",
    "    with open(r\"tensors.pickle\", \"wb\") as handle:\n",
    "        pickle.dump(tensors, handle, protocol=pickle.HIGHEST_PROTOCOL)"
   ]
  },
  {
   "cell_type": "code",
   "execution_count": null,
   "metadata": {},
   "outputs": [],
   "source": [
    "No_metric = 5\n",
    "window = 150\n",
    "window_insensitivity = 20\n",
    "\n",
    "predicted_cp = []\n",
    "for i, df in enumerate(list_of_df):\n",
    "    acci = df.changepoint\n",
    "    a = Anomaly_detection(df)\n",
    "    a.tensor = tensors[i]\n",
    "    a.proc_tensor(\n",
    "        No_metric=No_metric,\n",
    "        window=window,\n",
    "        window_insensitivity=window_insensitivity,\n",
    "    )\n",
    "    predicted_cp.append(a.bin_metric)"
   ]
  },
  {
   "cell_type": "markdown",
   "metadata": {},
   "source": [
    "### Results visualization"
   ]
  },
  {
   "cell_type": "code",
   "execution_count": null,
   "metadata": {},
   "outputs": [],
   "source": [
    "# [donotremove]\n",
    "# [donotremove]\n",
    "# true changepoint indices selection\n",
    "true_cp = [df.changepoint for df in list_of_df]\n",
    "\n",
    "predicted_cp[0].plot(\n",
    "    figsize=(12, 3), label=\"predictions\", marker=\"o\", markersize=5\n",
    ")\n",
    "true_cp[0].plot(marker=\"o\", markersize=2)\n",
    "plt.legend();"
   ]
  },
  {
   "cell_type": "markdown",
   "metadata": {},
   "source": [
    "## Evaluation (metrics calculation)"
   ]
  },
  {
   "cell_type": "markdown",
   "metadata": {},
   "source": [
    "### Binary classification (outlier detection) metrics"
   ]
  },
  {
   "cell_type": "markdown",
   "metadata": {},
   "source": [
    "not implemented"
   ]
  },
  {
   "cell_type": "markdown",
   "metadata": {},
   "source": [
    "### Changepoint detection metrics"
   ]
  },
  {
   "cell_type": "code",
   "execution_count": null,
   "metadata": {},
   "outputs": [],
   "source": [
    "# [donotremove]\n",
    "# [donotremove]\n",
    "# average detection delay metric calculation\n",
    "add = chp_score(\n",
    "    true_cp,\n",
    "    predicted_cp,\n",
    "    metric=\"average_time\",\n",
    "    anomaly_window_destination=\"righter\",\n",
    "    portion=1,\n",
    ")"
   ]
  },
  {
   "cell_type": "code",
   "execution_count": null,
   "metadata": {},
   "outputs": [],
   "source": [
    "# [donotremove]\n",
    "# nab metric calculation\n",
    "nab = chp_score(\n",
    "    true_cp,\n",
    "    predicted_cp,\n",
    "    metric=\"nab\",\n",
    "    window_width=\"30S\",\n",
    "    anomaly_window_destination=\"center\",\n",
    ")"
   ]
  }
 ],
 "metadata": {
  "kernelspec": {
   "display_name": "",
   "language": "python",
   "name": ""
  },
  "language_info": {
   "codemirror_mode": {
    "name": "ipython",
    "version": 3
   },
   "file_extension": ".py",
   "mimetype": "text/x-python",
   "name": "python",
   "nbconvert_exporter": "python",
   "pygments_lexer": "ipython3",
   "version": "3.10.14"
  },
  "toc": {
   "base_numbering": 1,
   "nav_menu": {
    "height": "282.997px",
    "width": "471.989px"
   },
   "number_sections": true,
   "sideBar": true,
   "skip_h1_title": false,
   "title_cell": "Table of Contents",
   "title_sidebar": "Contents",
   "toc_cell": false,
   "toc_position": {},
   "toc_section_display": true,
   "toc_window_display": false
  }
 },
 "nbformat": 4,
 "nbformat_minor": 4
}
