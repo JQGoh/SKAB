{
 "cells": [
  {
   "cell_type": "code",
   "execution_count": 1,
   "metadata": {},
   "outputs": [],
   "source": [
    "import warnings\n",
    "warnings.filterwarnings('ignore')\n",
    "import os\n",
    "from matplotlib import pyplot as plt\n",
    "import pandas as pd\n",
    "import numpy as np\n",
    "from sklearn.model_selection import train_test_split\n",
    "from sklearn.metrics import mean_squared_error\n",
    "from scipy import stats\n",
    "from scipy import signal as sig\n",
    "import statsmodels.api as sm\n",
    "import seaborn as sns\n",
    "import warnings\n",
    "from time import time\n",
    "import copy \n",
    "import matplotlib.dates as mdates\n",
    "from sklearn.preprocessing import MinMaxScaler"
   ]
  },
  {
   "cell_type": "code",
   "execution_count": null,
   "metadata": {},
   "outputs": [],
   "source": []
  },
  {
   "cell_type": "code",
   "execution_count": 2,
   "metadata": {},
   "outputs": [],
   "source": [
    "data = pd.read_csv('data/valve1/1.csv',sep=';',index_col='datetime',parse_dates=True)"
   ]
  },
  {
   "cell_type": "code",
   "execution_count": 4,
   "metadata": {},
   "outputs": [],
   "source": [
    "ind_start, ind_end = data.anomaly[data.anomaly == 1].index[0],data.anomaly[data.anomaly == 1].index[1]"
   ]
  },
  {
   "cell_type": "code",
   "execution_count": 6,
   "metadata": {},
   "outputs": [
    {
     "data": {
      "text/plain": [
       "<matplotlib.legend.Legend at 0x2215c25be48>"
      ]
     },
     "execution_count": 6,
     "metadata": {},
     "output_type": "execute_result"
    },
    {
     "data": {
      "image/png": "[encoded data removed]",
      "text/plain": [
       "<Figure size 432x288 with 1 Axes>"
      ]
     },
     "metadata": {
      "needs_background": "light"
     },
     "output_type": "display_data"
    }
   ],
   "source": [
    "data.anomaly.plot()\n",
    "data.changepoint.plot()\n",
    "plt.legend()"
   ]
  },
  {
   "cell_type": "code",
   "execution_count": null,
   "metadata": {},
   "outputs": [],
   "source": []
  },
  {
   "cell_type": "code",
   "execution_count": 10,
   "metadata": {},
   "outputs": [],
   "source": [
    "# def evaluating(true_items, bin_metric):\n",
    "    \n",
    "\n",
    "\n",
    "\n",
    "def evaluate_nab(anomaly_list, bin_metric, table_of_coef=None):\n",
    "    \"\"\"\n",
    "    Scoring labeled time series by means of\n",
    "    Numenta Anomaly Benchmark methodics\n",
    "\n",
    "    Parameters\n",
    "    ----------\n",
    "    anomaly_list: list of list of two float values\n",
    "        The list of lists of left and right boundary indices\n",
    "        for scoring results of labeling\n",
    "    bin_metric: pd.Series with timestamp indices, in which 1 \n",
    "        is change point, and 0 in other case. \n",
    "    table_of_coef: pandas array (3x4) of float values\n",
    "        Table of coefficients for NAB score function\n",
    "        indeces: 'Standart','LowFP','LowFN'\n",
    "        columns:'A_tp','A_fp','A_tn','A_fn'\n",
    "\n",
    "\n",
    "    Returns\n",
    "    -------\n",
    "    Scores: numpy array, shape of 3, float\n",
    "        Score for 'Standart','LowFP','LowFN' profile \n",
    "    Scores_null: numpy array, shape 3, float\n",
    "        Null score for 'Standart','LowFP','LowFN' profile             \n",
    "    Scores_perfect: numpy array, shape 3, float\n",
    "        Perfect Score for 'Standart','LowFP','LowFN' profile  \n",
    "    \"\"\"\n",
    "    if table_of_coef is None:\n",
    "        table_of_coef = pd.DataFrame([[1.0,-0.11,1.0,-1.0],\n",
    "                             [1.0,-0.22,1.0,-1.0],\n",
    "                              [1.0,-0.11,1.0,-2.0]])\n",
    "        table_of_coef.index = ['Standart','LowFP','LowFN']\n",
    "        table_of_coef.index.name = \"Metric\"\n",
    "        table_of_coef.columns = ['A_tp','A_fp','A_tn','A_fn']\n",
    "\n",
    "    alist = anomaly_list.copy()\n",
    "    bin_metric = bin_metric.copy()\n",
    "\n",
    "#         bin_metric = bin_metric.reset_index().drop_duplicates().set_index(bin_metric.index.name)\n",
    "    Scores,Scores_perfect,Scores_null=[],[],[]\n",
    "    for profile in ['Standart','LowFP','LowFN']:       \n",
    "        A_tp = table_of_coef['A_tp'][profile]\n",
    "        A_fp = table_of_coef['A_fp'][profile]\n",
    "        A_fn = table_of_coef['A_fn'][profile]\n",
    "        #TODO make 10% window if not known boundary\n",
    "        #if len(list(al.values())[0])\n",
    "        def sigm_scale(y,A_tp,A_fp,window=1):\n",
    "            return (A_tp-A_fp)*(1/(1+np.exp(5*y/window))) + A_fp\n",
    "\n",
    "        #First part\n",
    "        score = 0\n",
    "        if len(alist)>0:\n",
    "            score += bin_metric[:alist[0][0]].sum()*A_fp\n",
    "        else:\n",
    "            score += bin_metric.sum()*A_fp\n",
    "        #second part\n",
    "        for i in range(len(alist)):\n",
    "            if i<=len(alist)-2:\n",
    "                win_space = bin_metric[alist[i][0]:alist[i+1][0]].copy()\n",
    "            else:\n",
    "                win_space = bin_metric[alist[i][0]:].copy()\n",
    "            win_fault = bin_metric[alist[i][0]:alist[i][1]]\n",
    "            slow_width = int(len(win_fault)/4)\n",
    "\n",
    "            if len(win_fault) + slow_width >= len(win_space):\n",
    "#                    не совсем так правильно лелать\n",
    "                print('большая ширина плавного переходы сигмойды')\n",
    "                win_fault_slow = win_fault.copy()\n",
    "            else:\n",
    "                win_fault_slow= win_space[:len(win_fault)  +  slow_width]\n",
    "\n",
    "            win_fp = win_space[-len(win_fault_slow):]\n",
    "\n",
    "            if win_fault_slow.sum() == 0:\n",
    "                score+=A_fn\n",
    "            else:\n",
    "                #берем первый индекс\n",
    "                tr = pd.Series(win_fault_slow.values,index = range(-len(win_fault),len(win_fault_slow)-len(win_fault)))\n",
    "                tr_values= tr[tr==1].index[0]\n",
    "                tr_score = sigm_scale(tr_values, A_tp,A_fp,slow_width)\n",
    "                score += tr_score\n",
    "                score += win_fp.sum()*A_fp\n",
    "        Scores.append(score)\n",
    "        Scores_perfect.append(len(alist)*A_tp)\n",
    "        Scores_null.append(len(alist)*A_fn)\n",
    "    list_metrics = np.array([np.array(Scores),np.array(Scores_null) ,np.array(Scores_perfect)])     \n",
    "    sum1 = list_metrics\n",
    "# довольно таки странная моя предыдушая запись\n",
    "#     sum1 = np.zeros((3,3))\n",
    "#     for i in range(len(list_metrics)):\n",
    "#         sum1 += list_metrics[i]\n",
    "    desc = ['Standart','LowFP','LowFN'] \n",
    "    for t in range(3):\n",
    "        print(desc[t],' - ', round(100*(sum1[0,t]-sum1[1,t])/(sum1[2,t]-sum1[1,t]),2))\n"
   ]
  },
  {
   "cell_type": "code",
   "execution_count": 11,
   "metadata": {},
   "outputs": [
    {
     "name": "stdout",
     "output_type": "stream",
     "text": [
      "Standart  -  94.5\n",
      "LowFP  -  89.0\n",
      "LowFN  -  96.33\n"
     ]
    }
   ],
   "source": [
    "evaluate_nab([[ind_start, ind_end]],data.anomaly)"
   ]
  },
  {
   "cell_type": "code",
   "execution_count": null,
   "metadata": {},
   "outputs": [],
   "source": []
  }
 ],
 "metadata": {
  "kernelspec": {
   "display_name": "Python 3",
   "language": "python",
   "name": "python3"
  },
  "language_info": {
   "codemirror_mode": {
    "name": "ipython",
    "version": 3
   },
   "file_extension": ".py",
   "mimetype": "text/x-python",
   "name": "python",
   "nbconvert_exporter": "python",
   "pygments_lexer": "ipython3",
   "version": "3.7.6"
  },
  "toc": {
   "base_numbering": 1,
   "nav_menu": {},
   "number_sections": true,
   "sideBar": true,
   "skip_h1_title": false,
   "title_cell": "Table of Contents",
   "title_sidebar": "Contents",
   "toc_cell": false,
   "toc_position": {},
   "toc_section_display": true,
   "toc_window_display": false
  }
 },
 "nbformat": 4,
 "nbformat_minor": 4
}
